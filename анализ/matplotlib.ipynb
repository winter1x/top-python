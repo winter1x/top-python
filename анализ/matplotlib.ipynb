{
  "cells": [
    {
      "cell_type": "markdown",
      "metadata": {
        "id": "5IztrB9U1vIg"
      },
      "source": [
        "## **Введение в визуализацию данных**"
      ]
    },
    {
      "cell_type": "markdown",
      "metadata": {
        "id": "Y_LK6TJE1vIs"
      },
      "source": [
        "### **Основы визуализации данных**"
      ]
    },
    {
      "cell_type": "markdown",
      "metadata": {
        "id": "gHzxPcH81vIt"
      },
      "source": [
        "**Визуализация данных** - это представление данных в **графическом** или **визуальном** формате (например, в виде графиков, диаграмм и т.д.) для облегчения их восприятия, анализа и интерпретации.\n",
        "\n",
        "**Основные задачи визуализации данных**:\n",
        "1) Упрощение восприятия сложной информации\n",
        "2) Выявление закономерностей и тенденций\n",
        "3) Принятие решений на основе данных\n",
        "4) Обнаружение аномалий\n",
        "5) Коммуникация и презентация идей"
      ]
    },
    {
      "cell_type": "markdown",
      "metadata": {
        "id": "Twi8WolK1vIv"
      },
      "source": [
        "В рамках данного урока мы будем работать с библиотекой `Matplotlib`."
      ]
    },
    {
      "cell_type": "markdown",
      "metadata": {
        "id": "-GA9MZt71vIw"
      },
      "source": [
        "### **Виды графиков**"
      ]
    },
    {
      "cell_type": "markdown",
      "metadata": {
        "id": "XhBmOf8_1vI2"
      },
      "source": [
        "#### **Линейные графики**"
      ]
    },
    {
      "cell_type": "markdown",
      "metadata": {
        "id": "1zNC0zj41vI2"
      },
      "source": [
        "**Линейные графики** используются для отображения данных по порядку или изменений с течением времени\n",
        "\n",
        "Пример - график температуры за неделю:\n",
        "\n",
        "![line_graph.png](attachment:line_graph.png)"
      ]
    },
    {
      "cell_type": "markdown",
      "metadata": {
        "id": "OdAjGLHw1vI3"
      },
      "source": [
        "#### **Столбчатые диаграммы**"
      ]
    },
    {
      "cell_type": "markdown",
      "metadata": {
        "id": "-aApHPKR1vI3"
      },
      "source": [
        "**Столбчатые диаграммы** используются для наглядного сравнения данных между категориями\n",
        "\n",
        "Пример - сравнение количества отзывов для разных игр:\n",
        "\n",
        "![bar_chart.png](attachment:bar_chart.png)"
      ]
    },
    {
      "cell_type": "markdown",
      "metadata": {
        "id": "8PClv0AL1vI9"
      },
      "source": [
        "#### **Круговые диаграммы**"
      ]
    },
    {
      "cell_type": "markdown",
      "metadata": {
        "id": "XTYTzM311vI-"
      },
      "source": [
        "**Круговые диаграммы** используются для наглядного представлений пропорций или долей, составляющих единое целое\n",
        "\n",
        "Пример - распределение свободного времени среди разных видов деятельности\n",
        "\n",
        "![pie_chart.png](attachment:pie_chart.png)\n"
      ]
    },
    {
      "cell_type": "markdown",
      "metadata": {
        "id": "Vc0XeoX31vJA"
      },
      "source": [
        "#### **Гистограммы**"
      ]
    },
    {
      "cell_type": "markdown",
      "metadata": {
        "id": "5rtkbcTB1vJA"
      },
      "source": [
        "**Гистограммы** используются для визуализации распределения данных. Они показывают, как данные распределены по **интервалам** и помогают понять **частоту появления** значений в этих интервалах.\n",
        "\n",
        "Гистограмма состоит из прямоугольных столбиков, где:\n",
        "- **Высота столбцов** показывает частоту (количество наблюдений) в соответствующем интервале\n",
        "- **Ширина столбцов** показывает диапазон значений интервала\n",
        "\n",
        "Пример - распределение оценок студентов на экзамене:\n",
        "\n",
        "![scores.png](attachment:scores.png)"
      ]
    },
    {
      "cell_type": "markdown",
      "metadata": {
        "id": "5z5fvQhU1vJB"
      },
      "source": [
        "#### **Точечные графики**"
      ]
    },
    {
      "cell_type": "markdown",
      "metadata": {
        "id": "NfmPpBNm1vJG"
      },
      "source": [
        "**Точечные графики** используются для визуализации **взаимосвязи** между двумя переменными. Они состоят из отдельных точек, где каждая точка на графике представляет одну наблюдаемую **пару значений**.\n",
        "\n",
        "Пример - зависимость количества часов, потраченных на подготовку, и полученной оценки на экзамене:\n",
        "\n",
        "![time_exam.png](attachment:time_exam.png)"
      ]
    },
    {
      "cell_type": "markdown",
      "metadata": {
        "id": "AB8RbMsf1vJG"
      },
      "source": [
        "#### **Сравнение графиков**"
      ]
    },
    {
      "cell_type": "markdown",
      "metadata": {
        "id": "qS-60KXM1vJH"
      },
      "source": [
        "| **Название**          | **Описание**                                 | **Когда лучше применять**                               |\n",
        "|-----------------------|----------------------------------------------|---------------------------------------------------------|\n",
        "| **Линейный график**   | Линия, соединяющая точки данных, отображает изменения или тренды | Для анализа трендов во времени, отслеживания изменений показателей или корреляции между переменными |\n",
        "| **Столбчатая диаграмма** | Набор вертикальных или горизонтальных столбцов, сравнивающих величины | Для сравнения категориальных данных (например, продажи по месяцам, рейтинг продуктов)                                  |\n",
        "| **Круговая диаграмма**| Круг, разделённый на сегменты, отображает долю каждой категории в общей сумме | Для демонстрации пропорций и долей, когда нужно показать состав целого (например, распределение бюджета)       |\n",
        "| **Гистограмма**       | Диаграмма, представляющая частотное распределение данных, где высота столбца показывает частоту| Для анализа распределения значений и выявления закономерностей|\n",
        "| **Точечный график**   | Набор точек на координатной плоскости, отображающих связь между двумя переменными | Для исследования взаимосвязей или корреляций между переменными (например, рост и вес, время и расстояние)              |\n"
      ]
    },
    {
      "cell_type": "markdown",
      "metadata": {
        "id": "Aq8fABy61vJH"
      },
      "source": [
        "### **Введение в Matplotlib**"
      ]
    },
    {
      "cell_type": "markdown",
      "metadata": {
        "id": "_qWXR_ze1vJM"
      },
      "source": [
        "https://matplotlib.org/ - сайт с официальной документацией"
      ]
    },
    {
      "cell_type": "code",
      "execution_count": 1,
      "metadata": {
        "id": "nIkjIJxN1vJN",
        "colab": {
          "base_uri": "https://localhost:8080/"
        },
        "outputId": "b8de03a3-2c90-4d8f-af86-a7b4154476e4"
      },
      "outputs": [
        {
          "output_type": "stream",
          "name": "stdout",
          "text": [
            "Requirement already satisfied: matplotlib in /usr/local/lib/python3.11/dist-packages (3.10.0)\n",
            "Requirement already satisfied: contourpy>=1.0.1 in /usr/local/lib/python3.11/dist-packages (from matplotlib) (1.3.1)\n",
            "Requirement already satisfied: cycler>=0.10 in /usr/local/lib/python3.11/dist-packages (from matplotlib) (0.12.1)\n",
            "Requirement already satisfied: fonttools>=4.22.0 in /usr/local/lib/python3.11/dist-packages (from matplotlib) (4.56.0)\n",
            "Requirement already satisfied: kiwisolver>=1.3.1 in /usr/local/lib/python3.11/dist-packages (from matplotlib) (1.4.8)\n",
            "Requirement already satisfied: numpy>=1.23 in /usr/local/lib/python3.11/dist-packages (from matplotlib) (1.26.4)\n",
            "Requirement already satisfied: packaging>=20.0 in /usr/local/lib/python3.11/dist-packages (from matplotlib) (24.2)\n",
            "Requirement already satisfied: pillow>=8 in /usr/local/lib/python3.11/dist-packages (from matplotlib) (11.1.0)\n",
            "Requirement already satisfied: pyparsing>=2.3.1 in /usr/local/lib/python3.11/dist-packages (from matplotlib) (3.2.1)\n",
            "Requirement already satisfied: python-dateutil>=2.7 in /usr/local/lib/python3.11/dist-packages (from matplotlib) (2.8.2)\n",
            "Requirement already satisfied: six>=1.5 in /usr/local/lib/python3.11/dist-packages (from python-dateutil>=2.7->matplotlib) (1.17.0)\n"
          ]
        }
      ],
      "source": [
        "%pip install matplotlib"
      ]
    },
    {
      "cell_type": "markdown",
      "metadata": {
        "id": "urLBV_AS1vJO"
      },
      "source": [
        "В `matplotlib` график строится **пошагово**:\n",
        "1) Готовим данные для визуализации\n",
        "2) Настраиваем оси и подписи\n",
        "3) Добавляем необходимые графические элементы\n",
        "4) Показываем график"
      ]
    },
    {
      "cell_type": "markdown",
      "metadata": {
        "id": "p6owmD2u1vJT"
      },
      "source": [
        "Для построения графиков будем использовать модуль `pyplot`, который является частью библиотеки `matplotlib`.\n",
        "\n",
        "Обычно при импортивании `matplotlib.pyplot` указывается псевдоним `plt`."
      ]
    },
    {
      "cell_type": "code",
      "execution_count": 2,
      "metadata": {
        "id": "qCZo5M0F1vJT"
      },
      "outputs": [],
      "source": [
        "import matplotlib.pyplot as plt"
      ]
    },
    {
      "cell_type": "code",
      "execution_count": 6,
      "metadata": {
        "id": "Ok3c1WfD1vJT"
      },
      "outputs": [],
      "source": [
        "# списки с точками для построения линейного графика\n",
        "x_nums = [1, 2, 3, 4, 5]\n",
        "y_nums = [1, 4, 9, 16, 25]"
      ]
    },
    {
      "cell_type": "markdown",
      "metadata": {
        "id": "eZK4Vs8w1vJU"
      },
      "source": [
        "#### **Основные функции для построения графика**"
      ]
    },
    {
      "cell_type": "markdown",
      "metadata": {
        "id": "YTohUCW81vJZ"
      },
      "source": [
        "Рассмотрим функции и их параметры, которые можно задавать при построении графика:"
      ]
    },
    {
      "cell_type": "markdown",
      "metadata": {
        "id": "EOeYYTtj1vJZ"
      },
      "source": [
        "`plt.plot()` - создание **линейных графиков**.\n",
        "- `label` - **название** линии на легенде графика\n",
        "- `marker` - отображение точек на графике с помощью специальных **маркеров**\n",
        "\n",
        "`plt.title()` - добавление **заголовка** графика\n",
        "\n",
        "`plt.xlabel()`, `plt.ylabel()` - отображение **подписей осей** X и Y соответственно\n",
        "\n",
        "`plt.legend()` - отображение **легенды**\n",
        "\n",
        "`plt.grid()` - отображение координатной **сетки**\n",
        "\n",
        "`plt.show()` - **демонстрация** визуализации"
      ]
    },
    {
      "cell_type": "code",
      "execution_count": 7,
      "metadata": {
        "id": "wlXcOJOS1vJa",
        "colab": {
          "base_uri": "https://localhost:8080/",
          "height": 472
        },
        "outputId": "d584f7b9-d24a-4b1d-8d27-6181300f0065"
      },
      "outputs": [
        {
          "output_type": "display_data",
          "data": {
            "text/plain": [
              "<Figure size 640x480 with 1 Axes>"
            ],
            "image/png": "[encoded data removed]"
          },
          "metadata": {}
        }
      ],
      "source": [
        "plt.plot(x_nums, y_nums, label='Линия 1', marker='o')\n",
        "\n",
        "plt.title('Линейный график')\n",
        "\n",
        "plt.xlabel(\"ось x\")\n",
        "plt.ylabel(\"ось y\")\n",
        "plt.legend()\n",
        "plt.grid(True)\n",
        "\n",
        "plt.show()\n",
        "\n"
      ]
    },
    {
      "cell_type": "markdown",
      "metadata": {
        "id": "DxGK2tyO1vJb"
      },
      "source": [
        "Построим графики функций `y = sin(x)` и `y = cos(x)`, одновременно отобразим их на координатной плоскости и посмотрим на дополнительные параметры настройки линейных графиков."
      ]
    },
    {
      "cell_type": "code",
      "execution_count": 8,
      "metadata": {
        "id": "_k0faoAm1vJb"
      },
      "outputs": [],
      "source": [
        "# подключаем numpy для получения значений функций y = sin(x) и y = cos(x)\n",
        "import numpy as np"
      ]
    },
    {
      "cell_type": "code",
      "execution_count": 9,
      "metadata": {
        "id": "feEW_jao1vJh",
        "colab": {
          "base_uri": "https://localhost:8080/"
        },
        "outputId": "d8d76a24-f4ba-4279-9b85-073a41483674"
      },
      "outputs": [
        {
          "output_type": "execute_result",
          "data": {
            "text/plain": [
              "array([ 0.        ,  0.1010101 ,  0.2020202 ,  0.3030303 ,  0.4040404 ,\n",
              "        0.50505051,  0.60606061,  0.70707071,  0.80808081,  0.90909091,\n",
              "        1.01010101,  1.11111111,  1.21212121,  1.31313131,  1.41414141,\n",
              "        1.51515152,  1.61616162,  1.71717172,  1.81818182,  1.91919192,\n",
              "        2.02020202,  2.12121212,  2.22222222,  2.32323232,  2.42424242,\n",
              "        2.52525253,  2.62626263,  2.72727273,  2.82828283,  2.92929293,\n",
              "        3.03030303,  3.13131313,  3.23232323,  3.33333333,  3.43434343,\n",
              "        3.53535354,  3.63636364,  3.73737374,  3.83838384,  3.93939394,\n",
              "        4.04040404,  4.14141414,  4.24242424,  4.34343434,  4.44444444,\n",
              "        4.54545455,  4.64646465,  4.74747475,  4.84848485,  4.94949495,\n",
              "        5.05050505,  5.15151515,  5.25252525,  5.35353535,  5.45454545,\n",
              "        5.55555556,  5.65656566,  5.75757576,  5.85858586,  5.95959596,\n",
              "        6.06060606,  6.16161616,  6.26262626,  6.36363636,  6.46464646,\n",
              "        6.56565657,  6.66666667,  6.76767677,  6.86868687,  6.96969697,\n",
              "        7.07070707,  7.17171717,  7.27272727,  7.37373737,  7.47474747,\n",
              "        7.57575758,  7.67676768,  7.77777778,  7.87878788,  7.97979798,\n",
              "        8.08080808,  8.18181818,  8.28282828,  8.38383838,  8.48484848,\n",
              "        8.58585859,  8.68686869,  8.78787879,  8.88888889,  8.98989899,\n",
              "        9.09090909,  9.19191919,  9.29292929,  9.39393939,  9.49494949,\n",
              "        9.5959596 ,  9.6969697 ,  9.7979798 ,  9.8989899 , 10.        ])"
            ]
          },
          "metadata": {},
          "execution_count": 9
        }
      ],
      "source": [
        "# генерируем 100 равномерно распределенных точек для оси X\n",
        "x = np.linspace(0, 10, 100)\n",
        "x"
      ]
    },
    {
      "cell_type": "code",
      "execution_count": 10,
      "metadata": {
        "id": "Wyk-Jr_g1vJl"
      },
      "outputs": [],
      "source": [
        "# создаем массивы со значениями синусов и косинусов\n",
        "y_sin = np.sin(x)\n",
        "y_cos = np.cos(x)"
      ]
    },
    {
      "cell_type": "markdown",
      "metadata": {
        "id": "0pPy_v0P1vJm"
      },
      "source": [
        "#### **Дополнительные функции для построения графика**"
      ]
    },
    {
      "cell_type": "markdown",
      "metadata": {
        "id": "78q2yohi1vJt"
      },
      "source": [
        "`plt.figure()` - функция, создающая **контейнер** для одного или нескольких графиков\n",
        "- Параметр `figsize` задает размер фигуры в **дюймах** (1 дюйм ≈ 2.54 см)\n",
        "\n",
        "Для функции `plt.plot`:\n",
        "- Параметр `color` отвечает за **цвет** линии\n",
        "- Параметр `linestyle` отвечает за **стиль** линии\n",
        "\n",
        "Параметр `fontsize` отвечает за **размер шрифта** текста"
      ]
    },
    {
      "cell_type": "code",
      "execution_count": 11,
      "metadata": {
        "id": "bH5kPGj-1vJz",
        "colab": {
          "base_uri": "https://localhost:8080/",
          "height": 546
        },
        "outputId": "53c0a434-3fa7-40fc-90b4-39fca51a2187"
      },
      "outputs": [
        {
          "output_type": "display_data",
          "data": {
            "text/plain": [
              "<Figure size 1000x600 with 1 Axes>"
            ],
            "image/png": "[encoded data removed]"
          },
          "metadata": {}
        }
      ],
      "source": [
        "# создаем фигуру размером 10 дюймов по горизонтали и 6 по вертикали\n",
        "plt.figure(figsize=(10, 6))\n",
        "# создаем линейные графики для синуса и косинуса\n",
        "plt.plot(x, y_sin, label='sin(x)', color='blue', linestyle='-')\n",
        "plt.plot(x, y_cos, label='cos(x)', color='red', linestyle='--')\n",
        "# настраиваем подписи\n",
        "plt.title('графики функций y = sin(x) и y = cos(x)')\n",
        "plt.xlabel(\"x\", fontsize=12)\n",
        "plt.ylabel(\"f(x)\", fontsize=12)\n",
        "plt.legend()\n",
        "\n",
        "# отображение сетки и графиков\n",
        "plt.grid(True)\n",
        "plt.show()"
      ]
    },
    {
      "cell_type": "markdown",
      "metadata": {
        "id": "iW49_MJd1vJ0"
      },
      "source": [
        "### **Подготовка РНД для анализа**"
      ]
    },
    {
      "cell_type": "markdown",
      "metadata": {
        "id": "ljbPUpS41vJ7"
      },
      "source": [
        "Подключим библиотеку `pandas` и **загрузим** данные из файла `steam_game_reviews_v2.csv` в программу."
      ]
    },
    {
      "cell_type": "code",
      "execution_count": 12,
      "metadata": {
        "id": "1wZuRhAO1vJ8"
      },
      "outputs": [],
      "source": [
        "import pandas as pd"
      ]
    },
    {
      "cell_type": "code",
      "execution_count": 13,
      "metadata": {
        "id": "dll808RH1vKR"
      },
      "outputs": [],
      "source": [
        "data = pd.read_csv('/content/steam_game_reviews_v2.csv')"
      ]
    },
    {
      "cell_type": "markdown",
      "metadata": {
        "id": "MjWRFrRb1vKS"
      },
      "source": [
        "Вспомним структуру файла с помощью функции `________`"
      ]
    },
    {
      "cell_type": "code",
      "execution_count": 14,
      "metadata": {
        "id": "dPQ-My0J1vKS",
        "colab": {
          "base_uri": "https://localhost:8080/"
        },
        "outputId": "464a19bc-fcc4-4831-8f0b-39544d788f1e"
      },
      "outputs": [
        {
          "output_type": "stream",
          "name": "stdout",
          "text": [
            "<class 'pandas.core.frame.DataFrame'>\n",
            "RangeIndex: 992153 entries, 0 to 992152\n",
            "Data columns (total 8 columns):\n",
            " #   Column          Non-Null Count   Dtype  \n",
            "---  ------          --------------   -----  \n",
            " 0   review          991650 non-null  object \n",
            " 1   hours_played    992153 non-null  float64\n",
            " 2   helpful         992153 non-null  int64  \n",
            " 3   funny           992153 non-null  int64  \n",
            " 4   recommendation  992153 non-null  object \n",
            " 5   date            992153 non-null  object \n",
            " 6   game_name       992153 non-null  object \n",
            " 7   username        992072 non-null  object \n",
            "dtypes: float64(1), int64(2), object(5)\n",
            "memory usage: 60.6+ MB\n"
          ]
        }
      ],
      "source": [
        "data.info()"
      ]
    },
    {
      "cell_type": "markdown",
      "metadata": {
        "id": "XMLMfMns1vKT"
      },
      "source": [
        "Помним, что в файле присутствуют **пропущенные** значения, которые могут мешать построению графиков. Посчитаем их с помощью конструкции `________` для каждого столбца."
      ]
    },
    {
      "cell_type": "code",
      "execution_count": 15,
      "metadata": {
        "id": "IUuSbUYz1vKp",
        "colab": {
          "base_uri": "https://localhost:8080/",
          "height": 335
        },
        "outputId": "243cc3da-32ba-4f62-89af-957d741da5ad"
      },
      "outputs": [
        {
          "output_type": "execute_result",
          "data": {
            "text/plain": [
              "review            503\n",
              "hours_played        0\n",
              "helpful             0\n",
              "funny               0\n",
              "recommendation      0\n",
              "date                0\n",
              "game_name           0\n",
              "username           81\n",
              "dtype: int64"
            ],
            "text/html": [
              "<div>\n",
              "<style scoped>\n",
              "    .dataframe tbody tr th:only-of-type {\n",
              "        vertical-align: middle;\n",
              "    }\n",
              "\n",
              "    .dataframe tbody tr th {\n",
              "        vertical-align: top;\n",
              "    }\n",
              "\n",
              "    .dataframe thead th {\n",
              "        text-align: right;\n",
              "    }\n",
              "</style>\n",
              "<table border=\"1\" class=\"dataframe\">\n",
              "  <thead>\n",
              "    <tr style=\"text-align: right;\">\n",
              "      <th></th>\n",
              "      <th>0</th>\n",
              "    </tr>\n",
              "  </thead>\n",
              "  <tbody>\n",
              "    <tr>\n",
              "      <th>review</th>\n",
              "      <td>503</td>\n",
              "    </tr>\n",
              "    <tr>\n",
              "      <th>hours_played</th>\n",
              "      <td>0</td>\n",
              "    </tr>\n",
              "    <tr>\n",
              "      <th>helpful</th>\n",
              "      <td>0</td>\n",
              "    </tr>\n",
              "    <tr>\n",
              "      <th>funny</th>\n",
              "      <td>0</td>\n",
              "    </tr>\n",
              "    <tr>\n",
              "      <th>recommendation</th>\n",
              "      <td>0</td>\n",
              "    </tr>\n",
              "    <tr>\n",
              "      <th>date</th>\n",
              "      <td>0</td>\n",
              "    </tr>\n",
              "    <tr>\n",
              "      <th>game_name</th>\n",
              "      <td>0</td>\n",
              "    </tr>\n",
              "    <tr>\n",
              "      <th>username</th>\n",
              "      <td>81</td>\n",
              "    </tr>\n",
              "  </tbody>\n",
              "</table>\n",
              "</div><br><label><b>dtype:</b> int64</label>"
            ]
          },
          "metadata": {},
          "execution_count": 15
        }
      ],
      "source": [
        "data.isnull().sum()"
      ]
    },
    {
      "cell_type": "code",
      "source": [
        "data.isna().sum()"
      ],
      "metadata": {
        "colab": {
          "base_uri": "https://localhost:8080/",
          "height": 335
        },
        "id": "h87MFQJg8R0x",
        "outputId": "0c9d78d3-eead-467f-954f-9b31ee0bc7dc"
      },
      "execution_count": 16,
      "outputs": [
        {
          "output_type": "execute_result",
          "data": {
            "text/plain": [
              "review            503\n",
              "hours_played        0\n",
              "helpful             0\n",
              "funny               0\n",
              "recommendation      0\n",
              "date                0\n",
              "game_name           0\n",
              "username           81\n",
              "dtype: int64"
            ],
            "text/html": [
              "<div>\n",
              "<style scoped>\n",
              "    .dataframe tbody tr th:only-of-type {\n",
              "        vertical-align: middle;\n",
              "    }\n",
              "\n",
              "    .dataframe tbody tr th {\n",
              "        vertical-align: top;\n",
              "    }\n",
              "\n",
              "    .dataframe thead th {\n",
              "        text-align: right;\n",
              "    }\n",
              "</style>\n",
              "<table border=\"1\" class=\"dataframe\">\n",
              "  <thead>\n",
              "    <tr style=\"text-align: right;\">\n",
              "      <th></th>\n",
              "      <th>0</th>\n",
              "    </tr>\n",
              "  </thead>\n",
              "  <tbody>\n",
              "    <tr>\n",
              "      <th>review</th>\n",
              "      <td>503</td>\n",
              "    </tr>\n",
              "    <tr>\n",
              "      <th>hours_played</th>\n",
              "      <td>0</td>\n",
              "    </tr>\n",
              "    <tr>\n",
              "      <th>helpful</th>\n",
              "      <td>0</td>\n",
              "    </tr>\n",
              "    <tr>\n",
              "      <th>funny</th>\n",
              "      <td>0</td>\n",
              "    </tr>\n",
              "    <tr>\n",
              "      <th>recommendation</th>\n",
              "      <td>0</td>\n",
              "    </tr>\n",
              "    <tr>\n",
              "      <th>date</th>\n",
              "      <td>0</td>\n",
              "    </tr>\n",
              "    <tr>\n",
              "      <th>game_name</th>\n",
              "      <td>0</td>\n",
              "    </tr>\n",
              "    <tr>\n",
              "      <th>username</th>\n",
              "      <td>81</td>\n",
              "    </tr>\n",
              "  </tbody>\n",
              "</table>\n",
              "</div><br><label><b>dtype:</b> int64</label>"
            ]
          },
          "metadata": {},
          "execution_count": 16
        }
      ]
    },
    {
      "cell_type": "code",
      "source": [
        "data.isna().sum()[data.isna().sum() > 0]"
      ],
      "metadata": {
        "id": "yGi3mZys8TYJ"
      },
      "execution_count": null,
      "outputs": []
    },
    {
      "cell_type": "code",
      "source": [
        "data.isnull().sum()[data.isnull().sum() > 0]"
      ],
      "metadata": {
        "colab": {
          "base_uri": "https://localhost:8080/",
          "height": 147
        },
        "id": "B97REC228Un5",
        "outputId": "d3102d16-4f32-4131-d56e-c7ba3e9633e9"
      },
      "execution_count": 17,
      "outputs": [
        {
          "output_type": "execute_result",
          "data": {
            "text/plain": [
              "review      503\n",
              "username     81\n",
              "dtype: int64"
            ],
            "text/html": [
              "<div>\n",
              "<style scoped>\n",
              "    .dataframe tbody tr th:only-of-type {\n",
              "        vertical-align: middle;\n",
              "    }\n",
              "\n",
              "    .dataframe tbody tr th {\n",
              "        vertical-align: top;\n",
              "    }\n",
              "\n",
              "    .dataframe thead th {\n",
              "        text-align: right;\n",
              "    }\n",
              "</style>\n",
              "<table border=\"1\" class=\"dataframe\">\n",
              "  <thead>\n",
              "    <tr style=\"text-align: right;\">\n",
              "      <th></th>\n",
              "      <th>0</th>\n",
              "    </tr>\n",
              "  </thead>\n",
              "  <tbody>\n",
              "    <tr>\n",
              "      <th>review</th>\n",
              "      <td>503</td>\n",
              "    </tr>\n",
              "    <tr>\n",
              "      <th>username</th>\n",
              "      <td>81</td>\n",
              "    </tr>\n",
              "  </tbody>\n",
              "</table>\n",
              "</div><br><label><b>dtype:</b> int64</label>"
            ]
          },
          "metadata": {},
          "execution_count": 17
        }
      ]
    },
    {
      "cell_type": "markdown",
      "metadata": {
        "id": "1yPQTJsM1vKp"
      },
      "source": [
        "Удалим строки с пропусками при помощи метода `________`"
      ]
    },
    {
      "cell_type": "code",
      "execution_count": 18,
      "metadata": {
        "id": "77C8nb7z1vKp"
      },
      "outputs": [],
      "source": [
        "data.dropna(inplace=True)"
      ]
    },
    {
      "cell_type": "markdown",
      "metadata": {
        "id": "ex9zVGsZ1vKq"
      },
      "source": [
        "Запустим заново ячейку с кодом `________` и увидим, что ..."
      ]
    },
    {
      "cell_type": "markdown",
      "metadata": {
        "id": "DZO7sk-z1vKw"
      },
      "source": [
        "### **Построение графиков для РНД**"
      ]
    },
    {
      "cell_type": "markdown",
      "metadata": {
        "id": "i5punxLe1vKw"
      },
      "source": [
        "#### **1. Линейный график**"
      ]
    },
    {
      "cell_type": "markdown",
      "metadata": {
        "id": "hqrOvkVp1vKx"
      },
      "source": [
        "Постройте линейный график, где на оси `Х` располагаются **даты отзыва** для игры **Subnautica** за **2015** год, на оси `Y` - средние значения полезности отзывов, сгруппированные по дате."
      ]
    },
    {
      "cell_type": "markdown",
      "metadata": {
        "id": "HXZNQvKD1vKx"
      },
      "source": [
        "Отдельно сохраним данные только по игре **Subnautica**"
      ]
    },
    {
      "cell_type": "code",
      "execution_count": 19,
      "metadata": {
        "id": "FeURNsXu1vK3"
      },
      "outputs": [],
      "source": [
        "df_Subnautica = data[data['game_name'] == \"Subnautica\"]"
      ]
    },
    {
      "cell_type": "markdown",
      "metadata": {
        "id": "d4KG952W1vK4"
      },
      "source": [
        "Преобразуем даты в единый формат `YYYY-MM-DD` с помощью знакомой функции pd.to_datetime()"
      ]
    },
    {
      "cell_type": "code",
      "execution_count": 20,
      "metadata": {
        "id": "6b4uP4vO1vK4",
        "colab": {
          "base_uri": "https://localhost:8080/"
        },
        "outputId": "6716396f-7e26-4fa5-9504-f0a5c13e981a"
      },
      "outputs": [
        {
          "output_type": "stream",
          "name": "stderr",
          "text": [
            "<ipython-input-20-c16cb79710c1>:1: SettingWithCopyWarning: \n",
            "A value is trying to be set on a copy of a slice from a DataFrame.\n",
            "Try using .loc[row_indexer,col_indexer] = value instead\n",
            "\n",
            "See the caveats in the documentation: https://pandas.pydata.org/pandas-docs/stable/user_guide/indexing.html#returning-a-view-versus-a-copy\n",
            "  df_Subnautica['date'] = pd.to_datetime(df_Subnautica['date'], format=\"mixed\", errors='coerce')\n"
          ]
        }
      ],
      "source": [
        "df_Subnautica['date'] = pd.to_datetime(df_Subnautica['date'], format=\"mixed\", errors='coerce')"
      ]
    },
    {
      "cell_type": "markdown",
      "metadata": {
        "id": "cCKlkA8y1vK5"
      },
      "source": [
        "**Удалим** все пропущенные значения, появившиеся после преобразования дат"
      ]
    },
    {
      "cell_type": "code",
      "execution_count": 21,
      "metadata": {
        "id": "CsWhW8gz1vK_",
        "colab": {
          "base_uri": "https://localhost:8080/"
        },
        "outputId": "f7e286a2-6241-4574-c079-962d5cb3347a"
      },
      "outputs": [
        {
          "output_type": "stream",
          "name": "stderr",
          "text": [
            "<ipython-input-21-0dd6a9f7b05b>:1: SettingWithCopyWarning: \n",
            "A value is trying to be set on a copy of a slice from a DataFrame\n",
            "\n",
            "See the caveats in the documentation: https://pandas.pydata.org/pandas-docs/stable/user_guide/indexing.html#returning-a-view-versus-a-copy\n",
            "  df_Subnautica.dropna(inplace=True)\n"
          ]
        }
      ],
      "source": [
        "df_Subnautica.dropna(inplace=True)"
      ]
    },
    {
      "cell_type": "code",
      "source": [
        "df_Subnautica"
      ],
      "metadata": {
        "colab": {
          "base_uri": "https://localhost:8080/",
          "height": 1000
        },
        "id": "qd7T-Wne-Fl5",
        "outputId": "f2f0af68-e2c3-4d0e-e3a8-2fe80670679c"
      },
      "execution_count": 22,
      "outputs": [
        {
          "output_type": "execute_result",
          "data": {
            "text/plain": [
              "                                                   review  hours_played  \\\n",
              "298031  2018 Early Access Review It's hard to overstat...          92.9   \n",
              "298032  2020 I just wish I could experience this game ...          30.5   \n",
              "298033  2023 If I could wish for one thing, it would b...         433.3   \n",
              "298034  2022 Go into it as blind as possible, the less...         204.9   \n",
              "298035  2019 I was sad when I finished this game. I do...          30.4   \n",
              "...                                                   ...           ...   \n",
              "303006  2019 Product received for free As someone who ...          90.0   \n",
              "303007  2019 Its equal parts horribly frustrating and ...          46.4   \n",
              "303008  2018 Subnautica is a first-person, open world,...         212.5   \n",
              "303009  2018 well where should i start with the pricin...          26.3   \n",
              "303010  2018 The single best survival game out there.-...         126.1   \n",
              "\n",
              "        helpful  funny recommendation       date   game_name  \\\n",
              "298031     2440     60    Recommended 2018-01-01  Subnautica   \n",
              "298032      736     15    Recommended 2020-12-23  Subnautica   \n",
              "298033      362     12    Recommended 2023-09-24  Subnautica   \n",
              "298034      553     11    Recommended 2022-04-23  Subnautica   \n",
              "298035      822     24    Recommended 2019-01-14  Subnautica   \n",
              "...         ...    ...            ...        ...         ...   \n",
              "303006        2      0    Recommended 2019-01-19  Subnautica   \n",
              "303007        2      0    Recommended 2019-01-09  Subnautica   \n",
              "303008        2      0    Recommended 2018-11-24  Subnautica   \n",
              "303009        2      1    Recommended 2018-11-25  Subnautica   \n",
              "303010        2      0    Recommended 2018-11-22  Subnautica   \n",
              "\n",
              "                                      username  \n",
              "298031         Blaine\\n441 products in account  \n",
              "298032                                 JCriziz  \n",
              "298033                                   Slice  \n",
              "298034        Momnoon\\n579 products in account  \n",
              "298035  chewbaccasdad\\n534 products in account  \n",
              "...                                        ...  \n",
              "303006         Chansi\\n184 products in account  \n",
              "303007        Lupollo\\n627 products in account  \n",
              "303008      hazchem44\\n235 products in account  \n",
              "303009   Brennisteinn\\n377 products in account  \n",
              "303010                                zztopFLO  \n",
              "\n",
              "[4782 rows x 8 columns]"
            ],
            "text/html": [
              "\n",
              "  <div id=\"df-000659de-4489-47d5-ab6e-6d58dcbad8b2\" class=\"colab-df-container\">\n",
              "    <div>\n",
              "<style scoped>\n",
              "    .dataframe tbody tr th:only-of-type {\n",
              "        vertical-align: middle;\n",
              "    }\n",
              "\n",
              "    .dataframe tbody tr th {\n",
              "        vertical-align: top;\n",
              "    }\n",
              "\n",
              "    .dataframe thead th {\n",
              "        text-align: right;\n",
              "    }\n",
              "</style>\n",
              "<table border=\"1\" class=\"dataframe\">\n",
              "  <thead>\n",
              "    <tr style=\"text-align: right;\">\n",
              "      <th></th>\n",
              "      <th>review</th>\n",
              "      <th>hours_played</th>\n",
              "      <th>helpful</th>\n",
              "      <th>funny</th>\n",
              "      <th>recommendation</th>\n",
              "      <th>date</th>\n",
              "      <th>game_name</th>\n",
              "      <th>username</th>\n",
              "    </tr>\n",
              "  </thead>\n",
              "  <tbody>\n",
              "    <tr>\n",
              "      <th>298031</th>\n",
              "      <td>2018 Early Access Review It's hard to overstat...</td>\n",
              "      <td>92.9</td>\n",
              "      <td>2440</td>\n",
              "      <td>60</td>\n",
              "      <td>Recommended</td>\n",
              "      <td>2018-01-01</td>\n",
              "      <td>Subnautica</td>\n",
              "      <td>Blaine\\n441 products in account</td>\n",
              "    </tr>\n",
              "    <tr>\n",
              "      <th>298032</th>\n",
              "      <td>2020 I just wish I could experience this game ...</td>\n",
              "      <td>30.5</td>\n",
              "      <td>736</td>\n",
              "      <td>15</td>\n",
              "      <td>Recommended</td>\n",
              "      <td>2020-12-23</td>\n",
              "      <td>Subnautica</td>\n",
              "      <td>JCriziz</td>\n",
              "    </tr>\n",
              "    <tr>\n",
              "      <th>298033</th>\n",
              "      <td>2023 If I could wish for one thing, it would b...</td>\n",
              "      <td>433.3</td>\n",
              "      <td>362</td>\n",
              "      <td>12</td>\n",
              "      <td>Recommended</td>\n",
              "      <td>2023-09-24</td>\n",
              "      <td>Subnautica</td>\n",
              "      <td>Slice</td>\n",
              "    </tr>\n",
              "    <tr>\n",
              "      <th>298034</th>\n",
              "      <td>2022 Go into it as blind as possible, the less...</td>\n",
              "      <td>204.9</td>\n",
              "      <td>553</td>\n",
              "      <td>11</td>\n",
              "      <td>Recommended</td>\n",
              "      <td>2022-04-23</td>\n",
              "      <td>Subnautica</td>\n",
              "      <td>Momnoon\\n579 products in account</td>\n",
              "    </tr>\n",
              "    <tr>\n",
              "      <th>298035</th>\n",
              "      <td>2019 I was sad when I finished this game. I do...</td>\n",
              "      <td>30.4</td>\n",
              "      <td>822</td>\n",
              "      <td>24</td>\n",
              "      <td>Recommended</td>\n",
              "      <td>2019-01-14</td>\n",
              "      <td>Subnautica</td>\n",
              "      <td>chewbaccasdad\\n534 products in account</td>\n",
              "    </tr>\n",
              "    <tr>\n",
              "      <th>...</th>\n",
              "      <td>...</td>\n",
              "      <td>...</td>\n",
              "      <td>...</td>\n",
              "      <td>...</td>\n",
              "      <td>...</td>\n",
              "      <td>...</td>\n",
              "      <td>...</td>\n",
              "      <td>...</td>\n",
              "    </tr>\n",
              "    <tr>\n",
              "      <th>303006</th>\n",
              "      <td>2019 Product received for free As someone who ...</td>\n",
              "      <td>90.0</td>\n",
              "      <td>2</td>\n",
              "      <td>0</td>\n",
              "      <td>Recommended</td>\n",
              "      <td>2019-01-19</td>\n",
              "      <td>Subnautica</td>\n",
              "      <td>Chansi\\n184 products in account</td>\n",
              "    </tr>\n",
              "    <tr>\n",
              "      <th>303007</th>\n",
              "      <td>2019 Its equal parts horribly frustrating and ...</td>\n",
              "      <td>46.4</td>\n",
              "      <td>2</td>\n",
              "      <td>0</td>\n",
              "      <td>Recommended</td>\n",
              "      <td>2019-01-09</td>\n",
              "      <td>Subnautica</td>\n",
              "      <td>Lupollo\\n627 products in account</td>\n",
              "    </tr>\n",
              "    <tr>\n",
              "      <th>303008</th>\n",
              "      <td>2018 Subnautica is a first-person, open world,...</td>\n",
              "      <td>212.5</td>\n",
              "      <td>2</td>\n",
              "      <td>0</td>\n",
              "      <td>Recommended</td>\n",
              "      <td>2018-11-24</td>\n",
              "      <td>Subnautica</td>\n",
              "      <td>hazchem44\\n235 products in account</td>\n",
              "    </tr>\n",
              "    <tr>\n",
              "      <th>303009</th>\n",
              "      <td>2018 well where should i start with the pricin...</td>\n",
              "      <td>26.3</td>\n",
              "      <td>2</td>\n",
              "      <td>1</td>\n",
              "      <td>Recommended</td>\n",
              "      <td>2018-11-25</td>\n",
              "      <td>Subnautica</td>\n",
              "      <td>Brennisteinn\\n377 products in account</td>\n",
              "    </tr>\n",
              "    <tr>\n",
              "      <th>303010</th>\n",
              "      <td>2018 The single best survival game out there.-...</td>\n",
              "      <td>126.1</td>\n",
              "      <td>2</td>\n",
              "      <td>0</td>\n",
              "      <td>Recommended</td>\n",
              "      <td>2018-11-22</td>\n",
              "      <td>Subnautica</td>\n",
              "      <td>zztopFLO</td>\n",
              "    </tr>\n",
              "  </tbody>\n",
              "</table>\n",
              "<p>4782 rows × 8 columns</p>\n",
              "</div>\n",
              "    <div class=\"colab-df-buttons\">\n",
              "\n",
              "  <div class=\"colab-df-container\">\n",
              "    <button class=\"colab-df-convert\" onclick=\"convertToInteractive('df-000659de-4489-47d5-ab6e-6d58dcbad8b2')\"\n",
              "            title=\"Convert this dataframe to an interactive table.\"\n",
              "            style=\"display:none;\">\n",
              "\n",
              "  <svg xmlns=\"http://www.w3.org/2000/svg\" height=\"24px\" viewBox=\"0 -960 960 960\">\n",
              "    <path d=\"M120-120v-720h720v720H120Zm60-500h600v-160H180v160Zm220 220h160v-160H400v160Zm0 220h160v-160H400v160ZM180-400h160v-160H180v160Zm440 0h160v-160H620v160ZM180-180h160v-160H180v160Zm440 0h160v-160H620v160Z\"/>\n",
              "  </svg>\n",
              "    </button>\n",
              "\n",
              "  <style>\n",
              "    .colab-df-container {\n",
              "      display:flex;\n",
              "      gap: 12px;\n",
              "    }\n",
              "\n",
              "    .colab-df-convert {\n",
              "      background-color: #E8F0FE;\n",
              "      border: none;\n",
              "      border-radius: 50%;\n",
              "      cursor: pointer;\n",
              "      display: none;\n",
              "      fill: #1967D2;\n",
              "      height: 32px;\n",
              "      padding: 0 0 0 0;\n",
              "      width: 32px;\n",
              "    }\n",
              "\n",
              "    .colab-df-convert:hover {\n",
              "      background-color: #E2EBFA;\n",
              "      box-shadow: 0px 1px 2px rgba(60, 64, 67, 0.3), 0px 1px 3px 1px rgba(60, 64, 67, 0.15);\n",
              "      fill: #174EA6;\n",
              "    }\n",
              "\n",
              "    .colab-df-buttons div {\n",
              "      margin-bottom: 4px;\n",
              "    }\n",
              "\n",
              "    [theme=dark] .colab-df-convert {\n",
              "      background-color: #3B4455;\n",
              "      fill: #D2E3FC;\n",
              "    }\n",
              "\n",
              "    [theme=dark] .colab-df-convert:hover {\n",
              "      background-color: #434B5C;\n",
              "      box-shadow: 0px 1px 3px 1px rgba(0, 0, 0, 0.15);\n",
              "      filter: drop-shadow(0px 1px 2px rgba(0, 0, 0, 0.3));\n",
              "      fill: #FFFFFF;\n",
              "    }\n",
              "  </style>\n",
              "\n",
              "    <script>\n",
              "      const buttonEl =\n",
              "        document.querySelector('#df-000659de-4489-47d5-ab6e-6d58dcbad8b2 button.colab-df-convert');\n",
              "      buttonEl.style.display =\n",
              "        google.colab.kernel.accessAllowed ? 'block' : 'none';\n",
              "\n",
              "      async function convertToInteractive(key) {\n",
              "        const element = document.querySelector('#df-000659de-4489-47d5-ab6e-6d58dcbad8b2');\n",
              "        const dataTable =\n",
              "          await google.colab.kernel.invokeFunction('convertToInteractive',\n",
              "                                                    [key], {});\n",
              "        if (!dataTable) return;\n",
              "\n",
              "        const docLinkHtml = 'Like what you see? Visit the ' +\n",
              "          '<a target=\"_blank\" href=https://colab.research.google.com/notebooks/data_table.ipynb>data table notebook</a>'\n",
              "          + ' to learn more about interactive tables.';\n",
              "        element.innerHTML = '';\n",
              "        dataTable['output_type'] = 'display_data';\n",
              "        await google.colab.output.renderOutput(dataTable, element);\n",
              "        const docLink = document.createElement('div');\n",
              "        docLink.innerHTML = docLinkHtml;\n",
              "        element.appendChild(docLink);\n",
              "      }\n",
              "    </script>\n",
              "  </div>\n",
              "\n",
              "\n",
              "<div id=\"df-489a2977-bb49-414b-9324-d6862cf934ac\">\n",
              "  <button class=\"colab-df-quickchart\" onclick=\"quickchart('df-489a2977-bb49-414b-9324-d6862cf934ac')\"\n",
              "            title=\"Suggest charts\"\n",
              "            style=\"display:none;\">\n",
              "\n",
              "<svg xmlns=\"http://www.w3.org/2000/svg\" height=\"24px\"viewBox=\"0 0 24 24\"\n",
              "     width=\"24px\">\n",
              "    <g>\n",
              "        <path d=\"M19 3H5c-1.1 0-2 .9-2 2v14c0 1.1.9 2 2 2h14c1.1 0 2-.9 2-2V5c0-1.1-.9-2-2-2zM9 17H7v-7h2v7zm4 0h-2V7h2v10zm4 0h-2v-4h2v4z\"/>\n",
              "    </g>\n",
              "</svg>\n",
              "  </button>\n",
              "\n",
              "<style>\n",
              "  .colab-df-quickchart {\n",
              "      --bg-color: #E8F0FE;\n",
              "      --fill-color: #1967D2;\n",
              "      --hover-bg-color: #E2EBFA;\n",
              "      --hover-fill-color: #174EA6;\n",
              "      --disabled-fill-color: #AAA;\n",
              "      --disabled-bg-color: #DDD;\n",
              "  }\n",
              "\n",
              "  [theme=dark] .colab-df-quickchart {\n",
              "      --bg-color: #3B4455;\n",
              "      --fill-color: #D2E3FC;\n",
              "      --hover-bg-color: #434B5C;\n",
              "      --hover-fill-color: #FFFFFF;\n",
              "      --disabled-bg-color: #3B4455;\n",
              "      --disabled-fill-color: #666;\n",
              "  }\n",
              "\n",
              "  .colab-df-quickchart {\n",
              "    background-color: var(--bg-color);\n",
              "    border: none;\n",
              "    border-radius: 50%;\n",
              "    cursor: pointer;\n",
              "    display: none;\n",
              "    fill: var(--fill-color);\n",
              "    height: 32px;\n",
              "    padding: 0;\n",
              "    width: 32px;\n",
              "  }\n",
              "\n",
              "  .colab-df-quickchart:hover {\n",
              "    background-color: var(--hover-bg-color);\n",
              "    box-shadow: 0 1px 2px rgba(60, 64, 67, 0.3), 0 1px 3px 1px rgba(60, 64, 67, 0.15);\n",
              "    fill: var(--button-hover-fill-color);\n",
              "  }\n",
              "\n",
              "  .colab-df-quickchart-complete:disabled,\n",
              "  .colab-df-quickchart-complete:disabled:hover {\n",
              "    background-color: var(--disabled-bg-color);\n",
              "    fill: var(--disabled-fill-color);\n",
              "    box-shadow: none;\n",
              "  }\n",
              "\n",
              "  .colab-df-spinner {\n",
              "    border: 2px solid var(--fill-color);\n",
              "    border-color: transparent;\n",
              "    border-bottom-color: var(--fill-color);\n",
              "    animation:\n",
              "      spin 1s steps(1) infinite;\n",
              "  }\n",
              "\n",
              "  @keyframes spin {\n",
              "    0% {\n",
              "      border-color: transparent;\n",
              "      border-bottom-color: var(--fill-color);\n",
              "      border-left-color: var(--fill-color);\n",
              "    }\n",
              "    20% {\n",
              "      border-color: transparent;\n",
              "      border-left-color: var(--fill-color);\n",
              "      border-top-color: var(--fill-color);\n",
              "    }\n",
              "    30% {\n",
              "      border-color: transparent;\n",
              "      border-left-color: var(--fill-color);\n",
              "      border-top-color: var(--fill-color);\n",
              "      border-right-color: var(--fill-color);\n",
              "    }\n",
              "    40% {\n",
              "      border-color: transparent;\n",
              "      border-right-color: var(--fill-color);\n",
              "      border-top-color: var(--fill-color);\n",
              "    }\n",
              "    60% {\n",
              "      border-color: transparent;\n",
              "      border-right-color: var(--fill-color);\n",
              "    }\n",
              "    80% {\n",
              "      border-color: transparent;\n",
              "      border-right-color: var(--fill-color);\n",
              "      border-bottom-color: var(--fill-color);\n",
              "    }\n",
              "    90% {\n",
              "      border-color: transparent;\n",
              "      border-bottom-color: var(--fill-color);\n",
              "    }\n",
              "  }\n",
              "</style>\n",
              "\n",
              "  <script>\n",
              "    async function quickchart(key) {\n",
              "      const quickchartButtonEl =\n",
              "        document.querySelector('#' + key + ' button');\n",
              "      quickchartButtonEl.disabled = true;  // To prevent multiple clicks.\n",
              "      quickchartButtonEl.classList.add('colab-df-spinner');\n",
              "      try {\n",
              "        const charts = await google.colab.kernel.invokeFunction(\n",
              "            'suggestCharts', [key], {});\n",
              "      } catch (error) {\n",
              "        console.error('Error during call to suggestCharts:', error);\n",
              "      }\n",
              "      quickchartButtonEl.classList.remove('colab-df-spinner');\n",
              "      quickchartButtonEl.classList.add('colab-df-quickchart-complete');\n",
              "    }\n",
              "    (() => {\n",
              "      let quickchartButtonEl =\n",
              "        document.querySelector('#df-489a2977-bb49-414b-9324-d6862cf934ac button');\n",
              "      quickchartButtonEl.style.display =\n",
              "        google.colab.kernel.accessAllowed ? 'block' : 'none';\n",
              "    })();\n",
              "  </script>\n",
              "</div>\n",
              "    </div>\n",
              "  </div>\n"
            ],
            "application/vnd.google.colaboratory.intrinsic+json": {
              "type": "dataframe",
              "variable_name": "df_Subnautica",
              "summary": "{\n  \"name\": \"df_Subnautica\",\n  \"rows\": 4782,\n  \"fields\": [\n    {\n      \"column\": \"review\",\n      \"properties\": {\n        \"dtype\": \"string\",\n        \"num_unique_values\": 4730,\n        \"samples\": [\n          \"2016 Early Access Review ye\",\n          \"2018 Simply an amazing but terrifying game After playing the game for a little while, all I can say is that it really is a survival game done right. It is beautiful and at the same time extremely terrifying. Right of the start, you get put in a beautiful biome booming with sea life but as soon as you venture a little bit further out, you suddenly find yourself among creatures aiming to kill you.The game gives you a great sense of exploration as there are loads of things to discover. The game really manages to pull you in through its gameplay mechanics, for example you unlock a new recipe, neat! You then go on a hunt for the resources to craft the item and after you craft it you unlock more items to find or more opportunities to find new recipes and items.The game features a rather simplistic but fun story that takes you to some nice parts of the game.If you're a fan of little \\\"immersion\\\" features like me, this game has loads of it. Things like being able to sit in chairs, the ability to close every door, the ability to dock your vehicles, the ability to turn off the lights and engine of your vehicle (The Cyclops).All-in-all, if you are a fan of survival games I would highly recommend this game and I'd say it is definitely worth it's full price.Pros Good graphics. Amazing music/sound effects. Great sense of exploration. Good crafting system. Terrifying at times. A lot of little \\\"immersion\\\" features. Good flow in gameplay.Cons Can be a bit buggy. (Developers seem to work on these pretty actively though). Some parts of the game are a little vague and thus require you to visit the wiki unless you want to spend a long time finding it on your own. And I wish you all good luck with the Reaper and Ghost leviathans\",\n          \"2021 ---{Graphics}---\\u2610 You forget what reality is\\u2611 Beautiful\\u2610 Good\\u2610 Decent\\u2610 Bad\\u2610 Don\\u2018t look too long at it\\u2610 Paint.exe---{Gameplay}---\\u2610 Very good\\u2611 Good\\u2610 It\\u2018s just gameplay\\u2610 Mehh\\u2610 Starring at walls is better\\u2610 Just don\\u2018t---{Audio}---\\u2611 Eargasm\\u2610 Very good\\u2610 Good\\u2610 Not too bad\\u2610 Bad\\u2610 Earrape---{Audience}---\\u2610 Kids\\u2611 Teens\\u2611 Adults\\u2610 Human\\u2610 Lizards---{PC Requirements}---\\u2610 Check if you can run paint\\u2610 Potato\\u2611 Decent\\u2610 Fast\\u2610 Rich boiiiiii\\u2610 Ask NASA if they have a spare computer---{Difficulity}---\\u2610 Just press \\u201aA\\u2018\\u2610 Easy\\u2611 Significant brain usage\\u2610 Easy to learn / Hard to master\\u2610 Difficult\\u2610 Dark Souls---{Grind}---\\u2610 Nothing to grind\\u2610 Only if u care about leaderboards/ranks\\u2610 Isnt necessary to progress\\u2611 A little grind in the lategame\\u2610 Average grind level\\u2610 Too much grind\\u2610 You\\u2018ll need a second live for grinding---{Story}---\\u2610 Story?\\u2610 Text or Audio floating around\\u2611 Average\\u2610 Good\\u2610 Lovely\\u2610 It\\u2018ll replace your life---{Game Time}---\\u2610 Long enough for a cup of coffee\\u2610 Short\\u2611 Average\\u2610 Long\\u2610 To infinity and beyond---{Price}---\\u2610 It\\u2019s free!\\u2611 Worth the price\\u2610 If u have some spare money left\\u2610 Not recommended\\u2610 You could also just burn your money---{Bugs}---\\u2611 Never heard of\\u2610 Minor bugs\\u2610 Can get annoying\\u2610 ARK: Survival Evolved\\u2610 The game itself is a big terrarium for bugs---{Summary}------ 9/10 ---Would have been a 10/10 but, for me personally, the lategame is a little too much back and forth.But everything else is just great!Try it out you won't regret it!\"\n        ],\n        \"semantic_type\": \"\",\n        \"description\": \"\"\n      }\n    },\n    {\n      \"column\": \"hours_played\",\n      \"properties\": {\n        \"dtype\": \"number\",\n        \"std\": 678.8076224679089,\n        \"min\": 0.2,\n        \"max\": 34338.7,\n        \"num_unique_values\": 2126,\n        \"samples\": [\n          161.4,\n          76.0,\n          103.6\n        ],\n        \"semantic_type\": \"\",\n        \"description\": \"\"\n      }\n    },\n    {\n      \"column\": \"helpful\",\n      \"properties\": {\n        \"dtype\": \"number\",\n        \"std\": 140,\n        \"min\": 0,\n        \"max\": 6348,\n        \"num_unique_values\": 313,\n        \"samples\": [\n          172,\n          724,\n          61\n        ],\n        \"semantic_type\": \"\",\n        \"description\": \"\"\n      }\n    },\n    {\n      \"column\": \"funny\",\n      \"properties\": {\n        \"dtype\": \"number\",\n        \"std\": 94,\n        \"min\": 0,\n        \"max\": 2789,\n        \"num_unique_values\": 184,\n        \"samples\": [\n          22,\n          305,\n          1145\n        ],\n        \"semantic_type\": \"\",\n        \"description\": \"\"\n      }\n    },\n    {\n      \"column\": \"recommendation\",\n      \"properties\": {\n        \"dtype\": \"category\",\n        \"num_unique_values\": 2,\n        \"samples\": [\n          \"Not Recommended\",\n          \"Recommended\"\n        ],\n        \"semantic_type\": \"\",\n        \"description\": \"\"\n      }\n    },\n    {\n      \"column\": \"date\",\n      \"properties\": {\n        \"dtype\": \"date\",\n        \"min\": \"2014-12-16 00:00:00\",\n        \"max\": \"2023-12-31 00:00:00\",\n        \"num_unique_values\": 2171,\n        \"samples\": [\n          \"2023-05-31 00:00:00\",\n          \"2017-09-11 00:00:00\"\n        ],\n        \"semantic_type\": \"\",\n        \"description\": \"\"\n      }\n    },\n    {\n      \"column\": \"game_name\",\n      \"properties\": {\n        \"dtype\": \"category\",\n        \"num_unique_values\": 1,\n        \"samples\": [\n          \"Subnautica\"\n        ],\n        \"semantic_type\": \"\",\n        \"description\": \"\"\n      }\n    },\n    {\n      \"column\": \"username\",\n      \"properties\": {\n        \"dtype\": \"string\",\n        \"num_unique_values\": 4776,\n        \"samples\": [\n          \"Parallacks\\n7,269 products in account\"\n        ],\n        \"semantic_type\": \"\",\n        \"description\": \"\"\n      }\n    }\n  ]\n}"
            }
          },
          "metadata": {},
          "execution_count": 22
        }
      ]
    },
    {
      "cell_type": "markdown",
      "metadata": {
        "id": "0Mzhod5E1vK_"
      },
      "source": [
        "Оставим данные только за 2015 год при помощи свойства dt.year"
      ]
    },
    {
      "cell_type": "code",
      "execution_count": 23,
      "metadata": {
        "id": "j11GCpGy1vLA",
        "colab": {
          "base_uri": "https://localhost:8080/",
          "height": 1000
        },
        "outputId": "60ee239c-22b3-4bfd-91df-51b5de646b96"
      },
      "outputs": [
        {
          "output_type": "execute_result",
          "data": {
            "text/plain": [
              "                                                   review  hours_played  \\\n",
              "298036  2015 Early Access Review I used to be a SCUBA ...         784.4   \n",
              "298037  2015 Early Access Review Everyone talks about ...         217.0   \n",
              "298064  2015 Early Access Review As a marine biologist...          65.5   \n",
              "298079  2015 Early Access Review I have been burned by...          32.1   \n",
              "298106  2015 Early Access Review First off this is a g...          10.8   \n",
              "...                                                   ...           ...   \n",
              "302829  2015 Early Access Review Loving this game. So ...         681.1   \n",
              "302830  2015 If anyone tells you this game isn't scary...         219.0   \n",
              "302902                      2015 Early Access Review suck          38.6   \n",
              "302917  2015 Early Access Review Great game! The devs ...         349.0   \n",
              "302939  2015 Early Access Review Still in Early access...         139.9   \n",
              "\n",
              "        helpful  funny recommendation       date   game_name  \\\n",
              "298036     1424     71    Recommended 2015-04-16  Subnautica   \n",
              "298037      785    115    Recommended 2015-12-26  Subnautica   \n",
              "298064      262     12    Recommended 2015-02-02  Subnautica   \n",
              "298079      202     18    Recommended 2015-03-22  Subnautica   \n",
              "298106      229     12    Recommended 2015-03-06  Subnautica   \n",
              "...         ...    ...            ...        ...         ...   \n",
              "302829        2      0    Recommended 2015-05-29  Subnautica   \n",
              "302830        3      1    Recommended 2015-05-21  Subnautica   \n",
              "302902        2      0    Recommended 2015-07-06  Subnautica   \n",
              "302917        2      0    Recommended 2015-06-13  Subnautica   \n",
              "302939        3      0    Recommended 2015-09-10  Subnautica   \n",
              "\n",
              "                                      username  \n",
              "298036                             bugzapper57  \n",
              "298037                                   Brent  \n",
              "298064                                thylsoft  \n",
              "298079        Morri\\n1,103 products in account  \n",
              "298106                                   Kezza  \n",
              "...                                        ...  \n",
              "302829                                   Sreen  \n",
              "302830   InactiveVoid\\n538 products in account  \n",
              "302902  perkeleenkala\\n233 products in account  \n",
              "302917                                Morhaugn  \n",
              "302939                              a-spryyyte  \n",
              "\n",
              "[308 rows x 8 columns]"
            ],
            "text/html": [
              "\n",
              "  <div id=\"df-064c06e7-bd37-4a45-9b80-24599e7148c7\" class=\"colab-df-container\">\n",
              "    <div>\n",
              "<style scoped>\n",
              "    .dataframe tbody tr th:only-of-type {\n",
              "        vertical-align: middle;\n",
              "    }\n",
              "\n",
              "    .dataframe tbody tr th {\n",
              "        vertical-align: top;\n",
              "    }\n",
              "\n",
              "    .dataframe thead th {\n",
              "        text-align: right;\n",
              "    }\n",
              "</style>\n",
              "<table border=\"1\" class=\"dataframe\">\n",
              "  <thead>\n",
              "    <tr style=\"text-align: right;\">\n",
              "      <th></th>\n",
              "      <th>review</th>\n",
              "      <th>hours_played</th>\n",
              "      <th>helpful</th>\n",
              "      <th>funny</th>\n",
              "      <th>recommendation</th>\n",
              "      <th>date</th>\n",
              "      <th>game_name</th>\n",
              "      <th>username</th>\n",
              "    </tr>\n",
              "  </thead>\n",
              "  <tbody>\n",
              "    <tr>\n",
              "      <th>298036</th>\n",
              "      <td>2015 Early Access Review I used to be a SCUBA ...</td>\n",
              "      <td>784.4</td>\n",
              "      <td>1424</td>\n",
              "      <td>71</td>\n",
              "      <td>Recommended</td>\n",
              "      <td>2015-04-16</td>\n",
              "      <td>Subnautica</td>\n",
              "      <td>bugzapper57</td>\n",
              "    </tr>\n",
              "    <tr>\n",
              "      <th>298037</th>\n",
              "      <td>2015 Early Access Review Everyone talks about ...</td>\n",
              "      <td>217.0</td>\n",
              "      <td>785</td>\n",
              "      <td>115</td>\n",
              "      <td>Recommended</td>\n",
              "      <td>2015-12-26</td>\n",
              "      <td>Subnautica</td>\n",
              "      <td>Brent</td>\n",
              "    </tr>\n",
              "    <tr>\n",
              "      <th>298064</th>\n",
              "      <td>2015 Early Access Review As a marine biologist...</td>\n",
              "      <td>65.5</td>\n",
              "      <td>262</td>\n",
              "      <td>12</td>\n",
              "      <td>Recommended</td>\n",
              "      <td>2015-02-02</td>\n",
              "      <td>Subnautica</td>\n",
              "      <td>thylsoft</td>\n",
              "    </tr>\n",
              "    <tr>\n",
              "      <th>298079</th>\n",
              "      <td>2015 Early Access Review I have been burned by...</td>\n",
              "      <td>32.1</td>\n",
              "      <td>202</td>\n",
              "      <td>18</td>\n",
              "      <td>Recommended</td>\n",
              "      <td>2015-03-22</td>\n",
              "      <td>Subnautica</td>\n",
              "      <td>Morri\\n1,103 products in account</td>\n",
              "    </tr>\n",
              "    <tr>\n",
              "      <th>298106</th>\n",
              "      <td>2015 Early Access Review First off this is a g...</td>\n",
              "      <td>10.8</td>\n",
              "      <td>229</td>\n",
              "      <td>12</td>\n",
              "      <td>Recommended</td>\n",
              "      <td>2015-03-06</td>\n",
              "      <td>Subnautica</td>\n",
              "      <td>Kezza</td>\n",
              "    </tr>\n",
              "    <tr>\n",
              "      <th>...</th>\n",
              "      <td>...</td>\n",
              "      <td>...</td>\n",
              "      <td>...</td>\n",
              "      <td>...</td>\n",
              "      <td>...</td>\n",
              "      <td>...</td>\n",
              "      <td>...</td>\n",
              "      <td>...</td>\n",
              "    </tr>\n",
              "    <tr>\n",
              "      <th>302829</th>\n",
              "      <td>2015 Early Access Review Loving this game. So ...</td>\n",
              "      <td>681.1</td>\n",
              "      <td>2</td>\n",
              "      <td>0</td>\n",
              "      <td>Recommended</td>\n",
              "      <td>2015-05-29</td>\n",
              "      <td>Subnautica</td>\n",
              "      <td>Sreen</td>\n",
              "    </tr>\n",
              "    <tr>\n",
              "      <th>302830</th>\n",
              "      <td>2015 If anyone tells you this game isn't scary...</td>\n",
              "      <td>219.0</td>\n",
              "      <td>3</td>\n",
              "      <td>1</td>\n",
              "      <td>Recommended</td>\n",
              "      <td>2015-05-21</td>\n",
              "      <td>Subnautica</td>\n",
              "      <td>InactiveVoid\\n538 products in account</td>\n",
              "    </tr>\n",
              "    <tr>\n",
              "      <th>302902</th>\n",
              "      <td>2015 Early Access Review suck</td>\n",
              "      <td>38.6</td>\n",
              "      <td>2</td>\n",
              "      <td>0</td>\n",
              "      <td>Recommended</td>\n",
              "      <td>2015-07-06</td>\n",
              "      <td>Subnautica</td>\n",
              "      <td>perkeleenkala\\n233 products in account</td>\n",
              "    </tr>\n",
              "    <tr>\n",
              "      <th>302917</th>\n",
              "      <td>2015 Early Access Review Great game! The devs ...</td>\n",
              "      <td>349.0</td>\n",
              "      <td>2</td>\n",
              "      <td>0</td>\n",
              "      <td>Recommended</td>\n",
              "      <td>2015-06-13</td>\n",
              "      <td>Subnautica</td>\n",
              "      <td>Morhaugn</td>\n",
              "    </tr>\n",
              "    <tr>\n",
              "      <th>302939</th>\n",
              "      <td>2015 Early Access Review Still in Early access...</td>\n",
              "      <td>139.9</td>\n",
              "      <td>3</td>\n",
              "      <td>0</td>\n",
              "      <td>Recommended</td>\n",
              "      <td>2015-09-10</td>\n",
              "      <td>Subnautica</td>\n",
              "      <td>a-spryyyte</td>\n",
              "    </tr>\n",
              "  </tbody>\n",
              "</table>\n",
              "<p>308 rows × 8 columns</p>\n",
              "</div>\n",
              "    <div class=\"colab-df-buttons\">\n",
              "\n",
              "  <div class=\"colab-df-container\">\n",
              "    <button class=\"colab-df-convert\" onclick=\"convertToInteractive('df-064c06e7-bd37-4a45-9b80-24599e7148c7')\"\n",
              "            title=\"Convert this dataframe to an interactive table.\"\n",
              "            style=\"display:none;\">\n",
              "\n",
              "  <svg xmlns=\"http://www.w3.org/2000/svg\" height=\"24px\" viewBox=\"0 -960 960 960\">\n",
              "    <path d=\"M120-120v-720h720v720H120Zm60-500h600v-160H180v160Zm220 220h160v-160H400v160Zm0 220h160v-160H400v160ZM180-400h160v-160H180v160Zm440 0h160v-160H620v160ZM180-180h160v-160H180v160Zm440 0h160v-160H620v160Z\"/>\n",
              "  </svg>\n",
              "    </button>\n",
              "\n",
              "  <style>\n",
              "    .colab-df-container {\n",
              "      display:flex;\n",
              "      gap: 12px;\n",
              "    }\n",
              "\n",
              "    .colab-df-convert {\n",
              "      background-color: #E8F0FE;\n",
              "      border: none;\n",
              "      border-radius: 50%;\n",
              "      cursor: pointer;\n",
              "      display: none;\n",
              "      fill: #1967D2;\n",
              "      height: 32px;\n",
              "      padding: 0 0 0 0;\n",
              "      width: 32px;\n",
              "    }\n",
              "\n",
              "    .colab-df-convert:hover {\n",
              "      background-color: #E2EBFA;\n",
              "      box-shadow: 0px 1px 2px rgba(60, 64, 67, 0.3), 0px 1px 3px 1px rgba(60, 64, 67, 0.15);\n",
              "      fill: #174EA6;\n",
              "    }\n",
              "\n",
              "    .colab-df-buttons div {\n",
              "      margin-bottom: 4px;\n",
              "    }\n",
              "\n",
              "    [theme=dark] .colab-df-convert {\n",
              "      background-color: #3B4455;\n",
              "      fill: #D2E3FC;\n",
              "    }\n",
              "\n",
              "    [theme=dark] .colab-df-convert:hover {\n",
              "      background-color: #434B5C;\n",
              "      box-shadow: 0px 1px 3px 1px rgba(0, 0, 0, 0.15);\n",
              "      filter: drop-shadow(0px 1px 2px rgba(0, 0, 0, 0.3));\n",
              "      fill: #FFFFFF;\n",
              "    }\n",
              "  </style>\n",
              "\n",
              "    <script>\n",
              "      const buttonEl =\n",
              "        document.querySelector('#df-064c06e7-bd37-4a45-9b80-24599e7148c7 button.colab-df-convert');\n",
              "      buttonEl.style.display =\n",
              "        google.colab.kernel.accessAllowed ? 'block' : 'none';\n",
              "\n",
              "      async function convertToInteractive(key) {\n",
              "        const element = document.querySelector('#df-064c06e7-bd37-4a45-9b80-24599e7148c7');\n",
              "        const dataTable =\n",
              "          await google.colab.kernel.invokeFunction('convertToInteractive',\n",
              "                                                    [key], {});\n",
              "        if (!dataTable) return;\n",
              "\n",
              "        const docLinkHtml = 'Like what you see? Visit the ' +\n",
              "          '<a target=\"_blank\" href=https://colab.research.google.com/notebooks/data_table.ipynb>data table notebook</a>'\n",
              "          + ' to learn more about interactive tables.';\n",
              "        element.innerHTML = '';\n",
              "        dataTable['output_type'] = 'display_data';\n",
              "        await google.colab.output.renderOutput(dataTable, element);\n",
              "        const docLink = document.createElement('div');\n",
              "        docLink.innerHTML = docLinkHtml;\n",
              "        element.appendChild(docLink);\n",
              "      }\n",
              "    </script>\n",
              "  </div>\n",
              "\n",
              "\n",
              "<div id=\"df-676a19e0-8c99-40f5-b518-6ccd765d8c08\">\n",
              "  <button class=\"colab-df-quickchart\" onclick=\"quickchart('df-676a19e0-8c99-40f5-b518-6ccd765d8c08')\"\n",
              "            title=\"Suggest charts\"\n",
              "            style=\"display:none;\">\n",
              "\n",
              "<svg xmlns=\"http://www.w3.org/2000/svg\" height=\"24px\"viewBox=\"0 0 24 24\"\n",
              "     width=\"24px\">\n",
              "    <g>\n",
              "        <path d=\"M19 3H5c-1.1 0-2 .9-2 2v14c0 1.1.9 2 2 2h14c1.1 0 2-.9 2-2V5c0-1.1-.9-2-2-2zM9 17H7v-7h2v7zm4 0h-2V7h2v10zm4 0h-2v-4h2v4z\"/>\n",
              "    </g>\n",
              "</svg>\n",
              "  </button>\n",
              "\n",
              "<style>\n",
              "  .colab-df-quickchart {\n",
              "      --bg-color: #E8F0FE;\n",
              "      --fill-color: #1967D2;\n",
              "      --hover-bg-color: #E2EBFA;\n",
              "      --hover-fill-color: #174EA6;\n",
              "      --disabled-fill-color: #AAA;\n",
              "      --disabled-bg-color: #DDD;\n",
              "  }\n",
              "\n",
              "  [theme=dark] .colab-df-quickchart {\n",
              "      --bg-color: #3B4455;\n",
              "      --fill-color: #D2E3FC;\n",
              "      --hover-bg-color: #434B5C;\n",
              "      --hover-fill-color: #FFFFFF;\n",
              "      --disabled-bg-color: #3B4455;\n",
              "      --disabled-fill-color: #666;\n",
              "  }\n",
              "\n",
              "  .colab-df-quickchart {\n",
              "    background-color: var(--bg-color);\n",
              "    border: none;\n",
              "    border-radius: 50%;\n",
              "    cursor: pointer;\n",
              "    display: none;\n",
              "    fill: var(--fill-color);\n",
              "    height: 32px;\n",
              "    padding: 0;\n",
              "    width: 32px;\n",
              "  }\n",
              "\n",
              "  .colab-df-quickchart:hover {\n",
              "    background-color: var(--hover-bg-color);\n",
              "    box-shadow: 0 1px 2px rgba(60, 64, 67, 0.3), 0 1px 3px 1px rgba(60, 64, 67, 0.15);\n",
              "    fill: var(--button-hover-fill-color);\n",
              "  }\n",
              "\n",
              "  .colab-df-quickchart-complete:disabled,\n",
              "  .colab-df-quickchart-complete:disabled:hover {\n",
              "    background-color: var(--disabled-bg-color);\n",
              "    fill: var(--disabled-fill-color);\n",
              "    box-shadow: none;\n",
              "  }\n",
              "\n",
              "  .colab-df-spinner {\n",
              "    border: 2px solid var(--fill-color);\n",
              "    border-color: transparent;\n",
              "    border-bottom-color: var(--fill-color);\n",
              "    animation:\n",
              "      spin 1s steps(1) infinite;\n",
              "  }\n",
              "\n",
              "  @keyframes spin {\n",
              "    0% {\n",
              "      border-color: transparent;\n",
              "      border-bottom-color: var(--fill-color);\n",
              "      border-left-color: var(--fill-color);\n",
              "    }\n",
              "    20% {\n",
              "      border-color: transparent;\n",
              "      border-left-color: var(--fill-color);\n",
              "      border-top-color: var(--fill-color);\n",
              "    }\n",
              "    30% {\n",
              "      border-color: transparent;\n",
              "      border-left-color: var(--fill-color);\n",
              "      border-top-color: var(--fill-color);\n",
              "      border-right-color: var(--fill-color);\n",
              "    }\n",
              "    40% {\n",
              "      border-color: transparent;\n",
              "      border-right-color: var(--fill-color);\n",
              "      border-top-color: var(--fill-color);\n",
              "    }\n",
              "    60% {\n",
              "      border-color: transparent;\n",
              "      border-right-color: var(--fill-color);\n",
              "    }\n",
              "    80% {\n",
              "      border-color: transparent;\n",
              "      border-right-color: var(--fill-color);\n",
              "      border-bottom-color: var(--fill-color);\n",
              "    }\n",
              "    90% {\n",
              "      border-color: transparent;\n",
              "      border-bottom-color: var(--fill-color);\n",
              "    }\n",
              "  }\n",
              "</style>\n",
              "\n",
              "  <script>\n",
              "    async function quickchart(key) {\n",
              "      const quickchartButtonEl =\n",
              "        document.querySelector('#' + key + ' button');\n",
              "      quickchartButtonEl.disabled = true;  // To prevent multiple clicks.\n",
              "      quickchartButtonEl.classList.add('colab-df-spinner');\n",
              "      try {\n",
              "        const charts = await google.colab.kernel.invokeFunction(\n",
              "            'suggestCharts', [key], {});\n",
              "      } catch (error) {\n",
              "        console.error('Error during call to suggestCharts:', error);\n",
              "      }\n",
              "      quickchartButtonEl.classList.remove('colab-df-spinner');\n",
              "      quickchartButtonEl.classList.add('colab-df-quickchart-complete');\n",
              "    }\n",
              "    (() => {\n",
              "      let quickchartButtonEl =\n",
              "        document.querySelector('#df-676a19e0-8c99-40f5-b518-6ccd765d8c08 button');\n",
              "      quickchartButtonEl.style.display =\n",
              "        google.colab.kernel.accessAllowed ? 'block' : 'none';\n",
              "    })();\n",
              "  </script>\n",
              "</div>\n",
              "    </div>\n",
              "  </div>\n"
            ],
            "application/vnd.google.colaboratory.intrinsic+json": {
              "type": "dataframe",
              "variable_name": "df_Subnautica",
              "summary": "{\n  \"name\": \"df_Subnautica\",\n  \"rows\": 308,\n  \"fields\": [\n    {\n      \"column\": \"review\",\n      \"properties\": {\n        \"dtype\": \"string\",\n        \"num_unique_values\": 308,\n        \"samples\": [\n          \"2015 Early Access Review Would be much better with multiplayer but still a great game!\",\n          \"2015 Early Access Review Fun game, but after 3-4h of playtime there isnt much left to do, but explore. I see much potential in this game!What i hope most for is 2-p co-op! there is 2 seats in the lifepod! MAKE IT HAPPEN!! :D\",\n          \"2015 Early Access Review Subnautica is a joyful, outstanding and long-time motivating game. Concerning the fauna and flora this title is detailled and plausibly modeled. In combination with the great matching sound effects and music Subnautica develops a unique atmosphere that you will find only in a few other games e.g. Metroid Prime (GCN)/Super Metroid (SNES) or Treasures of the Deep (PS1).On daytime (in the game) it is a pleasure to discover the underwater world, collect and store materials and use them later to produce items in your safety capsule. Later on you will be enabled to build your own submarines and underwater base. In the early stage the capsule seems to be the one and only place were you can feel safe. Especially when night time approaches your mood changes radically. It is harmful out there. During night time I always develop goose bumbs because of the shock effect when suddenly a creature appears and bites you. You can hardly await for the next daytime to feel safe and carry on your discovery journey or make screenshots ;).When playing Subnautica you will forget the time. When you loved Treasures of the Deep you will love this game too.Even though it is an \\\"early access\\\" title it plays very smooth. Yes, it has got some bugs like crashes. When loading a saved game to continue gaming it crashes often on my machine (Lenovo W540 mobile workstation, playing in full graphics quality and highest resulution). Regarding drawbacks I have noticed some minor collision problems with objects when interacting with the environment (polygon intersection). Another deficit of this game is that within the actual build no missions are included like they are in Treasures of the Deep. But the dev-time is still in the design phase and maybe they will implement quests etc.What is very interesting (when I noticed right) is the fact that each time you start a new game from the beginning (no save game) the topology of the ocean, position where items are placed and your start equipement is diffrent from the last one. Which is cool and an additional motivating factor of this game.Hovewer in this early stage Subnautica makes a strong impression, especially in technical atmospheric context, and makes great value of your money spend for this game.08/10For the final build I would be very happy to have the opportunity ... :- to load my own models/maps into the game or- have an editor to design them by my own,- quests are warmly welcome,- grow my own see food on the ground of the ocean,- more usage of the digging/terra morphing ability.\"\n        ],\n        \"semantic_type\": \"\",\n        \"description\": \"\"\n      }\n    },\n    {\n      \"column\": \"hours_played\",\n      \"properties\": {\n        \"dtype\": \"number\",\n        \"std\": 169.9123881062359,\n        \"min\": 0.7,\n        \"max\": 1393.2,\n        \"num_unique_values\": 282,\n        \"samples\": [\n          73.6,\n          119.7,\n          154.9\n        ],\n        \"semantic_type\": \"\",\n        \"description\": \"\"\n      }\n    },\n    {\n      \"column\": \"helpful\",\n      \"properties\": {\n        \"dtype\": \"number\",\n        \"std\": 161,\n        \"min\": 0,\n        \"max\": 2104,\n        \"num_unique_values\": 90,\n        \"samples\": [\n          52,\n          71,\n          92\n        ],\n        \"semantic_type\": \"\",\n        \"description\": \"\"\n      }\n    },\n    {\n      \"column\": \"funny\",\n      \"properties\": {\n        \"dtype\": \"number\",\n        \"std\": 214,\n        \"min\": 0,\n        \"max\": 2411,\n        \"num_unique_values\": 47,\n        \"samples\": [\n          17,\n          15,\n          1199\n        ],\n        \"semantic_type\": \"\",\n        \"description\": \"\"\n      }\n    },\n    {\n      \"column\": \"recommendation\",\n      \"properties\": {\n        \"dtype\": \"category\",\n        \"num_unique_values\": 2,\n        \"samples\": [\n          \"Not Recommended\",\n          \"Recommended\"\n        ],\n        \"semantic_type\": \"\",\n        \"description\": \"\"\n      }\n    },\n    {\n      \"column\": \"date\",\n      \"properties\": {\n        \"dtype\": \"date\",\n        \"min\": \"2015-01-04 00:00:00\",\n        \"max\": \"2015-12-31 00:00:00\",\n        \"num_unique_values\": 198,\n        \"samples\": [\n          \"2015-12-04 00:00:00\",\n          \"2015-08-31 00:00:00\"\n        ],\n        \"semantic_type\": \"\",\n        \"description\": \"\"\n      }\n    },\n    {\n      \"column\": \"game_name\",\n      \"properties\": {\n        \"dtype\": \"category\",\n        \"num_unique_values\": 1,\n        \"samples\": [\n          \"Subnautica\"\n        ],\n        \"semantic_type\": \"\",\n        \"description\": \"\"\n      }\n    },\n    {\n      \"column\": \"username\",\n      \"properties\": {\n        \"dtype\": \"string\",\n        \"num_unique_values\": 308,\n        \"samples\": [\n          \"Bandonker\\u00ae\\u2122\\n1,205 products in account\"\n        ],\n        \"semantic_type\": \"\",\n        \"description\": \"\"\n      }\n    }\n  ]\n}"
            }
          },
          "metadata": {},
          "execution_count": 23
        }
      ],
      "source": [
        "df_Subnautica = df_Subnautica[df_Subnautica['date'].dt.year == 2015]\n",
        "df_Subnautica"
      ]
    },
    {
      "cell_type": "markdown",
      "metadata": {
        "id": "Oz59SEQ81vLA"
      },
      "source": [
        "Cгруппируем данные по дате с помощью метода `________` и атрибутов `________`, затем вычислим средние значения полезности для каждой даты с помощью метода `________`"
      ]
    },
    {
      "cell_type": "code",
      "execution_count": 26,
      "metadata": {
        "id": "enpCq-ym1vLH",
        "colab": {
          "base_uri": "https://localhost:8080/",
          "height": 490
        },
        "outputId": "e8317ef5-e457-4c17-c511-95451f180f4a"
      },
      "outputs": [
        {
          "output_type": "execute_result",
          "data": {
            "text/plain": [
              "date\n",
              "2015-01-04    38.0\n",
              "2015-01-07    20.0\n",
              "2015-01-09    98.0\n",
              "2015-01-17     9.0\n",
              "2015-01-18    21.5\n",
              "              ... \n",
              "2015-12-27     4.0\n",
              "2015-12-28     3.0\n",
              "2015-12-29    10.0\n",
              "2015-12-30    10.0\n",
              "2015-12-31     4.5\n",
              "Name: helpful, Length: 198, dtype: float64"
            ],
            "text/html": [
              "<div>\n",
              "<style scoped>\n",
              "    .dataframe tbody tr th:only-of-type {\n",
              "        vertical-align: middle;\n",
              "    }\n",
              "\n",
              "    .dataframe tbody tr th {\n",
              "        vertical-align: top;\n",
              "    }\n",
              "\n",
              "    .dataframe thead th {\n",
              "        text-align: right;\n",
              "    }\n",
              "</style>\n",
              "<table border=\"1\" class=\"dataframe\">\n",
              "  <thead>\n",
              "    <tr style=\"text-align: right;\">\n",
              "      <th></th>\n",
              "      <th>helpful</th>\n",
              "    </tr>\n",
              "    <tr>\n",
              "      <th>date</th>\n",
              "      <th></th>\n",
              "    </tr>\n",
              "  </thead>\n",
              "  <tbody>\n",
              "    <tr>\n",
              "      <th>2015-01-04</th>\n",
              "      <td>38.0</td>\n",
              "    </tr>\n",
              "    <tr>\n",
              "      <th>2015-01-07</th>\n",
              "      <td>20.0</td>\n",
              "    </tr>\n",
              "    <tr>\n",
              "      <th>2015-01-09</th>\n",
              "      <td>98.0</td>\n",
              "    </tr>\n",
              "    <tr>\n",
              "      <th>2015-01-17</th>\n",
              "      <td>9.0</td>\n",
              "    </tr>\n",
              "    <tr>\n",
              "      <th>2015-01-18</th>\n",
              "      <td>21.5</td>\n",
              "    </tr>\n",
              "    <tr>\n",
              "      <th>...</th>\n",
              "      <td>...</td>\n",
              "    </tr>\n",
              "    <tr>\n",
              "      <th>2015-12-27</th>\n",
              "      <td>4.0</td>\n",
              "    </tr>\n",
              "    <tr>\n",
              "      <th>2015-12-28</th>\n",
              "      <td>3.0</td>\n",
              "    </tr>\n",
              "    <tr>\n",
              "      <th>2015-12-29</th>\n",
              "      <td>10.0</td>\n",
              "    </tr>\n",
              "    <tr>\n",
              "      <th>2015-12-30</th>\n",
              "      <td>10.0</td>\n",
              "    </tr>\n",
              "    <tr>\n",
              "      <th>2015-12-31</th>\n",
              "      <td>4.5</td>\n",
              "    </tr>\n",
              "  </tbody>\n",
              "</table>\n",
              "<p>198 rows × 1 columns</p>\n",
              "</div><br><label><b>dtype:</b> float64</label>"
            ]
          },
          "metadata": {},
          "execution_count": 26
        }
      ],
      "source": [
        "Subnautica_grouped = df_Subnautica.groupby(df_Subnautica['date'])['helpful'].mean()\n",
        "Subnautica_grouped"
      ]
    },
    {
      "cell_type": "markdown",
      "metadata": {
        "id": "vb9fyTN51vLI"
      },
      "source": [
        "Построим линейный график, где по оси Х будут **даты отзывов** (`индексы` из сгруппированной серии), а по оси Y - средние значения полезности (`значения` из сгруппированной серии)"
      ]
    },
    {
      "cell_type": "code",
      "execution_count": 27,
      "metadata": {
        "id": "n4uew3u71vLJ",
        "colab": {
          "base_uri": "https://localhost:8080/",
          "height": 518
        },
        "outputId": "8667326b-1d72-4116-9e2d-c2ac9e24a65f"
      },
      "outputs": [
        {
          "output_type": "display_data",
          "data": {
            "text/plain": [
              "<Figure size 1400x800 with 1 Axes>"
            ],
            "image/png": "[encoded data removed]"
          },
          "metadata": {}
        }
      ],
      "source": [
        "plt.figure(figsize=(14, 8))\n",
        "\n",
        "plt.plot(Subnautica_grouped.index, Subnautica_grouped.values)\n",
        "\n",
        "plt.title('полезность отзывов')\n",
        "plt.xlabel(\"дата\")\n",
        "plt.ylabel(\"полезность\")\n",
        "\n",
        "plt.grid(True)\n",
        "plt.show()"
      ]
    },
    {
      "cell_type": "markdown",
      "metadata": {
        "id": "HPuhmgwN1vLJ"
      },
      "source": [
        "**Выводы по графику**:"
      ]
    },
    {
      "cell_type": "markdown",
      "metadata": {
        "id": "PWD8HHb11vLK"
      },
      "source": [
        "#### **2. Столбчатая диаграмма**"
      ]
    },
    {
      "cell_type": "markdown",
      "metadata": {
        "id": "mv6RD7uv1vLP"
      },
      "source": [
        "Постройте столбчатую диаграмму, которая отображает **количество отзывов** по играм Hades, Terraria, Raft и Portal 2 за **2022** год."
      ]
    },
    {
      "cell_type": "markdown",
      "metadata": {
        "id": "g6uN-lov1vLQ"
      },
      "source": [
        "Сохраним данные только по указанным играм с помощью метода `________`"
      ]
    },
    {
      "cell_type": "code",
      "execution_count": 28,
      "metadata": {
        "id": "zctXqyIz1vLQ",
        "colab": {
          "base_uri": "https://localhost:8080/",
          "height": 843
        },
        "outputId": "8fa85fe1-6a7e-432b-c02b-cb5058aed169"
      },
      "outputs": [
        {
          "output_type": "execute_result",
          "data": {
            "text/plain": [
              "                                                   review  hours_played  \\\n",
              "147478  2020 Terraria's latest major update, Journey's...        1573.4   \n",
              "147479  2020 I've sunk 4500 hours into this masterpiec...        6438.0   \n",
              "147480  2020 The only bad thing about Terraria is that...         934.9   \n",
              "147481  2022 Other developers: Promise to update their...         205.4   \n",
              "147482  2019 8 years of free updates and countingCheap...         153.2   \n",
              "...                                                   ...           ...   \n",
              "326736  2023 Raft, developed by Redbeet Interactive, i...           3.7   \n",
              "326737                  2023 they took my pirate booty :(          14.6   \n",
              "326738                    2023 its like a pool but bigger         131.0   \n",
              "326739                   2023 its really fun with friends          17.8   \n",
              "326740  2023 Good game. The only thing bad is that mos...          18.3   \n",
              "\n",
              "        helpful  funny recommendation              date game_name  \\\n",
              "147478     2968     64    Recommended       5 May, 2020  Terraria   \n",
              "147479     3977    292    Recommended    19 April, 2020  Terraria   \n",
              "147480     3753    685    Recommended    27 April, 2020  Terraria   \n",
              "147481      751    261    Recommended   15 August, 2022  Terraria   \n",
              "147482     1312    175    Recommended      16 May, 2019  Terraria   \n",
              "...         ...    ...            ...               ...       ...   \n",
              "326736        1      0    Recommended  December 4, 2023      Raft   \n",
              "326737        1      0    Recommended  December 3, 2023      Raft   \n",
              "326738        1      1    Recommended  December 3, 2023      Raft   \n",
              "326739        1      0    Recommended  December 2, 2023      Raft   \n",
              "326740        1      0    Recommended  December 1, 2023      Raft   \n",
              "\n",
              "                                      username  \n",
              "147478                                  Bebojo  \n",
              "147479                              MaxiMannor  \n",
              "147480         Gharth\\n458 products in account  \n",
              "147481                                 apricot  \n",
              "147482  Saint Tivadar\\n696 products in account  \n",
              "...                                        ...  \n",
              "326736             h20\\n30 products in account  \n",
              "326737          sugurr\\n58 products in account  \n",
              "326738                             merryfatman  \n",
              "326739                                 kizrean  \n",
              "326740     xeroxayuki\\n216 products in account  \n",
              "\n",
              "[19998 rows x 8 columns]"
            ],
            "text/html": [
              "\n",
              "  <div id=\"df-af987ddb-ede5-4de9-84d0-6fb479b6d9a7\" class=\"colab-df-container\">\n",
              "    <div>\n",
              "<style scoped>\n",
              "    .dataframe tbody tr th:only-of-type {\n",
              "        vertical-align: middle;\n",
              "    }\n",
              "\n",
              "    .dataframe tbody tr th {\n",
              "        vertical-align: top;\n",
              "    }\n",
              "\n",
              "    .dataframe thead th {\n",
              "        text-align: right;\n",
              "    }\n",
              "</style>\n",
              "<table border=\"1\" class=\"dataframe\">\n",
              "  <thead>\n",
              "    <tr style=\"text-align: right;\">\n",
              "      <th></th>\n",
              "      <th>review</th>\n",
              "      <th>hours_played</th>\n",
              "      <th>helpful</th>\n",
              "      <th>funny</th>\n",
              "      <th>recommendation</th>\n",
              "      <th>date</th>\n",
              "      <th>game_name</th>\n",
              "      <th>username</th>\n",
              "    </tr>\n",
              "  </thead>\n",
              "  <tbody>\n",
              "    <tr>\n",
              "      <th>147478</th>\n",
              "      <td>2020 Terraria's latest major update, Journey's...</td>\n",
              "      <td>1573.4</td>\n",
              "      <td>2968</td>\n",
              "      <td>64</td>\n",
              "      <td>Recommended</td>\n",
              "      <td>5 May, 2020</td>\n",
              "      <td>Terraria</td>\n",
              "      <td>Bebojo</td>\n",
              "    </tr>\n",
              "    <tr>\n",
              "      <th>147479</th>\n",
              "      <td>2020 I've sunk 4500 hours into this masterpiec...</td>\n",
              "      <td>6438.0</td>\n",
              "      <td>3977</td>\n",
              "      <td>292</td>\n",
              "      <td>Recommended</td>\n",
              "      <td>19 April, 2020</td>\n",
              "      <td>Terraria</td>\n",
              "      <td>MaxiMannor</td>\n",
              "    </tr>\n",
              "    <tr>\n",
              "      <th>147480</th>\n",
              "      <td>2020 The only bad thing about Terraria is that...</td>\n",
              "      <td>934.9</td>\n",
              "      <td>3753</td>\n",
              "      <td>685</td>\n",
              "      <td>Recommended</td>\n",
              "      <td>27 April, 2020</td>\n",
              "      <td>Terraria</td>\n",
              "      <td>Gharth\\n458 products in account</td>\n",
              "    </tr>\n",
              "    <tr>\n",
              "      <th>147481</th>\n",
              "      <td>2022 Other developers: Promise to update their...</td>\n",
              "      <td>205.4</td>\n",
              "      <td>751</td>\n",
              "      <td>261</td>\n",
              "      <td>Recommended</td>\n",
              "      <td>15 August, 2022</td>\n",
              "      <td>Terraria</td>\n",
              "      <td>apricot</td>\n",
              "    </tr>\n",
              "    <tr>\n",
              "      <th>147482</th>\n",
              "      <td>2019 8 years of free updates and countingCheap...</td>\n",
              "      <td>153.2</td>\n",
              "      <td>1312</td>\n",
              "      <td>175</td>\n",
              "      <td>Recommended</td>\n",
              "      <td>16 May, 2019</td>\n",
              "      <td>Terraria</td>\n",
              "      <td>Saint Tivadar\\n696 products in account</td>\n",
              "    </tr>\n",
              "    <tr>\n",
              "      <th>...</th>\n",
              "      <td>...</td>\n",
              "      <td>...</td>\n",
              "      <td>...</td>\n",
              "      <td>...</td>\n",
              "      <td>...</td>\n",
              "      <td>...</td>\n",
              "      <td>...</td>\n",
              "      <td>...</td>\n",
              "    </tr>\n",
              "    <tr>\n",
              "      <th>326736</th>\n",
              "      <td>2023 Raft, developed by Redbeet Interactive, i...</td>\n",
              "      <td>3.7</td>\n",
              "      <td>1</td>\n",
              "      <td>0</td>\n",
              "      <td>Recommended</td>\n",
              "      <td>December 4, 2023</td>\n",
              "      <td>Raft</td>\n",
              "      <td>h20\\n30 products in account</td>\n",
              "    </tr>\n",
              "    <tr>\n",
              "      <th>326737</th>\n",
              "      <td>2023 they took my pirate booty :(</td>\n",
              "      <td>14.6</td>\n",
              "      <td>1</td>\n",
              "      <td>0</td>\n",
              "      <td>Recommended</td>\n",
              "      <td>December 3, 2023</td>\n",
              "      <td>Raft</td>\n",
              "      <td>sugurr\\n58 products in account</td>\n",
              "    </tr>\n",
              "    <tr>\n",
              "      <th>326738</th>\n",
              "      <td>2023 its like a pool but bigger</td>\n",
              "      <td>131.0</td>\n",
              "      <td>1</td>\n",
              "      <td>1</td>\n",
              "      <td>Recommended</td>\n",
              "      <td>December 3, 2023</td>\n",
              "      <td>Raft</td>\n",
              "      <td>merryfatman</td>\n",
              "    </tr>\n",
              "    <tr>\n",
              "      <th>326739</th>\n",
              "      <td>2023 its really fun with friends</td>\n",
              "      <td>17.8</td>\n",
              "      <td>1</td>\n",
              "      <td>0</td>\n",
              "      <td>Recommended</td>\n",
              "      <td>December 2, 2023</td>\n",
              "      <td>Raft</td>\n",
              "      <td>kizrean</td>\n",
              "    </tr>\n",
              "    <tr>\n",
              "      <th>326740</th>\n",
              "      <td>2023 Good game. The only thing bad is that mos...</td>\n",
              "      <td>18.3</td>\n",
              "      <td>1</td>\n",
              "      <td>0</td>\n",
              "      <td>Recommended</td>\n",
              "      <td>December 1, 2023</td>\n",
              "      <td>Raft</td>\n",
              "      <td>xeroxayuki\\n216 products in account</td>\n",
              "    </tr>\n",
              "  </tbody>\n",
              "</table>\n",
              "<p>19998 rows × 8 columns</p>\n",
              "</div>\n",
              "    <div class=\"colab-df-buttons\">\n",
              "\n",
              "  <div class=\"colab-df-container\">\n",
              "    <button class=\"colab-df-convert\" onclick=\"convertToInteractive('df-af987ddb-ede5-4de9-84d0-6fb479b6d9a7')\"\n",
              "            title=\"Convert this dataframe to an interactive table.\"\n",
              "            style=\"display:none;\">\n",
              "\n",
              "  <svg xmlns=\"http://www.w3.org/2000/svg\" height=\"24px\" viewBox=\"0 -960 960 960\">\n",
              "    <path d=\"M120-120v-720h720v720H120Zm60-500h600v-160H180v160Zm220 220h160v-160H400v160Zm0 220h160v-160H400v160ZM180-400h160v-160H180v160Zm440 0h160v-160H620v160ZM180-180h160v-160H180v160Zm440 0h160v-160H620v160Z\"/>\n",
              "  </svg>\n",
              "    </button>\n",
              "\n",
              "  <style>\n",
              "    .colab-df-container {\n",
              "      display:flex;\n",
              "      gap: 12px;\n",
              "    }\n",
              "\n",
              "    .colab-df-convert {\n",
              "      background-color: #E8F0FE;\n",
              "      border: none;\n",
              "      border-radius: 50%;\n",
              "      cursor: pointer;\n",
              "      display: none;\n",
              "      fill: #1967D2;\n",
              "      height: 32px;\n",
              "      padding: 0 0 0 0;\n",
              "      width: 32px;\n",
              "    }\n",
              "\n",
              "    .colab-df-convert:hover {\n",
              "      background-color: #E2EBFA;\n",
              "      box-shadow: 0px 1px 2px rgba(60, 64, 67, 0.3), 0px 1px 3px 1px rgba(60, 64, 67, 0.15);\n",
              "      fill: #174EA6;\n",
              "    }\n",
              "\n",
              "    .colab-df-buttons div {\n",
              "      margin-bottom: 4px;\n",
              "    }\n",
              "\n",
              "    [theme=dark] .colab-df-convert {\n",
              "      background-color: #3B4455;\n",
              "      fill: #D2E3FC;\n",
              "    }\n",
              "\n",
              "    [theme=dark] .colab-df-convert:hover {\n",
              "      background-color: #434B5C;\n",
              "      box-shadow: 0px 1px 3px 1px rgba(0, 0, 0, 0.15);\n",
              "      filter: drop-shadow(0px 1px 2px rgba(0, 0, 0, 0.3));\n",
              "      fill: #FFFFFF;\n",
              "    }\n",
              "  </style>\n",
              "\n",
              "    <script>\n",
              "      const buttonEl =\n",
              "        document.querySelector('#df-af987ddb-ede5-4de9-84d0-6fb479b6d9a7 button.colab-df-convert');\n",
              "      buttonEl.style.display =\n",
              "        google.colab.kernel.accessAllowed ? 'block' : 'none';\n",
              "\n",
              "      async function convertToInteractive(key) {\n",
              "        const element = document.querySelector('#df-af987ddb-ede5-4de9-84d0-6fb479b6d9a7');\n",
              "        const dataTable =\n",
              "          await google.colab.kernel.invokeFunction('convertToInteractive',\n",
              "                                                    [key], {});\n",
              "        if (!dataTable) return;\n",
              "\n",
              "        const docLinkHtml = 'Like what you see? Visit the ' +\n",
              "          '<a target=\"_blank\" href=https://colab.research.google.com/notebooks/data_table.ipynb>data table notebook</a>'\n",
              "          + ' to learn more about interactive tables.';\n",
              "        element.innerHTML = '';\n",
              "        dataTable['output_type'] = 'display_data';\n",
              "        await google.colab.output.renderOutput(dataTable, element);\n",
              "        const docLink = document.createElement('div');\n",
              "        docLink.innerHTML = docLinkHtml;\n",
              "        element.appendChild(docLink);\n",
              "      }\n",
              "    </script>\n",
              "  </div>\n",
              "\n",
              "\n",
              "<div id=\"df-1cbe238b-9687-4ae0-977e-54fccbc70701\">\n",
              "  <button class=\"colab-df-quickchart\" onclick=\"quickchart('df-1cbe238b-9687-4ae0-977e-54fccbc70701')\"\n",
              "            title=\"Suggest charts\"\n",
              "            style=\"display:none;\">\n",
              "\n",
              "<svg xmlns=\"http://www.w3.org/2000/svg\" height=\"24px\"viewBox=\"0 0 24 24\"\n",
              "     width=\"24px\">\n",
              "    <g>\n",
              "        <path d=\"M19 3H5c-1.1 0-2 .9-2 2v14c0 1.1.9 2 2 2h14c1.1 0 2-.9 2-2V5c0-1.1-.9-2-2-2zM9 17H7v-7h2v7zm4 0h-2V7h2v10zm4 0h-2v-4h2v4z\"/>\n",
              "    </g>\n",
              "</svg>\n",
              "  </button>\n",
              "\n",
              "<style>\n",
              "  .colab-df-quickchart {\n",
              "      --bg-color: #E8F0FE;\n",
              "      --fill-color: #1967D2;\n",
              "      --hover-bg-color: #E2EBFA;\n",
              "      --hover-fill-color: #174EA6;\n",
              "      --disabled-fill-color: #AAA;\n",
              "      --disabled-bg-color: #DDD;\n",
              "  }\n",
              "\n",
              "  [theme=dark] .colab-df-quickchart {\n",
              "      --bg-color: #3B4455;\n",
              "      --fill-color: #D2E3FC;\n",
              "      --hover-bg-color: #434B5C;\n",
              "      --hover-fill-color: #FFFFFF;\n",
              "      --disabled-bg-color: #3B4455;\n",
              "      --disabled-fill-color: #666;\n",
              "  }\n",
              "\n",
              "  .colab-df-quickchart {\n",
              "    background-color: var(--bg-color);\n",
              "    border: none;\n",
              "    border-radius: 50%;\n",
              "    cursor: pointer;\n",
              "    display: none;\n",
              "    fill: var(--fill-color);\n",
              "    height: 32px;\n",
              "    padding: 0;\n",
              "    width: 32px;\n",
              "  }\n",
              "\n",
              "  .colab-df-quickchart:hover {\n",
              "    background-color: var(--hover-bg-color);\n",
              "    box-shadow: 0 1px 2px rgba(60, 64, 67, 0.3), 0 1px 3px 1px rgba(60, 64, 67, 0.15);\n",
              "    fill: var(--button-hover-fill-color);\n",
              "  }\n",
              "\n",
              "  .colab-df-quickchart-complete:disabled,\n",
              "  .colab-df-quickchart-complete:disabled:hover {\n",
              "    background-color: var(--disabled-bg-color);\n",
              "    fill: var(--disabled-fill-color);\n",
              "    box-shadow: none;\n",
              "  }\n",
              "\n",
              "  .colab-df-spinner {\n",
              "    border: 2px solid var(--fill-color);\n",
              "    border-color: transparent;\n",
              "    border-bottom-color: var(--fill-color);\n",
              "    animation:\n",
              "      spin 1s steps(1) infinite;\n",
              "  }\n",
              "\n",
              "  @keyframes spin {\n",
              "    0% {\n",
              "      border-color: transparent;\n",
              "      border-bottom-color: var(--fill-color);\n",
              "      border-left-color: var(--fill-color);\n",
              "    }\n",
              "    20% {\n",
              "      border-color: transparent;\n",
              "      border-left-color: var(--fill-color);\n",
              "      border-top-color: var(--fill-color);\n",
              "    }\n",
              "    30% {\n",
              "      border-color: transparent;\n",
              "      border-left-color: var(--fill-color);\n",
              "      border-top-color: var(--fill-color);\n",
              "      border-right-color: var(--fill-color);\n",
              "    }\n",
              "    40% {\n",
              "      border-color: transparent;\n",
              "      border-right-color: var(--fill-color);\n",
              "      border-top-color: var(--fill-color);\n",
              "    }\n",
              "    60% {\n",
              "      border-color: transparent;\n",
              "      border-right-color: var(--fill-color);\n",
              "    }\n",
              "    80% {\n",
              "      border-color: transparent;\n",
              "      border-right-color: var(--fill-color);\n",
              "      border-bottom-color: var(--fill-color);\n",
              "    }\n",
              "    90% {\n",
              "      border-color: transparent;\n",
              "      border-bottom-color: var(--fill-color);\n",
              "    }\n",
              "  }\n",
              "</style>\n",
              "\n",
              "  <script>\n",
              "    async function quickchart(key) {\n",
              "      const quickchartButtonEl =\n",
              "        document.querySelector('#' + key + ' button');\n",
              "      quickchartButtonEl.disabled = true;  // To prevent multiple clicks.\n",
              "      quickchartButtonEl.classList.add('colab-df-spinner');\n",
              "      try {\n",
              "        const charts = await google.colab.kernel.invokeFunction(\n",
              "            'suggestCharts', [key], {});\n",
              "      } catch (error) {\n",
              "        console.error('Error during call to suggestCharts:', error);\n",
              "      }\n",
              "      quickchartButtonEl.classList.remove('colab-df-spinner');\n",
              "      quickchartButtonEl.classList.add('colab-df-quickchart-complete');\n",
              "    }\n",
              "    (() => {\n",
              "      let quickchartButtonEl =\n",
              "        document.querySelector('#df-1cbe238b-9687-4ae0-977e-54fccbc70701 button');\n",
              "      quickchartButtonEl.style.display =\n",
              "        google.colab.kernel.accessAllowed ? 'block' : 'none';\n",
              "    })();\n",
              "  </script>\n",
              "</div>\n",
              "    </div>\n",
              "  </div>\n"
            ],
            "application/vnd.google.colaboratory.intrinsic+json": {
              "type": "dataframe",
              "variable_name": "df_games",
              "summary": "{\n  \"name\": \"df_games\",\n  \"rows\": 19998,\n  \"fields\": [\n    {\n      \"column\": \"review\",\n      \"properties\": {\n        \"dtype\": \"string\",\n        \"num_unique_values\": 19349,\n        \"samples\": [\n          \"2018 A game developed and published by Re-Logic.Terraria, an interesting title, where your imagination determines how far you can progress, and how much time you will pour into this game. A hollow world till you arrive, teeming with precious ores, and dark secrets. Fetid swamps and dry deserts. This game is definitely an endeavour, and it will soak up alot of your time as you try and reach the pinnacle of your characters limitations and how much you can construct. Often remarked as a \\\"2D Minecraft\\\" I always find this comparison woefully incorrect. Minecraft has a wide selection of enemies, which is similar, A wide array of ore and precious gems to mine, which is also similar. But from then one, Terraria leaves it dead in the water. An RPG experience, with substantial boss progression, Active try and retry game mechanics and spanning character classes, All inclusive of a massive crafting system, and wide assortment of things to collect and try. Anyways, I've praised it enough, lets get down to the review!Graphics: Probably one of the weaker points of the game, Its still very vibrant and holds upto despite its 2011, Birthdate.This is mainly due to the pixelated graphics and 2D perspective of the game. Not alot to render, and not alot to process at any one time, Making it run very smoothly at any point in time, But also extremely limited due to there not being any sort of graphical options or benchmarks.Gameplay: Where do i begin. This game plays, as well as you can play it. All the mechanics are there for you to make it work in your favor. But finding your niche and finding your work space is all crucial in you enjoying your time in Terraria.The game drops you into a world, where you basically don't understand anything, A very limited spread of understanding, very few tools at your disposal, and a single NPC to help guide you along your journey. 4 classes to basically choose from as you progress through the game, Melee, Ranged, Mage and Summoner. All depending on how you want to play and how you prefer to play. Despite there being no relevant story or backstory to this game, there is a substantial amount of progression and ALOT of gear to rummage around for.Story: I think i pretty much covered this aspect of the game already. There really isn't a story here. Which is usually a game killer for me. I heavily invest in story driven worlds, And this world has none to speak of. I guess the story can be made up for each player, as to why you are doing what you're doing, but as for a story driven narrative. There isn't one.I don't often do a \\\"CONS\\\" section. But this game is so monstrous in terms of scope and size, I feel it's necessary to provide as much information as possible. I love this game to bits, this is perhaps the 3rd time i've played it through, Once on playstation, once on Xbox and now on PC. So i'm well aware of his rather frustrating flaws.So here we are....Cons: This game despite how much effort has been poured into it, Has rather sizable and numerous flaws. Mostly relating around achievement glitches, game crashing and multiplayer bugs.Achievement glitches are fairly frustrating, although are entirely not a concern unless you're as OCD as i am. The game progresses the same way regardless of steams registering of your progress.Game crashes for alot of players at certain intervals in the game, Which HAS caused loss of character saves. It's highly recommended that you cloud save your favorite character builds and worlds, so that your save data will always be present.And Multiplayer as a whole is a fairly awful experience, the above mention bugs as well as an assortment of new things, Players not seeing what each other are seeing, Enemies and bosses despawning because of numerous players involved, which may or may not potentially ruin hours upon hours of preparation and planning. Frustrating to say the least. But alot of it is avoidable if you take necessary precautions. Alot of which can be found through quick internet searches.Overall: This game is a gigantic time suck lolThere is no other way to put it, You will pour time into boss by boss progression, farming and grinding enemies for specific gear to better improve your chances at the next boss. You will dig deep into dirt, mud and ash for hours upon hours just to find 3 pieces of ore which isn't even close to the amount you need. You will kill thousands of enemies for a single piece of gear, that isn't even optimal till you find another piece it can be fused with. You will die on the inside for days and potentially weeks as you farm your way to the very end of the game. And then when it's all over and you finally can get a breath of respite as your real life world is crumbling to pieces around you, You will feel empty, knowing that it's done.This game isn't just worth its price, It's worth every minute you pour into it.Welcome to Terraria. I hope you enjoy it as much as i do.\",\n          \"2019 you're a pixel dude that does stuff... wait, isnt that every game?\",\n          \"2016 make me addicted\"\n        ],\n        \"semantic_type\": \"\",\n        \"description\": \"\"\n      }\n    },\n    {\n      \"column\": \"hours_played\",\n      \"properties\": {\n        \"dtype\": \"number\",\n        \"std\": 996.8646087277333,\n        \"min\": 0.1,\n        \"max\": 43611.8,\n        \"num_unique_values\": 5735,\n        \"samples\": [\n          2142.8,\n          213.1,\n          170.3\n        ],\n        \"semantic_type\": \"\",\n        \"description\": \"\"\n      }\n    },\n    {\n      \"column\": \"helpful\",\n      \"properties\": {\n        \"dtype\": \"number\",\n        \"std\": 161,\n        \"min\": 0,\n        \"max\": 9284,\n        \"num_unique_values\": 625,\n        \"samples\": [\n          17,\n          2979,\n          134\n        ],\n        \"semantic_type\": \"\",\n        \"description\": \"\"\n      }\n    },\n    {\n      \"column\": \"funny\",\n      \"properties\": {\n        \"dtype\": \"number\",\n        \"std\": 112,\n        \"min\": 0,\n        \"max\": 6350,\n        \"num_unique_values\": 377,\n        \"samples\": [\n          333,\n          439,\n          511\n        ],\n        \"semantic_type\": \"\",\n        \"description\": \"\"\n      }\n    },\n    {\n      \"column\": \"recommendation\",\n      \"properties\": {\n        \"dtype\": \"category\",\n        \"num_unique_values\": 2,\n        \"samples\": [\n          \"Not Recommended\",\n          \"Recommended\"\n        ],\n        \"semantic_type\": \"\",\n        \"description\": \"\"\n      }\n    },\n    {\n      \"column\": \"date\",\n      \"properties\": {\n        \"dtype\": \"category\",\n        \"num_unique_values\": 3977,\n        \"samples\": [\n          \"September 20, 2022\",\n          \"March 10, 2018\"\n        ],\n        \"semantic_type\": \"\",\n        \"description\": \"\"\n      }\n    },\n    {\n      \"column\": \"game_name\",\n      \"properties\": {\n        \"dtype\": \"category\",\n        \"num_unique_values\": 4,\n        \"samples\": [\n          \"Portal 2\",\n          \"Raft\"\n        ],\n        \"semantic_type\": \"\",\n        \"description\": \"\"\n      }\n    },\n    {\n      \"column\": \"username\",\n      \"properties\": {\n        \"dtype\": \"string\",\n        \"num_unique_values\": 19492,\n        \"samples\": [\n          \"Orphan Eater\",\n          \".366298.\"\n        ],\n        \"semantic_type\": \"\",\n        \"description\": \"\"\n      }\n    }\n  ]\n}"
            }
          },
          "metadata": {},
          "execution_count": 28
        }
      ],
      "source": [
        "df_games = data[data['game_name'].isin(['Hades', 'Terraria', 'Raft', 'Portal 2'])]\n",
        "df_games"
      ]
    },
    {
      "cell_type": "markdown",
      "metadata": {
        "id": "NAfVhp4Y1vLQ"
      },
      "source": [
        "Преобразуем даты в единый формат"
      ]
    },
    {
      "cell_type": "code",
      "execution_count": 29,
      "metadata": {
        "id": "ecGiXgaT1vLW",
        "colab": {
          "base_uri": "https://localhost:8080/"
        },
        "outputId": "4edaa8f4-e7f1-42e8-94a3-7dd2d6d0a505"
      },
      "outputs": [
        {
          "output_type": "stream",
          "name": "stderr",
          "text": [
            "<ipython-input-29-bbc1ea235a26>:1: SettingWithCopyWarning: \n",
            "A value is trying to be set on a copy of a slice from a DataFrame.\n",
            "Try using .loc[row_indexer,col_indexer] = value instead\n",
            "\n",
            "See the caveats in the documentation: https://pandas.pydata.org/pandas-docs/stable/user_guide/indexing.html#returning-a-view-versus-a-copy\n",
            "  df_games['date'] = pd.to_datetime(df_games['date'], format=\"mixed\", errors='coerce')\n"
          ]
        }
      ],
      "source": [
        "df_games['date'] = pd.to_datetime(df_games['date'], format=\"mixed\", errors='coerce')"
      ]
    },
    {
      "cell_type": "markdown",
      "metadata": {
        "id": "4KxqWkWh1vLW"
      },
      "source": [
        "Удалим появившиеся пропущенные значения"
      ]
    },
    {
      "cell_type": "code",
      "execution_count": 30,
      "metadata": {
        "id": "MEZB5j3u1vLW",
        "colab": {
          "base_uri": "https://localhost:8080/",
          "height": 912
        },
        "outputId": "56bd6180-162a-49f4-f449-99c750126fde"
      },
      "outputs": [
        {
          "output_type": "stream",
          "name": "stderr",
          "text": [
            "<ipython-input-30-e612d5a3d8b7>:1: SettingWithCopyWarning: \n",
            "A value is trying to be set on a copy of a slice from a DataFrame\n",
            "\n",
            "See the caveats in the documentation: https://pandas.pydata.org/pandas-docs/stable/user_guide/indexing.html#returning-a-view-versus-a-copy\n",
            "  df_games.dropna(inplace=True)\n"
          ]
        },
        {
          "output_type": "execute_result",
          "data": {
            "text/plain": [
              "                                                   review  hours_played  \\\n",
              "147478  2020 Terraria's latest major update, Journey's...        1573.4   \n",
              "147479  2020 I've sunk 4500 hours into this masterpiec...        6438.0   \n",
              "147480  2020 The only bad thing about Terraria is that...         934.9   \n",
              "147481  2022 Other developers: Promise to update their...         205.4   \n",
              "147482  2019 8 years of free updates and countingCheap...         153.2   \n",
              "...                                                   ...           ...   \n",
              "326736  2023 Raft, developed by Redbeet Interactive, i...           3.7   \n",
              "326737                  2023 they took my pirate booty :(          14.6   \n",
              "326738                    2023 its like a pool but bigger         131.0   \n",
              "326739                   2023 its really fun with friends          17.8   \n",
              "326740  2023 Good game. The only thing bad is that mos...          18.3   \n",
              "\n",
              "        helpful  funny recommendation       date game_name  \\\n",
              "147478     2968     64    Recommended 2020-05-05  Terraria   \n",
              "147479     3977    292    Recommended 2020-04-19  Terraria   \n",
              "147480     3753    685    Recommended 2020-04-27  Terraria   \n",
              "147481      751    261    Recommended 2022-08-15  Terraria   \n",
              "147482     1312    175    Recommended 2019-05-16  Terraria   \n",
              "...         ...    ...            ...        ...       ...   \n",
              "326736        1      0    Recommended 2023-12-04      Raft   \n",
              "326737        1      0    Recommended 2023-12-03      Raft   \n",
              "326738        1      1    Recommended 2023-12-03      Raft   \n",
              "326739        1      0    Recommended 2023-12-02      Raft   \n",
              "326740        1      0    Recommended 2023-12-01      Raft   \n",
              "\n",
              "                                      username  \n",
              "147478                                  Bebojo  \n",
              "147479                              MaxiMannor  \n",
              "147480         Gharth\\n458 products in account  \n",
              "147481                                 apricot  \n",
              "147482  Saint Tivadar\\n696 products in account  \n",
              "...                                        ...  \n",
              "326736             h20\\n30 products in account  \n",
              "326737          sugurr\\n58 products in account  \n",
              "326738                             merryfatman  \n",
              "326739                                 kizrean  \n",
              "326740     xeroxayuki\\n216 products in account  \n",
              "\n",
              "[18574 rows x 8 columns]"
            ],
            "text/html": [
              "\n",
              "  <div id=\"df-c11693aa-6d12-49c0-ba01-d5bbadef86d0\" class=\"colab-df-container\">\n",
              "    <div>\n",
              "<style scoped>\n",
              "    .dataframe tbody tr th:only-of-type {\n",
              "        vertical-align: middle;\n",
              "    }\n",
              "\n",
              "    .dataframe tbody tr th {\n",
              "        vertical-align: top;\n",
              "    }\n",
              "\n",
              "    .dataframe thead th {\n",
              "        text-align: right;\n",
              "    }\n",
              "</style>\n",
              "<table border=\"1\" class=\"dataframe\">\n",
              "  <thead>\n",
              "    <tr style=\"text-align: right;\">\n",
              "      <th></th>\n",
              "      <th>review</th>\n",
              "      <th>hours_played</th>\n",
              "      <th>helpful</th>\n",
              "      <th>funny</th>\n",
              "      <th>recommendation</th>\n",
              "      <th>date</th>\n",
              "      <th>game_name</th>\n",
              "      <th>username</th>\n",
              "    </tr>\n",
              "  </thead>\n",
              "  <tbody>\n",
              "    <tr>\n",
              "      <th>147478</th>\n",
              "      <td>2020 Terraria's latest major update, Journey's...</td>\n",
              "      <td>1573.4</td>\n",
              "      <td>2968</td>\n",
              "      <td>64</td>\n",
              "      <td>Recommended</td>\n",
              "      <td>2020-05-05</td>\n",
              "      <td>Terraria</td>\n",
              "      <td>Bebojo</td>\n",
              "    </tr>\n",
              "    <tr>\n",
              "      <th>147479</th>\n",
              "      <td>2020 I've sunk 4500 hours into this masterpiec...</td>\n",
              "      <td>6438.0</td>\n",
              "      <td>3977</td>\n",
              "      <td>292</td>\n",
              "      <td>Recommended</td>\n",
              "      <td>2020-04-19</td>\n",
              "      <td>Terraria</td>\n",
              "      <td>MaxiMannor</td>\n",
              "    </tr>\n",
              "    <tr>\n",
              "      <th>147480</th>\n",
              "      <td>2020 The only bad thing about Terraria is that...</td>\n",
              "      <td>934.9</td>\n",
              "      <td>3753</td>\n",
              "      <td>685</td>\n",
              "      <td>Recommended</td>\n",
              "      <td>2020-04-27</td>\n",
              "      <td>Terraria</td>\n",
              "      <td>Gharth\\n458 products in account</td>\n",
              "    </tr>\n",
              "    <tr>\n",
              "      <th>147481</th>\n",
              "      <td>2022 Other developers: Promise to update their...</td>\n",
              "      <td>205.4</td>\n",
              "      <td>751</td>\n",
              "      <td>261</td>\n",
              "      <td>Recommended</td>\n",
              "      <td>2022-08-15</td>\n",
              "      <td>Terraria</td>\n",
              "      <td>apricot</td>\n",
              "    </tr>\n",
              "    <tr>\n",
              "      <th>147482</th>\n",
              "      <td>2019 8 years of free updates and countingCheap...</td>\n",
              "      <td>153.2</td>\n",
              "      <td>1312</td>\n",
              "      <td>175</td>\n",
              "      <td>Recommended</td>\n",
              "      <td>2019-05-16</td>\n",
              "      <td>Terraria</td>\n",
              "      <td>Saint Tivadar\\n696 products in account</td>\n",
              "    </tr>\n",
              "    <tr>\n",
              "      <th>...</th>\n",
              "      <td>...</td>\n",
              "      <td>...</td>\n",
              "      <td>...</td>\n",
              "      <td>...</td>\n",
              "      <td>...</td>\n",
              "      <td>...</td>\n",
              "      <td>...</td>\n",
              "      <td>...</td>\n",
              "    </tr>\n",
              "    <tr>\n",
              "      <th>326736</th>\n",
              "      <td>2023 Raft, developed by Redbeet Interactive, i...</td>\n",
              "      <td>3.7</td>\n",
              "      <td>1</td>\n",
              "      <td>0</td>\n",
              "      <td>Recommended</td>\n",
              "      <td>2023-12-04</td>\n",
              "      <td>Raft</td>\n",
              "      <td>h20\\n30 products in account</td>\n",
              "    </tr>\n",
              "    <tr>\n",
              "      <th>326737</th>\n",
              "      <td>2023 they took my pirate booty :(</td>\n",
              "      <td>14.6</td>\n",
              "      <td>1</td>\n",
              "      <td>0</td>\n",
              "      <td>Recommended</td>\n",
              "      <td>2023-12-03</td>\n",
              "      <td>Raft</td>\n",
              "      <td>sugurr\\n58 products in account</td>\n",
              "    </tr>\n",
              "    <tr>\n",
              "      <th>326738</th>\n",
              "      <td>2023 its like a pool but bigger</td>\n",
              "      <td>131.0</td>\n",
              "      <td>1</td>\n",
              "      <td>1</td>\n",
              "      <td>Recommended</td>\n",
              "      <td>2023-12-03</td>\n",
              "      <td>Raft</td>\n",
              "      <td>merryfatman</td>\n",
              "    </tr>\n",
              "    <tr>\n",
              "      <th>326739</th>\n",
              "      <td>2023 its really fun with friends</td>\n",
              "      <td>17.8</td>\n",
              "      <td>1</td>\n",
              "      <td>0</td>\n",
              "      <td>Recommended</td>\n",
              "      <td>2023-12-02</td>\n",
              "      <td>Raft</td>\n",
              "      <td>kizrean</td>\n",
              "    </tr>\n",
              "    <tr>\n",
              "      <th>326740</th>\n",
              "      <td>2023 Good game. The only thing bad is that mos...</td>\n",
              "      <td>18.3</td>\n",
              "      <td>1</td>\n",
              "      <td>0</td>\n",
              "      <td>Recommended</td>\n",
              "      <td>2023-12-01</td>\n",
              "      <td>Raft</td>\n",
              "      <td>xeroxayuki\\n216 products in account</td>\n",
              "    </tr>\n",
              "  </tbody>\n",
              "</table>\n",
              "<p>18574 rows × 8 columns</p>\n",
              "</div>\n",
              "    <div class=\"colab-df-buttons\">\n",
              "\n",
              "  <div class=\"colab-df-container\">\n",
              "    <button class=\"colab-df-convert\" onclick=\"convertToInteractive('df-c11693aa-6d12-49c0-ba01-d5bbadef86d0')\"\n",
              "            title=\"Convert this dataframe to an interactive table.\"\n",
              "            style=\"display:none;\">\n",
              "\n",
              "  <svg xmlns=\"http://www.w3.org/2000/svg\" height=\"24px\" viewBox=\"0 -960 960 960\">\n",
              "    <path d=\"M120-120v-720h720v720H120Zm60-500h600v-160H180v160Zm220 220h160v-160H400v160Zm0 220h160v-160H400v160ZM180-400h160v-160H180v160Zm440 0h160v-160H620v160ZM180-180h160v-160H180v160Zm440 0h160v-160H620v160Z\"/>\n",
              "  </svg>\n",
              "    </button>\n",
              "\n",
              "  <style>\n",
              "    .colab-df-container {\n",
              "      display:flex;\n",
              "      gap: 12px;\n",
              "    }\n",
              "\n",
              "    .colab-df-convert {\n",
              "      background-color: #E8F0FE;\n",
              "      border: none;\n",
              "      border-radius: 50%;\n",
              "      cursor: pointer;\n",
              "      display: none;\n",
              "      fill: #1967D2;\n",
              "      height: 32px;\n",
              "      padding: 0 0 0 0;\n",
              "      width: 32px;\n",
              "    }\n",
              "\n",
              "    .colab-df-convert:hover {\n",
              "      background-color: #E2EBFA;\n",
              "      box-shadow: 0px 1px 2px rgba(60, 64, 67, 0.3), 0px 1px 3px 1px rgba(60, 64, 67, 0.15);\n",
              "      fill: #174EA6;\n",
              "    }\n",
              "\n",
              "    .colab-df-buttons div {\n",
              "      margin-bottom: 4px;\n",
              "    }\n",
              "\n",
              "    [theme=dark] .colab-df-convert {\n",
              "      background-color: #3B4455;\n",
              "      fill: #D2E3FC;\n",
              "    }\n",
              "\n",
              "    [theme=dark] .colab-df-convert:hover {\n",
              "      background-color: #434B5C;\n",
              "      box-shadow: 0px 1px 3px 1px rgba(0, 0, 0, 0.15);\n",
              "      filter: drop-shadow(0px 1px 2px rgba(0, 0, 0, 0.3));\n",
              "      fill: #FFFFFF;\n",
              "    }\n",
              "  </style>\n",
              "\n",
              "    <script>\n",
              "      const buttonEl =\n",
              "        document.querySelector('#df-c11693aa-6d12-49c0-ba01-d5bbadef86d0 button.colab-df-convert');\n",
              "      buttonEl.style.display =\n",
              "        google.colab.kernel.accessAllowed ? 'block' : 'none';\n",
              "\n",
              "      async function convertToInteractive(key) {\n",
              "        const element = document.querySelector('#df-c11693aa-6d12-49c0-ba01-d5bbadef86d0');\n",
              "        const dataTable =\n",
              "          await google.colab.kernel.invokeFunction('convertToInteractive',\n",
              "                                                    [key], {});\n",
              "        if (!dataTable) return;\n",
              "\n",
              "        const docLinkHtml = 'Like what you see? Visit the ' +\n",
              "          '<a target=\"_blank\" href=https://colab.research.google.com/notebooks/data_table.ipynb>data table notebook</a>'\n",
              "          + ' to learn more about interactive tables.';\n",
              "        element.innerHTML = '';\n",
              "        dataTable['output_type'] = 'display_data';\n",
              "        await google.colab.output.renderOutput(dataTable, element);\n",
              "        const docLink = document.createElement('div');\n",
              "        docLink.innerHTML = docLinkHtml;\n",
              "        element.appendChild(docLink);\n",
              "      }\n",
              "    </script>\n",
              "  </div>\n",
              "\n",
              "\n",
              "<div id=\"df-34007bf8-2525-4c62-ac46-a9dc78d6af73\">\n",
              "  <button class=\"colab-df-quickchart\" onclick=\"quickchart('df-34007bf8-2525-4c62-ac46-a9dc78d6af73')\"\n",
              "            title=\"Suggest charts\"\n",
              "            style=\"display:none;\">\n",
              "\n",
              "<svg xmlns=\"http://www.w3.org/2000/svg\" height=\"24px\"viewBox=\"0 0 24 24\"\n",
              "     width=\"24px\">\n",
              "    <g>\n",
              "        <path d=\"M19 3H5c-1.1 0-2 .9-2 2v14c0 1.1.9 2 2 2h14c1.1 0 2-.9 2-2V5c0-1.1-.9-2-2-2zM9 17H7v-7h2v7zm4 0h-2V7h2v10zm4 0h-2v-4h2v4z\"/>\n",
              "    </g>\n",
              "</svg>\n",
              "  </button>\n",
              "\n",
              "<style>\n",
              "  .colab-df-quickchart {\n",
              "      --bg-color: #E8F0FE;\n",
              "      --fill-color: #1967D2;\n",
              "      --hover-bg-color: #E2EBFA;\n",
              "      --hover-fill-color: #174EA6;\n",
              "      --disabled-fill-color: #AAA;\n",
              "      --disabled-bg-color: #DDD;\n",
              "  }\n",
              "\n",
              "  [theme=dark] .colab-df-quickchart {\n",
              "      --bg-color: #3B4455;\n",
              "      --fill-color: #D2E3FC;\n",
              "      --hover-bg-color: #434B5C;\n",
              "      --hover-fill-color: #FFFFFF;\n",
              "      --disabled-bg-color: #3B4455;\n",
              "      --disabled-fill-color: #666;\n",
              "  }\n",
              "\n",
              "  .colab-df-quickchart {\n",
              "    background-color: var(--bg-color);\n",
              "    border: none;\n",
              "    border-radius: 50%;\n",
              "    cursor: pointer;\n",
              "    display: none;\n",
              "    fill: var(--fill-color);\n",
              "    height: 32px;\n",
              "    padding: 0;\n",
              "    width: 32px;\n",
              "  }\n",
              "\n",
              "  .colab-df-quickchart:hover {\n",
              "    background-color: var(--hover-bg-color);\n",
              "    box-shadow: 0 1px 2px rgba(60, 64, 67, 0.3), 0 1px 3px 1px rgba(60, 64, 67, 0.15);\n",
              "    fill: var(--button-hover-fill-color);\n",
              "  }\n",
              "\n",
              "  .colab-df-quickchart-complete:disabled,\n",
              "  .colab-df-quickchart-complete:disabled:hover {\n",
              "    background-color: var(--disabled-bg-color);\n",
              "    fill: var(--disabled-fill-color);\n",
              "    box-shadow: none;\n",
              "  }\n",
              "\n",
              "  .colab-df-spinner {\n",
              "    border: 2px solid var(--fill-color);\n",
              "    border-color: transparent;\n",
              "    border-bottom-color: var(--fill-color);\n",
              "    animation:\n",
              "      spin 1s steps(1) infinite;\n",
              "  }\n",
              "\n",
              "  @keyframes spin {\n",
              "    0% {\n",
              "      border-color: transparent;\n",
              "      border-bottom-color: var(--fill-color);\n",
              "      border-left-color: var(--fill-color);\n",
              "    }\n",
              "    20% {\n",
              "      border-color: transparent;\n",
              "      border-left-color: var(--fill-color);\n",
              "      border-top-color: var(--fill-color);\n",
              "    }\n",
              "    30% {\n",
              "      border-color: transparent;\n",
              "      border-left-color: var(--fill-color);\n",
              "      border-top-color: var(--fill-color);\n",
              "      border-right-color: var(--fill-color);\n",
              "    }\n",
              "    40% {\n",
              "      border-color: transparent;\n",
              "      border-right-color: var(--fill-color);\n",
              "      border-top-color: var(--fill-color);\n",
              "    }\n",
              "    60% {\n",
              "      border-color: transparent;\n",
              "      border-right-color: var(--fill-color);\n",
              "    }\n",
              "    80% {\n",
              "      border-color: transparent;\n",
              "      border-right-color: var(--fill-color);\n",
              "      border-bottom-color: var(--fill-color);\n",
              "    }\n",
              "    90% {\n",
              "      border-color: transparent;\n",
              "      border-bottom-color: var(--fill-color);\n",
              "    }\n",
              "  }\n",
              "</style>\n",
              "\n",
              "  <script>\n",
              "    async function quickchart(key) {\n",
              "      const quickchartButtonEl =\n",
              "        document.querySelector('#' + key + ' button');\n",
              "      quickchartButtonEl.disabled = true;  // To prevent multiple clicks.\n",
              "      quickchartButtonEl.classList.add('colab-df-spinner');\n",
              "      try {\n",
              "        const charts = await google.colab.kernel.invokeFunction(\n",
              "            'suggestCharts', [key], {});\n",
              "      } catch (error) {\n",
              "        console.error('Error during call to suggestCharts:', error);\n",
              "      }\n",
              "      quickchartButtonEl.classList.remove('colab-df-spinner');\n",
              "      quickchartButtonEl.classList.add('colab-df-quickchart-complete');\n",
              "    }\n",
              "    (() => {\n",
              "      let quickchartButtonEl =\n",
              "        document.querySelector('#df-34007bf8-2525-4c62-ac46-a9dc78d6af73 button');\n",
              "      quickchartButtonEl.style.display =\n",
              "        google.colab.kernel.accessAllowed ? 'block' : 'none';\n",
              "    })();\n",
              "  </script>\n",
              "</div>\n",
              "    </div>\n",
              "  </div>\n"
            ],
            "application/vnd.google.colaboratory.intrinsic+json": {
              "type": "dataframe",
              "variable_name": "df_games",
              "summary": "{\n  \"name\": \"df_games\",\n  \"rows\": 18574,\n  \"fields\": [\n    {\n      \"column\": \"review\",\n      \"properties\": {\n        \"dtype\": \"string\",\n        \"num_unique_values\": 17989,\n        \"samples\": [\n          \"2021 One of the better games released by valve, really had fun playing the single player and multi player mode with my friend.\",\n          \"2018 fkytujf5t7iy\",\n          \"2020 Great great game!! I bought the 4-pack just over 5 dollars for me & my friends (totally worth it)!!!Would like to give a quick summary/review about terraria so here it goes.The Terraria's core structure So You have to create a character, and enter a randomly-generated world (small/medium/large). There's a day/night cycle, which means you'll immediately be under siege by zombies and floating eyeballs as soon as the sun goes down, so your first order of business is to put your starting set of copper harvesting tools to work and construct a house (complete with a table, chair, and light source so the guide npc can enter). Once you have a place to keep you safe at night, the world is pretty much your oyster. You run across the earth's crust to find some entry points into the vast network of underground caverns below your feet. You'll have to mine, chop, kill zombies, and return home with some iron, tin, and buckets of loot sourced from wooden, golden and variety of other chests as well as from the materials from enemy, you will need that for crafting the accessories later. You have to construct layered workstations to forge your harvest into better weapons and gear(crafting is fun), you'll have to build more houses that will attract new NPCs, who will sell you exotic items or offer fresh haircuts and many more other accessories and stuff, you'll eventually no longer have to fear the night, and will cut through zombies like cotton candy. After all that done you can fight bosses do events, fishing quests and other things like explore shrines, making themed houses for npcs and the list goes on. The fact that there are over a thousand items in total is insane! Btw anyone who's getting started with terraria I suggest you to check the official terraria wiki, everything you need to know about weapon crafting, accessories, class setups, events, bosses, biomes, guides, npcs, every single thing you will get to know there! I'll attach the link below if somebody is interested! Terraria Wiki[terraria.gamepedia.com]lastly, I highly recommend everyone should give it a try once, the ton of content which you are getting under 5 dollars is insane!\"\n        ],\n        \"semantic_type\": \"\",\n        \"description\": \"\"\n      }\n    },\n    {\n      \"column\": \"hours_played\",\n      \"properties\": {\n        \"dtype\": \"number\",\n        \"std\": 1026.9898432106324,\n        \"min\": 0.1,\n        \"max\": 43611.8,\n        \"num_unique_values\": 5644,\n        \"samples\": [\n          362.3,\n          291.5,\n          1008.8\n        ],\n        \"semantic_type\": \"\",\n        \"description\": \"\"\n      }\n    },\n    {\n      \"column\": \"helpful\",\n      \"properties\": {\n        \"dtype\": \"number\",\n        \"std\": 164,\n        \"min\": 0,\n        \"max\": 9284,\n        \"num_unique_values\": 601,\n        \"samples\": [\n          246,\n          23,\n          363\n        ],\n        \"semantic_type\": \"\",\n        \"description\": \"\"\n      }\n    },\n    {\n      \"column\": \"funny\",\n      \"properties\": {\n        \"dtype\": \"number\",\n        \"std\": 116,\n        \"min\": 0,\n        \"max\": 6350,\n        \"num_unique_values\": 372,\n        \"samples\": [\n          1707,\n          148,\n          309\n        ],\n        \"semantic_type\": \"\",\n        \"description\": \"\"\n      }\n    },\n    {\n      \"column\": \"recommendation\",\n      \"properties\": {\n        \"dtype\": \"category\",\n        \"num_unique_values\": 2,\n        \"samples\": [\n          \"Not Recommended\",\n          \"Recommended\"\n        ],\n        \"semantic_type\": \"\",\n        \"description\": \"\"\n      }\n    },\n    {\n      \"column\": \"date\",\n      \"properties\": {\n        \"dtype\": \"date\",\n        \"min\": \"2011-04-12 00:00:00\",\n        \"max\": \"2023-12-31 00:00:00\",\n        \"num_unique_values\": 3677,\n        \"samples\": [\n          \"2020-06-03 00:00:00\",\n          \"2015-01-09 00:00:00\"\n        ],\n        \"semantic_type\": \"\",\n        \"description\": \"\"\n      }\n    },\n    {\n      \"column\": \"game_name\",\n      \"properties\": {\n        \"dtype\": \"category\",\n        \"num_unique_values\": 4,\n        \"samples\": [\n          \"Portal 2\",\n          \"Raft\"\n        ],\n        \"semantic_type\": \"\",\n        \"description\": \"\"\n      }\n    },\n    {\n      \"column\": \"username\",\n      \"properties\": {\n        \"dtype\": \"string\",\n        \"num_unique_values\": 18136,\n        \"samples\": [\n          \"caeh!\\n251 products in account\",\n          \"LinxusB1\"\n        ],\n        \"semantic_type\": \"\",\n        \"description\": \"\"\n      }\n    }\n  ]\n}"
            }
          },
          "metadata": {},
          "execution_count": 30
        }
      ],
      "source": [
        "df_games.dropna(inplace=True)\n",
        "df_games"
      ]
    },
    {
      "cell_type": "markdown",
      "metadata": {
        "id": "rhqfpUSP1vLX"
      },
      "source": [
        "Оставим данные только за **2022** год"
      ]
    },
    {
      "cell_type": "code",
      "execution_count": 32,
      "metadata": {
        "id": "nmixlEaw1vLc",
        "colab": {
          "base_uri": "https://localhost:8080/",
          "height": 944
        },
        "outputId": "afb42e42-7da2-420e-f783-3f2ec73c0f07"
      },
      "outputs": [
        {
          "output_type": "execute_result",
          "data": {
            "text/plain": [
              "                                                   review  hours_played  \\\n",
              "147481  2022 Other developers: Promise to update their...         205.4   \n",
              "147502      2022 i like when eye of cthulhu goes urraaeuh        1141.0   \n",
              "147505  2022 pretty fun, just discovered this cool bos...        1495.6   \n",
              "147518  2022 Devs promised the game's getting its last...        2137.4   \n",
              "147522                                  2022 you can fish         225.1   \n",
              "...                                                   ...           ...   \n",
              "326057                                            2022 no          25.6   \n",
              "326058  2022 Only rating it up because it has a \"peace...          43.4   \n",
              "326061  2022 One of the more chill survival games. PvE...          40.2   \n",
              "326069  2022 Product received for free Early Access Re...          11.3   \n",
              "326070  2022 I am a 45 yo father, probably one of the ...         351.1   \n",
              "\n",
              "        helpful  funny   recommendation       date game_name  \\\n",
              "147481      751    261      Recommended 2022-08-15  Terraria   \n",
              "147502      472    205      Recommended 2022-03-29  Terraria   \n",
              "147505      411    384      Recommended 2022-04-19  Terraria   \n",
              "147518      454     16      Recommended 2022-07-31  Terraria   \n",
              "147522      319     68      Recommended 2022-05-23  Terraria   \n",
              "...         ...    ...              ...        ...       ...   \n",
              "326057        2      1  Not Recommended 2022-07-14      Raft   \n",
              "326058        1      0      Recommended 2022-06-23      Raft   \n",
              "326061        2      0      Recommended 2022-07-11      Raft   \n",
              "326069        3      0      Recommended 2022-05-02      Raft   \n",
              "326070       13      1      Recommended 2022-06-20      Raft   \n",
              "\n",
              "                                       username  \n",
              "147481                                  apricot  \n",
              "147502          Doinge\\n128 products in account  \n",
              "147505          Pryogen\\n62 products in account  \n",
              "147518                                      eel  \n",
              "147522                                 wagoogus  \n",
              "...                                         ...  \n",
              "326057  ~Just Raphael~\\n170 products in account  \n",
              "326058               Baron Friedrich von Glower  \n",
              "326061     BlueLobster\\n155 products in account  \n",
              "326069   DeputyGodzilla\\n26 products in account  \n",
              "326070        Its Javii\\n85 products in account  \n",
              "\n",
              "[2155 rows x 8 columns]"
            ],
            "text/html": [
              "\n",
              "  <div id=\"df-1f3d64f5-3b22-4892-ad27-72ec8e8f4e62\" class=\"colab-df-container\">\n",
              "    <div>\n",
              "<style scoped>\n",
              "    .dataframe tbody tr th:only-of-type {\n",
              "        vertical-align: middle;\n",
              "    }\n",
              "\n",
              "    .dataframe tbody tr th {\n",
              "        vertical-align: top;\n",
              "    }\n",
              "\n",
              "    .dataframe thead th {\n",
              "        text-align: right;\n",
              "    }\n",
              "</style>\n",
              "<table border=\"1\" class=\"dataframe\">\n",
              "  <thead>\n",
              "    <tr style=\"text-align: right;\">\n",
              "      <th></th>\n",
              "      <th>review</th>\n",
              "      <th>hours_played</th>\n",
              "      <th>helpful</th>\n",
              "      <th>funny</th>\n",
              "      <th>recommendation</th>\n",
              "      <th>date</th>\n",
              "      <th>game_name</th>\n",
              "      <th>username</th>\n",
              "    </tr>\n",
              "  </thead>\n",
              "  <tbody>\n",
              "    <tr>\n",
              "      <th>147481</th>\n",
              "      <td>2022 Other developers: Promise to update their...</td>\n",
              "      <td>205.4</td>\n",
              "      <td>751</td>\n",
              "      <td>261</td>\n",
              "      <td>Recommended</td>\n",
              "      <td>2022-08-15</td>\n",
              "      <td>Terraria</td>\n",
              "      <td>apricot</td>\n",
              "    </tr>\n",
              "    <tr>\n",
              "      <th>147502</th>\n",
              "      <td>2022 i like when eye of cthulhu goes urraaeuh</td>\n",
              "      <td>1141.0</td>\n",
              "      <td>472</td>\n",
              "      <td>205</td>\n",
              "      <td>Recommended</td>\n",
              "      <td>2022-03-29</td>\n",
              "      <td>Terraria</td>\n",
              "      <td>Doinge\\n128 products in account</td>\n",
              "    </tr>\n",
              "    <tr>\n",
              "      <th>147505</th>\n",
              "      <td>2022 pretty fun, just discovered this cool bos...</td>\n",
              "      <td>1495.6</td>\n",
              "      <td>411</td>\n",
              "      <td>384</td>\n",
              "      <td>Recommended</td>\n",
              "      <td>2022-04-19</td>\n",
              "      <td>Terraria</td>\n",
              "      <td>Pryogen\\n62 products in account</td>\n",
              "    </tr>\n",
              "    <tr>\n",
              "      <th>147518</th>\n",
              "      <td>2022 Devs promised the game's getting its last...</td>\n",
              "      <td>2137.4</td>\n",
              "      <td>454</td>\n",
              "      <td>16</td>\n",
              "      <td>Recommended</td>\n",
              "      <td>2022-07-31</td>\n",
              "      <td>Terraria</td>\n",
              "      <td>eel</td>\n",
              "    </tr>\n",
              "    <tr>\n",
              "      <th>147522</th>\n",
              "      <td>2022 you can fish</td>\n",
              "      <td>225.1</td>\n",
              "      <td>319</td>\n",
              "      <td>68</td>\n",
              "      <td>Recommended</td>\n",
              "      <td>2022-05-23</td>\n",
              "      <td>Terraria</td>\n",
              "      <td>wagoogus</td>\n",
              "    </tr>\n",
              "    <tr>\n",
              "      <th>...</th>\n",
              "      <td>...</td>\n",
              "      <td>...</td>\n",
              "      <td>...</td>\n",
              "      <td>...</td>\n",
              "      <td>...</td>\n",
              "      <td>...</td>\n",
              "      <td>...</td>\n",
              "      <td>...</td>\n",
              "    </tr>\n",
              "    <tr>\n",
              "      <th>326057</th>\n",
              "      <td>2022 no</td>\n",
              "      <td>25.6</td>\n",
              "      <td>2</td>\n",
              "      <td>1</td>\n",
              "      <td>Not Recommended</td>\n",
              "      <td>2022-07-14</td>\n",
              "      <td>Raft</td>\n",
              "      <td>~Just Raphael~\\n170 products in account</td>\n",
              "    </tr>\n",
              "    <tr>\n",
              "      <th>326058</th>\n",
              "      <td>2022 Only rating it up because it has a \"peace...</td>\n",
              "      <td>43.4</td>\n",
              "      <td>1</td>\n",
              "      <td>0</td>\n",
              "      <td>Recommended</td>\n",
              "      <td>2022-06-23</td>\n",
              "      <td>Raft</td>\n",
              "      <td>Baron Friedrich von Glower</td>\n",
              "    </tr>\n",
              "    <tr>\n",
              "      <th>326061</th>\n",
              "      <td>2022 One of the more chill survival games. PvE...</td>\n",
              "      <td>40.2</td>\n",
              "      <td>2</td>\n",
              "      <td>0</td>\n",
              "      <td>Recommended</td>\n",
              "      <td>2022-07-11</td>\n",
              "      <td>Raft</td>\n",
              "      <td>BlueLobster\\n155 products in account</td>\n",
              "    </tr>\n",
              "    <tr>\n",
              "      <th>326069</th>\n",
              "      <td>2022 Product received for free Early Access Re...</td>\n",
              "      <td>11.3</td>\n",
              "      <td>3</td>\n",
              "      <td>0</td>\n",
              "      <td>Recommended</td>\n",
              "      <td>2022-05-02</td>\n",
              "      <td>Raft</td>\n",
              "      <td>DeputyGodzilla\\n26 products in account</td>\n",
              "    </tr>\n",
              "    <tr>\n",
              "      <th>326070</th>\n",
              "      <td>2022 I am a 45 yo father, probably one of the ...</td>\n",
              "      <td>351.1</td>\n",
              "      <td>13</td>\n",
              "      <td>1</td>\n",
              "      <td>Recommended</td>\n",
              "      <td>2022-06-20</td>\n",
              "      <td>Raft</td>\n",
              "      <td>Its Javii\\n85 products in account</td>\n",
              "    </tr>\n",
              "  </tbody>\n",
              "</table>\n",
              "<p>2155 rows × 8 columns</p>\n",
              "</div>\n",
              "    <div class=\"colab-df-buttons\">\n",
              "\n",
              "  <div class=\"colab-df-container\">\n",
              "    <button class=\"colab-df-convert\" onclick=\"convertToInteractive('df-1f3d64f5-3b22-4892-ad27-72ec8e8f4e62')\"\n",
              "            title=\"Convert this dataframe to an interactive table.\"\n",
              "            style=\"display:none;\">\n",
              "\n",
              "  <svg xmlns=\"http://www.w3.org/2000/svg\" height=\"24px\" viewBox=\"0 -960 960 960\">\n",
              "    <path d=\"M120-120v-720h720v720H120Zm60-500h600v-160H180v160Zm220 220h160v-160H400v160Zm0 220h160v-160H400v160ZM180-400h160v-160H180v160Zm440 0h160v-160H620v160ZM180-180h160v-160H180v160Zm440 0h160v-160H620v160Z\"/>\n",
              "  </svg>\n",
              "    </button>\n",
              "\n",
              "  <style>\n",
              "    .colab-df-container {\n",
              "      display:flex;\n",
              "      gap: 12px;\n",
              "    }\n",
              "\n",
              "    .colab-df-convert {\n",
              "      background-color: #E8F0FE;\n",
              "      border: none;\n",
              "      border-radius: 50%;\n",
              "      cursor: pointer;\n",
              "      display: none;\n",
              "      fill: #1967D2;\n",
              "      height: 32px;\n",
              "      padding: 0 0 0 0;\n",
              "      width: 32px;\n",
              "    }\n",
              "\n",
              "    .colab-df-convert:hover {\n",
              "      background-color: #E2EBFA;\n",
              "      box-shadow: 0px 1px 2px rgba(60, 64, 67, 0.3), 0px 1px 3px 1px rgba(60, 64, 67, 0.15);\n",
              "      fill: #174EA6;\n",
              "    }\n",
              "\n",
              "    .colab-df-buttons div {\n",
              "      margin-bottom: 4px;\n",
              "    }\n",
              "\n",
              "    [theme=dark] .colab-df-convert {\n",
              "      background-color: #3B4455;\n",
              "      fill: #D2E3FC;\n",
              "    }\n",
              "\n",
              "    [theme=dark] .colab-df-convert:hover {\n",
              "      background-color: #434B5C;\n",
              "      box-shadow: 0px 1px 3px 1px rgba(0, 0, 0, 0.15);\n",
              "      filter: drop-shadow(0px 1px 2px rgba(0, 0, 0, 0.3));\n",
              "      fill: #FFFFFF;\n",
              "    }\n",
              "  </style>\n",
              "\n",
              "    <script>\n",
              "      const buttonEl =\n",
              "        document.querySelector('#df-1f3d64f5-3b22-4892-ad27-72ec8e8f4e62 button.colab-df-convert');\n",
              "      buttonEl.style.display =\n",
              "        google.colab.kernel.accessAllowed ? 'block' : 'none';\n",
              "\n",
              "      async function convertToInteractive(key) {\n",
              "        const element = document.querySelector('#df-1f3d64f5-3b22-4892-ad27-72ec8e8f4e62');\n",
              "        const dataTable =\n",
              "          await google.colab.kernel.invokeFunction('convertToInteractive',\n",
              "                                                    [key], {});\n",
              "        if (!dataTable) return;\n",
              "\n",
              "        const docLinkHtml = 'Like what you see? Visit the ' +\n",
              "          '<a target=\"_blank\" href=https://colab.research.google.com/notebooks/data_table.ipynb>data table notebook</a>'\n",
              "          + ' to learn more about interactive tables.';\n",
              "        element.innerHTML = '';\n",
              "        dataTable['output_type'] = 'display_data';\n",
              "        await google.colab.output.renderOutput(dataTable, element);\n",
              "        const docLink = document.createElement('div');\n",
              "        docLink.innerHTML = docLinkHtml;\n",
              "        element.appendChild(docLink);\n",
              "      }\n",
              "    </script>\n",
              "  </div>\n",
              "\n",
              "\n",
              "<div id=\"df-c494f495-407e-4997-b1a3-b828130113e3\">\n",
              "  <button class=\"colab-df-quickchart\" onclick=\"quickchart('df-c494f495-407e-4997-b1a3-b828130113e3')\"\n",
              "            title=\"Suggest charts\"\n",
              "            style=\"display:none;\">\n",
              "\n",
              "<svg xmlns=\"http://www.w3.org/2000/svg\" height=\"24px\"viewBox=\"0 0 24 24\"\n",
              "     width=\"24px\">\n",
              "    <g>\n",
              "        <path d=\"M19 3H5c-1.1 0-2 .9-2 2v14c0 1.1.9 2 2 2h14c1.1 0 2-.9 2-2V5c0-1.1-.9-2-2-2zM9 17H7v-7h2v7zm4 0h-2V7h2v10zm4 0h-2v-4h2v4z\"/>\n",
              "    </g>\n",
              "</svg>\n",
              "  </button>\n",
              "\n",
              "<style>\n",
              "  .colab-df-quickchart {\n",
              "      --bg-color: #E8F0FE;\n",
              "      --fill-color: #1967D2;\n",
              "      --hover-bg-color: #E2EBFA;\n",
              "      --hover-fill-color: #174EA6;\n",
              "      --disabled-fill-color: #AAA;\n",
              "      --disabled-bg-color: #DDD;\n",
              "  }\n",
              "\n",
              "  [theme=dark] .colab-df-quickchart {\n",
              "      --bg-color: #3B4455;\n",
              "      --fill-color: #D2E3FC;\n",
              "      --hover-bg-color: #434B5C;\n",
              "      --hover-fill-color: #FFFFFF;\n",
              "      --disabled-bg-color: #3B4455;\n",
              "      --disabled-fill-color: #666;\n",
              "  }\n",
              "\n",
              "  .colab-df-quickchart {\n",
              "    background-color: var(--bg-color);\n",
              "    border: none;\n",
              "    border-radius: 50%;\n",
              "    cursor: pointer;\n",
              "    display: none;\n",
              "    fill: var(--fill-color);\n",
              "    height: 32px;\n",
              "    padding: 0;\n",
              "    width: 32px;\n",
              "  }\n",
              "\n",
              "  .colab-df-quickchart:hover {\n",
              "    background-color: var(--hover-bg-color);\n",
              "    box-shadow: 0 1px 2px rgba(60, 64, 67, 0.3), 0 1px 3px 1px rgba(60, 64, 67, 0.15);\n",
              "    fill: var(--button-hover-fill-color);\n",
              "  }\n",
              "\n",
              "  .colab-df-quickchart-complete:disabled,\n",
              "  .colab-df-quickchart-complete:disabled:hover {\n",
              "    background-color: var(--disabled-bg-color);\n",
              "    fill: var(--disabled-fill-color);\n",
              "    box-shadow: none;\n",
              "  }\n",
              "\n",
              "  .colab-df-spinner {\n",
              "    border: 2px solid var(--fill-color);\n",
              "    border-color: transparent;\n",
              "    border-bottom-color: var(--fill-color);\n",
              "    animation:\n",
              "      spin 1s steps(1) infinite;\n",
              "  }\n",
              "\n",
              "  @keyframes spin {\n",
              "    0% {\n",
              "      border-color: transparent;\n",
              "      border-bottom-color: var(--fill-color);\n",
              "      border-left-color: var(--fill-color);\n",
              "    }\n",
              "    20% {\n",
              "      border-color: transparent;\n",
              "      border-left-color: var(--fill-color);\n",
              "      border-top-color: var(--fill-color);\n",
              "    }\n",
              "    30% {\n",
              "      border-color: transparent;\n",
              "      border-left-color: var(--fill-color);\n",
              "      border-top-color: var(--fill-color);\n",
              "      border-right-color: var(--fill-color);\n",
              "    }\n",
              "    40% {\n",
              "      border-color: transparent;\n",
              "      border-right-color: var(--fill-color);\n",
              "      border-top-color: var(--fill-color);\n",
              "    }\n",
              "    60% {\n",
              "      border-color: transparent;\n",
              "      border-right-color: var(--fill-color);\n",
              "    }\n",
              "    80% {\n",
              "      border-color: transparent;\n",
              "      border-right-color: var(--fill-color);\n",
              "      border-bottom-color: var(--fill-color);\n",
              "    }\n",
              "    90% {\n",
              "      border-color: transparent;\n",
              "      border-bottom-color: var(--fill-color);\n",
              "    }\n",
              "  }\n",
              "</style>\n",
              "\n",
              "  <script>\n",
              "    async function quickchart(key) {\n",
              "      const quickchartButtonEl =\n",
              "        document.querySelector('#' + key + ' button');\n",
              "      quickchartButtonEl.disabled = true;  // To prevent multiple clicks.\n",
              "      quickchartButtonEl.classList.add('colab-df-spinner');\n",
              "      try {\n",
              "        const charts = await google.colab.kernel.invokeFunction(\n",
              "            'suggestCharts', [key], {});\n",
              "      } catch (error) {\n",
              "        console.error('Error during call to suggestCharts:', error);\n",
              "      }\n",
              "      quickchartButtonEl.classList.remove('colab-df-spinner');\n",
              "      quickchartButtonEl.classList.add('colab-df-quickchart-complete');\n",
              "    }\n",
              "    (() => {\n",
              "      let quickchartButtonEl =\n",
              "        document.querySelector('#df-c494f495-407e-4997-b1a3-b828130113e3 button');\n",
              "      quickchartButtonEl.style.display =\n",
              "        google.colab.kernel.accessAllowed ? 'block' : 'none';\n",
              "    })();\n",
              "  </script>\n",
              "</div>\n",
              "    </div>\n",
              "  </div>\n"
            ],
            "application/vnd.google.colaboratory.intrinsic+json": {
              "type": "dataframe",
              "variable_name": "df_games_2022",
              "summary": "{\n  \"name\": \"df_games_2022\",\n  \"rows\": 2155,\n  \"fields\": [\n    {\n      \"column\": \"review\",\n      \"properties\": {\n        \"dtype\": \"string\",\n        \"num_unique_values\": 2082,\n        \"samples\": [\n          \"2022 It's 2028, the ice caps have melted (not because of global warming) and you are afloat on your \\u2665\\u2665\\u2665\\u2665\\u2665\\u2665 little raft with nothing but a plastic hook on a rope. Now you can gather some of the \\u2665\\u2665\\u2665\\u2665 that's floating about, visit small islands to gather fruit and chop wood, and slowly but surely expand your raft and your tech tree until you got yourself a floating mansion with gardens, engines, animals and trophies of the \\u2665\\u2665\\u2665\\u2665\\u2665\\u2665\\u2665 beasts that attacked you on the way to a comfortable life.To unlock a lot of valuable blueprints, you visit story islands and structures and explore them entirely to gather clues and materials, and to figure out what the \\u2665\\u2665\\u2665\\u2665 happened to humanity. Once you complete one, the coordinates for the next one will be shown to you.It took us about 30 hours to complete the story and unlock the last blueprints, and it's been a lot of fun. We spent a decent amount of time lollygaggin about to spruce up our raft as well. Recommended either with a friend or alone, though if you play alone, have a little more patience because the grind to gather enough materials will be bigger.\",\n          \"2022 >dating sim set in ancient greece>you cant pound the only twink in the gameat least the roguelite side minigame included in the package is pretty good\",\n          \"2022 the satisfaction of killing a shark makes me feel better about myself\"\n        ],\n        \"semantic_type\": \"\",\n        \"description\": \"\"\n      }\n    },\n    {\n      \"column\": \"hours_played\",\n      \"properties\": {\n        \"dtype\": \"number\",\n        \"std\": 522.7156791745101,\n        \"min\": 0.1,\n        \"max\": 12241.1,\n        \"num_unique_values\": 1340,\n        \"samples\": [\n          0.3,\n          183.5,\n          55.0\n        ],\n        \"semantic_type\": \"\",\n        \"description\": \"\"\n      }\n    },\n    {\n      \"column\": \"helpful\",\n      \"properties\": {\n        \"dtype\": \"number\",\n        \"std\": 158,\n        \"min\": 0,\n        \"max\": 3365,\n        \"num_unique_values\": 260,\n        \"samples\": [\n          167,\n          18,\n          52\n        ],\n        \"semantic_type\": \"\",\n        \"description\": \"\"\n      }\n    },\n    {\n      \"column\": \"funny\",\n      \"properties\": {\n        \"dtype\": \"number\",\n        \"std\": 56,\n        \"min\": 0,\n        \"max\": 1276,\n        \"num_unique_values\": 138,\n        \"samples\": [\n          126,\n          130,\n          157\n        ],\n        \"semantic_type\": \"\",\n        \"description\": \"\"\n      }\n    },\n    {\n      \"column\": \"recommendation\",\n      \"properties\": {\n        \"dtype\": \"category\",\n        \"num_unique_values\": 2,\n        \"samples\": [\n          \"Not Recommended\",\n          \"Recommended\"\n        ],\n        \"semantic_type\": \"\",\n        \"description\": \"\"\n      }\n    },\n    {\n      \"column\": \"date\",\n      \"properties\": {\n        \"dtype\": \"date\",\n        \"min\": \"2022-01-01 00:00:00\",\n        \"max\": \"2022-12-31 00:00:00\",\n        \"num_unique_values\": 358,\n        \"samples\": [\n          \"2022-05-31 00:00:00\",\n          \"2022-01-05 00:00:00\"\n        ],\n        \"semantic_type\": \"\",\n        \"description\": \"\"\n      }\n    },\n    {\n      \"column\": \"game_name\",\n      \"properties\": {\n        \"dtype\": \"category\",\n        \"num_unique_values\": 4,\n        \"samples\": [\n          \"Portal 2\",\n          \"Raft\"\n        ],\n        \"semantic_type\": \"\",\n        \"description\": \"\"\n      }\n    },\n    {\n      \"column\": \"username\",\n      \"properties\": {\n        \"dtype\": \"string\",\n        \"num_unique_values\": 2132,\n        \"samples\": [\n          \"Yoda\\n102 products in account\",\n          \"Bubba\"\n        ],\n        \"semantic_type\": \"\",\n        \"description\": \"\"\n      }\n    }\n  ]\n}"
            }
          },
          "metadata": {},
          "execution_count": 32
        }
      ],
      "source": [
        "df_games_2022 = df_games[df_games['date'].dt.year == 2022]\n",
        "df_games_2022"
      ]
    },
    {
      "cell_type": "markdown",
      "metadata": {
        "id": "eNTsvVuW1vLd"
      },
      "source": [
        "Подсчитываем и сохраняем в отдельную **серию** количества отзывов для каждой игры"
      ]
    },
    {
      "cell_type": "code",
      "execution_count": 33,
      "metadata": {
        "id": "K7bXwYCW1vLd",
        "colab": {
          "base_uri": "https://localhost:8080/",
          "height": 241
        },
        "outputId": "d7e7e62d-df61-4102-a58e-1c390cf2e932"
      },
      "outputs": [
        {
          "output_type": "execute_result",
          "data": {
            "text/plain": [
              "game_name\n",
              "Raft        974\n",
              "Hades       500\n",
              "Portal 2    365\n",
              "Terraria    316\n",
              "Name: count, dtype: int64"
            ],
            "text/html": [
              "<div>\n",
              "<style scoped>\n",
              "    .dataframe tbody tr th:only-of-type {\n",
              "        vertical-align: middle;\n",
              "    }\n",
              "\n",
              "    .dataframe tbody tr th {\n",
              "        vertical-align: top;\n",
              "    }\n",
              "\n",
              "    .dataframe thead th {\n",
              "        text-align: right;\n",
              "    }\n",
              "</style>\n",
              "<table border=\"1\" class=\"dataframe\">\n",
              "  <thead>\n",
              "    <tr style=\"text-align: right;\">\n",
              "      <th></th>\n",
              "      <th>count</th>\n",
              "    </tr>\n",
              "    <tr>\n",
              "      <th>game_name</th>\n",
              "      <th></th>\n",
              "    </tr>\n",
              "  </thead>\n",
              "  <tbody>\n",
              "    <tr>\n",
              "      <th>Raft</th>\n",
              "      <td>974</td>\n",
              "    </tr>\n",
              "    <tr>\n",
              "      <th>Hades</th>\n",
              "      <td>500</td>\n",
              "    </tr>\n",
              "    <tr>\n",
              "      <th>Portal 2</th>\n",
              "      <td>365</td>\n",
              "    </tr>\n",
              "    <tr>\n",
              "      <th>Terraria</th>\n",
              "      <td>316</td>\n",
              "    </tr>\n",
              "  </tbody>\n",
              "</table>\n",
              "</div><br><label><b>dtype:</b> int64</label>"
            ]
          },
          "metadata": {},
          "execution_count": 33
        }
      ],
      "source": [
        "reviews_count = df_games_2022['game_name'].value_counts()\n",
        "reviews_count"
      ]
    },
    {
      "cell_type": "markdown",
      "metadata": {
        "id": "ZXOQER4P1vLe"
      },
      "source": [
        "##### **Функции plt.bar(), plt.text() и plt.xticks()**"
      ]
    },
    {
      "cell_type": "markdown",
      "metadata": {
        "id": "ixE3tTqz1vLj"
      },
      "source": [
        "`plt.bar()` - функция для построения столбчатой диаграммы\n",
        "- `x` - значения столбцов по оси X\n",
        "- `height` - высота столбцов по оси Y\n",
        "- `color` - цвет графика\n",
        "\n",
        "`plt.text()` - функция для отображения текста на графике\n",
        "- `x` - координата по оси X, где будет отображаться текст\n",
        "- `y` - координата по оси Y, где будет отображаться текст\n",
        "- `s` - значение, которое будет отображаться на графике\n",
        "- `ha` - горизонтальное выравнивание текста\n",
        "- `va` - вертикальное выравнивание текста\n",
        "- `fontsize` - размер шрифта\n",
        "\n",
        "`plt.xticks()` - управление ориентацией меток на оси Х. `rotation=0` означает, что метки на оси Х будут выведены **горизонтально**, то есть без поворота."
      ]
    },
    {
      "cell_type": "code",
      "execution_count": 35,
      "metadata": {
        "id": "ASPpckqM1vLk",
        "colab": {
          "base_uri": "https://localhost:8080/",
          "height": 549
        },
        "outputId": "052da9cd-583c-413f-dac5-6c68c5455f2b"
      },
      "outputs": [
        {
          "output_type": "display_data",
          "data": {
            "text/plain": [
              "<Figure size 1000x600 with 1 Axes>"
            ],
            "image/png": "[encoded data removed]"
          },
          "metadata": {}
        }
      ],
      "source": [
        "# создание фигуры для построения столбчатой диаграммы\n",
        "plt.figure(figsize=(10, 6))\n",
        "# строим столбчатую диаграмму на основе данных reviews_count\n",
        "plt.bar(x=reviews_count.index, height=reviews_count.values, color='lightblue')\n",
        "# отображаем конкретные числа на столбцах диаграммы\n",
        "for index, value in enumerate(reviews_count):\n",
        "  plt.text(x=index, y=value + 10, s = str(value), ha='center', va='bottom', fontsize=10)\n",
        "# добавление подписей и меток\n",
        "plt.title('количество отзывов по играм Hades, Terraria, Raft и Portal 2 за 2022 год.')\n",
        "plt.xlabel(\"игры\")\n",
        "plt.ylabel(\"колво отзывов\")\n",
        "plt.xticks(rotation=0)\n",
        "# демонстрация графика\n",
        "plt.show()"
      ]
    },
    {
      "cell_type": "markdown",
      "metadata": {
        "id": "6s3E0AUJ1vLm"
      },
      "source": [
        "**Выводы по графику**:"
      ]
    },
    {
      "cell_type": "markdown",
      "metadata": {
        "id": "213Khxa_1vLm"
      },
      "source": [
        "#### **3. Круговая диаграмма**"
      ]
    },
    {
      "cell_type": "markdown",
      "metadata": {
        "id": "hbumiyuZ1vLs"
      },
      "source": [
        "Постройте на одном графике **4 круговые диаграммы**, отображающие в процентах **рекомендации** для игр `Hades`, `Terraria`, `Raft` и `Portal 2`."
      ]
    },
    {
      "cell_type": "markdown",
      "metadata": {
        "id": "aKfVLsY01vLs"
      },
      "source": [
        "##### **Функции plt.subplots(), pie(), set_title() и plt.tight_layout()**"
      ]
    },
    {
      "cell_type": "markdown",
      "metadata": {
        "id": "58SIJLN-1vLs"
      },
      "source": [
        "`plt.subplots()` - функция для создания фигуры и нескольких графиков, которые будут расположены в виде сетки.\n",
        "- `nrows` - количество **строк** в сетке\n",
        "- `ncols` - количество **столбцов** в сетке\n",
        "- `figsize` - размер фигуры в дюймах\n",
        "\n",
        "`plt.subplots()` возвращает 2 значения - `figure` (контейнер для графиков) и `axes` (список подграфиков)\n",
        "\n",
        "`axes` - это **список** объектов, представляющий собой отдельные подграфики.\n",
        "\n",
        "`pie()` - функция, которая строит **круговую диаграмму**\n",
        "- `x` - набор данных, который будет отображаться на диаграмме\n",
        "- `labels` - список меток для секторов диаграммы\n",
        "- `autopct` - формат числовых значений в процентах внутри секторов\n",
        "- `startangle` - угол, на котором начинается круговая диаграмма\n",
        "\n",
        "`set_title()` - функция, которая устанавливает **заголовок** для конкретного подграфика:\n",
        "- `label` - строка текста, которая отражается в качестве **заголовка** графика\n",
        "- `fontweight` - устанавливает **толщину шрифта** для заголовка\n",
        "\n",
        "`plt.tight_layout()` - функция для автоматической настройки отступов между подграфиками, чтобы они не перекрывались"
      ]
    },
    {
      "cell_type": "code",
      "execution_count": 36,
      "metadata": {
        "id": "m-umLoBH1vLy",
        "colab": {
          "base_uri": "https://localhost:8080/",
          "height": 819
        },
        "outputId": "b4953a77-4804-4127-be1e-305f9ff89d07"
      },
      "outputs": [
        {
          "output_type": "display_data",
          "data": {
            "text/plain": [
              "<Figure size 1200x1000 with 4 Axes>"
            ],
            "image/png": "[encoded data removed]"
          },
          "metadata": {}
        }
      ],
      "source": [
        "# создаем фигуру  и список с подграфиками\n",
        "_, axes = plt.subplots(nrows=2, ncols=2, figsize=(12, 10))\n",
        "# создаем круговую диаграмму для каждой игры\n",
        "for i, game in enumerate(['Hades', 'Terraria', 'Raft', 'Portal 2']):\n",
        "  game_data = df_games[df_games['game_name'] == game]\n",
        "    # получаем строки для конкретной игры\n",
        "\n",
        "  recommedation_count = game_data['recommendation'].value_counts()\n",
        "    # подсчитываем количество строк с отзывами игры\n",
        "\n",
        "  axes[i // 2, i % 2].pie(x=recommedation_count, labels=recommedation_count.index, autopct='%1.1f%%', startangle=90)\n",
        "    # строим круговую диаграмму для конкретной игры\n",
        "\n",
        "  axes[i // 2, i % 2].set_title(label=f'{game}', fontweight='bold')\n",
        "    # отображаем название диаграммы\n",
        "\n",
        "\n",
        "# оптимизация отображения и демонстрация графика\n",
        "plt.tight_layout()\n",
        "plt.show()\n"
      ]
    },
    {
      "cell_type": "markdown",
      "metadata": {
        "id": "H9jmv1DQ1vLz"
      },
      "source": [
        "**Выводы по графику**:"
      ]
    }
  ],
  "metadata": {
    "kernelspec": {
      "display_name": "Python 3",
      "language": "python",
      "name": "python3"
    },
    "language_info": {
      "codemirror_mode": {
        "name": "ipython",
        "version": 3
      },
      "file_extension": ".py",
      "mimetype": "text/x-python",
      "name": "python",
      "nbconvert_exporter": "python",
      "pygments_lexer": "ipython3",
      "version": "3.12.6"
    },
    "colab": {
      "provenance": []
    }
  },
  "nbformat": 4,
  "nbformat_minor": 0
}