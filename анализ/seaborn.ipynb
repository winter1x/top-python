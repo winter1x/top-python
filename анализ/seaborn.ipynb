{
  "cells": [
    {
      "cell_type": "markdown",
      "metadata": {
        "id": "ojw3T2WoO6ws"
      },
      "source": [
        "## **Основы Seaborn I**"
      ]
    },
    {
      "cell_type": "markdown",
      "metadata": {
        "id": "ovx-tFPGO6wy"
      },
      "source": [
        "### **Введение в библиотеку Seaborn**"
      ]
    },
    {
      "cell_type": "markdown",
      "metadata": {
        "id": "OfiP5EXLO6wz"
      },
      "source": [
        "Установим библиотеку Seaborn:"
      ]
    },
    {
      "cell_type": "code",
      "execution_count": null,
      "metadata": {
        "id": "JCZIErynO6w0"
      },
      "outputs": [],
      "source": []
    },
    {
      "cell_type": "markdown",
      "metadata": {
        "id": "U9hSNNNTO6w2"
      },
      "source": [
        "Импортируем все библиотеки, которыми будем сегодня пользоваться:"
      ]
    },
    {
      "cell_type": "code",
      "execution_count": null,
      "metadata": {
        "id": "c2NYKY8mO6w3"
      },
      "outputs": [],
      "source": []
    },
    {
      "cell_type": "markdown",
      "metadata": {
        "id": "KJdjaCnUO6w4"
      },
      "source": [
        "### **Стилизация графиков**"
      ]
    },
    {
      "cell_type": "markdown",
      "metadata": {
        "id": "l3LHmj71O6w5"
      },
      "source": [
        "Напишем функцию, которая будет строить **график синуса и косинуса** благодаря библиотеке Matplotlib."
      ]
    },
    {
      "cell_type": "code",
      "execution_count": null,
      "metadata": {
        "id": "k4FV82FHO6w6"
      },
      "outputs": [],
      "source": []
    },
    {
      "cell_type": "markdown",
      "metadata": {
        "id": "oJ4Yn9VHO6w8"
      },
      "source": [
        "#### **Масштабирование элементов**"
      ]
    },
    {
      "cell_type": "markdown",
      "metadata": {
        "id": "G2nwsfZQO6w9"
      },
      "source": [
        "Всего существует 4 варианта размерности графика – `notebook`, `paper`, `talk`, `poster`. Отобразим все варианты на одном графике благодаря функции `plt.subplot()`:"
      ]
    },
    {
      "cell_type": "code",
      "execution_count": null,
      "metadata": {
        "id": "iTXL2C_XO6w-"
      },
      "outputs": [],
      "source": []
    },
    {
      "cell_type": "markdown",
      "metadata": {
        "id": "TPwff0KHO6w_"
      },
      "source": [
        "#### **Общий вид графика**"
      ]
    },
    {
      "cell_type": "markdown",
      "metadata": {
        "id": "JTJE2JN0O6w_"
      },
      "source": [
        "Чтобы настроить **общий вид** графика, то есть фон, сетку, оси стоит использовать параметр `style`. Всего существует пять основных стилей."
      ]
    },
    {
      "cell_type": "code",
      "execution_count": null,
      "metadata": {
        "id": "luSknBx3O6xA"
      },
      "outputs": [],
      "source": []
    },
    {
      "cell_type": "markdown",
      "metadata": {
        "id": "pNBRRVvQO6xB"
      },
      "source": [
        "**Фон** можно представить в двух вариантах – `________` и `________`. Опционально можно добавить **сетку** и воспользоваться `________` или `________`. Стиль `________` использует белую тему без сетки, но с **метками** на осях."
      ]
    },
    {
      "cell_type": "markdown",
      "metadata": {
        "id": "uVrFpYE0O6xC"
      },
      "source": [
        "#### **Цветовая палитра**"
      ]
    },
    {
      "cell_type": "markdown",
      "metadata": {
        "id": "f3KIELavO6xD"
      },
      "source": [
        "Seaborn поддерживает **три основных типа** палитр. `Первый тип` предназначен для данных без естественного порядка. Такие палитры называют `качественными`."
      ]
    },
    {
      "cell_type": "code",
      "execution_count": null,
      "metadata": {
        "id": "M0Kg1EZlO6xE"
      },
      "outputs": [],
      "source": []
    },
    {
      "cell_type": "markdown",
      "metadata": {
        "id": "GFaXZgcnO6xF"
      },
      "source": [
        "`Второй тип` палитр предназначен для отображения данных с **градацией значений**, например, от меньшего к большему. Такие палитры называют **последовательными**."
      ]
    },
    {
      "cell_type": "code",
      "execution_count": null,
      "metadata": {
        "id": "bYkeVWn7O6xF"
      },
      "outputs": [],
      "source": []
    },
    {
      "cell_type": "code",
      "execution_count": null,
      "metadata": {
        "id": "iGLw85-LO6xG"
      },
      "outputs": [],
      "source": []
    },
    {
      "cell_type": "markdown",
      "metadata": {
        "id": "zdQmS5y0O6xG"
      },
      "source": [
        "Также можно добавить параметр `as_map`, который позволяет создать **непрерывную** цветовую карту:"
      ]
    },
    {
      "cell_type": "code",
      "execution_count": null,
      "metadata": {
        "id": "9ubQlhseO6xH"
      },
      "outputs": [],
      "source": []
    },
    {
      "cell_type": "markdown",
      "metadata": {
        "id": "quCcl16CO6xH"
      },
      "source": [
        "`Третий тип` палитр – это **дивергентные** цвета, которые показывают **разницу** между двумя направлениями, например, отклонение от среднего значения."
      ]
    },
    {
      "cell_type": "code",
      "execution_count": null,
      "metadata": {
        "id": "agvbGJSuO6xI"
      },
      "outputs": [],
      "source": []
    },
    {
      "cell_type": "markdown",
      "metadata": {
        "id": "y2x2Saj1O6xI"
      },
      "source": [
        "`Основные виды цветовых палитр`:\n",
        "1.\t**Качественные** – для данных без естественного порядка\n",
        "2.\t**Последовательные** – для данных с градацией значений\n",
        "3.\t**Дивергентные** – для данных с разницей между двумя направлениями\n",
        "\n",
        "Более детально познакомиться с цветовыми палитрами можно c помощью документации: https://seaborn.pydata.org/tutorial/color_palettes.html"
      ]
    },
    {
      "cell_type": "markdown",
      "metadata": {
        "id": "eBHlblkFO6xJ"
      },
      "source": [
        "#### **Метод sns.set_theme()**"
      ]
    },
    {
      "cell_type": "markdown",
      "metadata": {
        "id": "EsmW_eD8O6xJ"
      },
      "source": [
        "`sns.set_theme()` - это функция в библиотеке Seaborn, которая устанавливает аспекты визуальной темы для графиков Seaborn и Matplotlib\n",
        "\n",
        "**Параметры:**\n",
        "\n",
        "- *context* – масштабирование\n",
        "\n",
        "- *style* – стиль оформления графика\n",
        "\n",
        "- *palette* – цветовая палитра\n",
        "\n",
        "- *font* – семейство шрифтов\n",
        "\n",
        "- *font_scale* – масштабирование размера шрифтов"
      ]
    },
    {
      "cell_type": "markdown",
      "metadata": {
        "id": "F6PKHcLAO6xL"
      },
      "source": [
        "#### **Задание**  "
      ]
    },
    {
      "cell_type": "markdown",
      "metadata": {
        "id": "grWvN4s_O6xM"
      },
      "source": [
        "Для графика, создаваемого функцией `sinplot()`, задайте следующие характеристики:\n",
        "\n",
        "- Фон - белый с отрисованной сеткой\n",
        "\n",
        "- Масштаб графика – paper\n",
        "\n",
        "- Палитра – bright\n",
        "\n",
        "- Шрифт – Arial\n",
        "\n",
        "- Размер шрифта – 1.2\n"
      ]
    },
    {
      "cell_type": "code",
      "execution_count": null,
      "metadata": {
        "id": "oLCKfi2RO6xN"
      },
      "outputs": [],
      "source": []
    },
    {
      "cell_type": "markdown",
      "metadata": {
        "id": "2XuncvRGO6xO"
      },
      "source": [
        "### **Встроенные наборы данных**"
      ]
    },
    {
      "cell_type": "markdown",
      "metadata": {
        "id": "m49nK4B8O6xO"
      },
      "source": [
        "Для того, чтобы загрузить встроенный набор данных необходимо использовать функцию `sns.load_dataset()`."
      ]
    },
    {
      "cell_type": "code",
      "execution_count": null,
      "metadata": {
        "id": "33FlG2pEO6xP"
      },
      "outputs": [],
      "source": []
    },
    {
      "cell_type": "markdown",
      "metadata": {
        "id": "sMLQK5VoO6xP"
      },
      "source": [
        "Посмотрим информацию о дата-фрейме с помощью метода `__________`:"
      ]
    },
    {
      "cell_type": "code",
      "execution_count": null,
      "metadata": {
        "id": "hQTisd14O6xP"
      },
      "outputs": [],
      "source": []
    },
    {
      "cell_type": "markdown",
      "metadata": {
        "id": "HWLp2kPkO6xP"
      },
      "source": [
        "В столбце `__________` больше 100 пропущенных значений, поэтому давайте **удалим** эти строки, чтобы при построении графиков нам не мешали эти данные:"
      ]
    },
    {
      "cell_type": "code",
      "execution_count": null,
      "metadata": {
        "id": "YDft6tsRO6xQ"
      },
      "outputs": [],
      "source": []
    },
    {
      "cell_type": "code",
      "execution_count": null,
      "metadata": {
        "id": "tvRnD7MLO6xR"
      },
      "outputs": [],
      "source": []
    },
    {
      "cell_type": "markdown",
      "metadata": {
        "id": "yjrC4pO5O6xR"
      },
      "source": [
        "### **Построение базовых графиков**"
      ]
    },
    {
      "cell_type": "markdown",
      "metadata": {
        "id": "GnuaNUsTO6xS"
      },
      "source": [
        "Для начала зададим новую тему для наших графиков с помощью `________`:"
      ]
    },
    {
      "cell_type": "code",
      "execution_count": null,
      "metadata": {
        "id": "HgAksre7O6xS"
      },
      "outputs": [],
      "source": []
    },
    {
      "cell_type": "markdown",
      "metadata": {
        "id": "CVa7SHWXO6xS"
      },
      "source": [
        "#### **Countplot**"
      ]
    },
    {
      "cell_type": "markdown",
      "metadata": {
        "id": "ewhqGwvyO6xT"
      },
      "source": [
        "`sns.countplot()` – график, который отображает количество наблюдений для определенной категории.\n",
        "\n",
        "Ось `x` представляет категории\n",
        "\n",
        "Ось `y` показывает количество наблюдений"
      ]
    },
    {
      "cell_type": "code",
      "execution_count": null,
      "metadata": {
        "id": "SQLqgZc8O6xU"
      },
      "outputs": [],
      "source": []
    },
    {
      "cell_type": "markdown",
      "metadata": {
        "id": "HeK_0MStO6xU"
      },
      "source": [
        "Из графика можно заметить, что большинство пассажиров сели на борт в порту `__________`. Интересно, влияет ли **класс пассажира** на порт, в котором он сел?  Для этого добавим еще один параметр `hue`, который отвечает за **группировку**:"
      ]
    },
    {
      "cell_type": "code",
      "execution_count": null,
      "metadata": {
        "id": "Ytgs3nBFO6xU"
      },
      "outputs": [],
      "source": []
    },
    {
      "cell_type": "markdown",
      "metadata": {
        "id": "ufWfXqo2O6xV"
      },
      "source": [
        "Пассажиры первого и второго класса выбирали порты `________` и `________`. Третий класс садился в каждом порту."
      ]
    },
    {
      "cell_type": "markdown",
      "metadata": {
        "id": "sSxp_us-O6xV"
      },
      "source": [
        "#### **Столбчатая диаграмма**"
      ]
    },
    {
      "cell_type": "markdown",
      "metadata": {
        "id": "bZCBRbYNO6xW"
      },
      "source": [
        "Следующий график, который мы построим – столбчатая диаграмма. Для этого в Seaborn существует функция `sns.barplot()`.\n",
        "\n",
        "`sns.barplot()` – функция для построения столбчатой диаграммы.\n",
        "\n",
        "Посмотрим на распределение **цены билета** в зависимости от **класса**, здесь указываем значения по осям `x` и `y`."
      ]
    },
    {
      "cell_type": "code",
      "execution_count": null,
      "metadata": {
        "id": "mm2D5hk8O6xX"
      },
      "outputs": [],
      "source": []
    },
    {
      "cell_type": "markdown",
      "metadata": {
        "id": "H_Y88_bbO6xY"
      },
      "source": [
        "Попробуем **сгруппировать** данные по полу и проверить если ли взаимосвязь **цены** и **гендерного** признака:"
      ]
    },
    {
      "cell_type": "code",
      "execution_count": null,
      "metadata": {
        "id": "RKdcz0frO6xZ"
      },
      "outputs": [],
      "source": []
    },
    {
      "cell_type": "markdown",
      "metadata": {
        "id": "AQI_JMoMO6xf"
      },
      "source": [
        "Давайте посмотрим какие цены были для **детей**. Для этого изменим столбец для группировки на `________`:"
      ]
    },
    {
      "cell_type": "code",
      "execution_count": null,
      "metadata": {
        "id": "LcosorFeO6xf"
      },
      "outputs": [],
      "source": []
    },
    {
      "cell_type": "markdown",
      "metadata": {
        "id": "a2lwU1sEO6xg"
      },
      "source": [
        "#### **Гистограмма**"
      ]
    },
    {
      "cell_type": "markdown",
      "metadata": {
        "id": "sZJnBIidO6xg"
      },
      "source": [
        "**Гистограмма** – график, который показывает распределение числовых данных.\n",
        "\n",
        "`sns.histplot()` - функция для построения гистограммы\n",
        "\n",
        "Построим гистограмму распределения **возрастов** пассажиров."
      ]
    },
    {
      "cell_type": "code",
      "execution_count": null,
      "metadata": {
        "id": "AY5K5rVaO6xh"
      },
      "outputs": [],
      "source": []
    },
    {
      "cell_type": "markdown",
      "metadata": {
        "id": "jV1Dk1fDO6xh"
      },
      "source": [
        "Чтобы оценить **плотность** распределения можно добавить параметр `kde`, который накладывает поверх гистограммы кривую, визуализируя общую форму распределения."
      ]
    },
    {
      "cell_type": "code",
      "execution_count": null,
      "metadata": {
        "id": "LToSzU0pO6xi"
      },
      "outputs": [],
      "source": []
    },
    {
      "cell_type": "markdown",
      "metadata": {
        "id": "vOulj-8BO6xi"
      },
      "source": [
        "Параметр `bins` отвечает за количество интервалов на гистограмме. Например, если установить этот параметр на `10`, то график будет иметь такой вид:"
      ]
    },
    {
      "cell_type": "code",
      "execution_count": null,
      "metadata": {
        "id": "Qk4pY3GHO6xj"
      },
      "outputs": [],
      "source": []
    },
    {
      "cell_type": "markdown",
      "metadata": {
        "id": "0pcG0P0XO6xj"
      },
      "source": [
        "По сути, столбец строится на каждые `10` лет. Если поставить `bins` на `80`, то получим распределение буквально для каждого года:"
      ]
    },
    {
      "cell_type": "code",
      "execution_count": null,
      "metadata": {
        "id": "iBaC3DXwO6xk"
      },
      "outputs": [],
      "source": []
    },
    {
      "cell_type": "markdown",
      "metadata": {
        "id": "ueLgRRq4O6xk"
      },
      "source": [
        "#### **Линейный график**"
      ]
    },
    {
      "cell_type": "markdown",
      "metadata": {
        "id": "sjXmET4hO6xk"
      },
      "source": [
        "`sns.lineplot()` - функция для построения линейного графика.\n",
        "\n",
        "Отберем данные по пассажирам в возрасте от `20` до `40` лет при помощи **логической индексации**:"
      ]
    },
    {
      "cell_type": "code",
      "execution_count": null,
      "metadata": {
        "id": "WVgWL0zdO6xl"
      },
      "outputs": [],
      "source": []
    },
    {
      "cell_type": "markdown",
      "metadata": {
        "id": "N6jGjgvVO6xm"
      },
      "source": [
        "Создадим график **средней стоимости билета** в зависимости от возраста:"
      ]
    },
    {
      "cell_type": "code",
      "execution_count": null,
      "metadata": {
        "id": "aEvBn56QO6xm"
      },
      "outputs": [],
      "source": []
    },
    {
      "cell_type": "markdown",
      "metadata": {
        "id": "aHbRKJJmO6xn"
      },
      "source": [
        "Чтобы **отключить** отображение доверительного интервала, можно использовать параметр `errorbar`, его значение должно быть `None`:"
      ]
    },
    {
      "cell_type": "code",
      "execution_count": null,
      "metadata": {
        "id": "in5butQkO6xo"
      },
      "outputs": [],
      "source": []
    },
    {
      "cell_type": "markdown",
      "metadata": {
        "id": "win0iPzfO6xo"
      },
      "source": [
        "#### **Точечный график**"
      ]
    },
    {
      "cell_type": "markdown",
      "metadata": {
        "id": "vq61-GIfO6xp"
      },
      "source": [
        "`sns.scatterplot()` – функция для построения точечного графика.\n",
        "\n",
        "Наш точечный график будет отображать зависимость **возраста** и **цены билета** с разделением по **выживаемости**:"
      ]
    },
    {
      "cell_type": "code",
      "execution_count": null,
      "metadata": {
        "id": "QhuYd1ZuO6xq"
      },
      "outputs": [],
      "source": []
    }
  ],
  "metadata": {
    "kernelspec": {
      "display_name": "Python 3",
      "language": "python",
      "name": "python3"
    },
    "language_info": {
      "codemirror_mode": {
        "name": "ipython",
        "version": 3
      },
      "file_extension": ".py",
      "mimetype": "text/x-python",
      "name": "python",
      "nbconvert_exporter": "python",
      "pygments_lexer": "ipython3",
      "version": "3.13.0"
    },
    "colab": {
      "provenance": []
    }
  },
  "nbformat": 4,
  "nbformat_minor": 0
}