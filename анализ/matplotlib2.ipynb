{
  "cells": [
    {
      "cell_type": "markdown",
      "metadata": {
        "id": "nqLugGVQ1_36"
      },
      "source": [
        "## **Библиотека Matplotlib**"
      ]
    },
    {
      "cell_type": "markdown",
      "metadata": {
        "id": "_rsqWRW91_4A"
      },
      "source": [
        "### **Построение гистограммы**"
      ]
    },
    {
      "cell_type": "markdown",
      "metadata": {
        "id": "iq7mV7rx1_4B"
      },
      "source": [
        "Постройте гистограмму, показывающую распределение всех отзывов по **дням недели** (с понедельника по воскресенье)."
      ]
    },
    {
      "cell_type": "markdown",
      "metadata": {
        "id": "eei3b8BW1_4C"
      },
      "source": [
        "В начале импортируем библиотеки и загрузим данные в дата-фрейм:"
      ]
    },
    {
      "cell_type": "code",
      "execution_count": null,
      "metadata": {
        "id": "tluBsaIu1_4E"
      },
      "outputs": [],
      "source": []
    },
    {
      "cell_type": "code",
      "execution_count": null,
      "metadata": {
        "id": "IpvhcZWz1_4G"
      },
      "outputs": [],
      "source": []
    },
    {
      "cell_type": "markdown",
      "metadata": {
        "id": "xkV3W9pl1_4H"
      },
      "source": [
        "##### **Метод copy()**"
      ]
    },
    {
      "cell_type": "markdown",
      "metadata": {
        "id": "iS4LxXfF1_4H"
      },
      "source": [
        "`copy()` - метод для создания копии объекта `Series` или `DataFrame`.\n",
        "\n",
        "Создаем копию дата-фрейма, чтобы преобразования в рамках задания не отражались на исходных данных."
      ]
    },
    {
      "cell_type": "code",
      "execution_count": null,
      "metadata": {
        "id": "C5pQJ8Yn1_4J"
      },
      "outputs": [],
      "source": []
    },
    {
      "cell_type": "markdown",
      "metadata": {
        "id": "HnUwK4go1_4K"
      },
      "source": [
        "Преобразуем даты в единый формат"
      ]
    },
    {
      "cell_type": "code",
      "execution_count": null,
      "metadata": {
        "id": "EgXfG2eD1_4L"
      },
      "outputs": [],
      "source": []
    },
    {
      "cell_type": "markdown",
      "metadata": {
        "id": "CRJx3dGT1_4M"
      },
      "source": [
        "Удаляем появившиеся пропущенные значения"
      ]
    },
    {
      "cell_type": "code",
      "execution_count": null,
      "metadata": {
        "id": "26FtxgRg1_4M"
      },
      "outputs": [],
      "source": []
    },
    {
      "cell_type": "markdown",
      "metadata": {
        "id": "FzkcsHwD1_4M"
      },
      "source": [
        "Создаем новую серию `day_of_week` в дата-фрейме с **днями недели**, где `0` - это понедельник, `6` - воскресенье"
      ]
    },
    {
      "cell_type": "code",
      "execution_count": null,
      "metadata": {
        "id": "0R7I5H6l1_4N"
      },
      "outputs": [],
      "source": []
    },
    {
      "cell_type": "markdown",
      "metadata": {
        "id": "JjZQSjmZ1_4O"
      },
      "source": [
        "##### **Функция plt.hist()**"
      ]
    },
    {
      "cell_type": "markdown",
      "metadata": {
        "id": "DoXmMSH_1_4O"
      },
      "source": [
        "Строим гистограмму на основе данных в столбце `day_of_week`\n",
        "\n",
        "`plt.hist()` - функция для построения гистограммы\n",
        "- `x` - **данные**, по которым строится гистограмма\n",
        "- `bins` - количество **интервалов** (бинов) гистограммы\n",
        "- `color` - цвет **столбцов**\n",
        "- `edgecolor` - цвет **границ** столбцов, помогает различать столбцы\n",
        "- `rwidth` - относительная **ширина** столбцов (если меньше 1, то появляется расстояние между столбцами)\n",
        "\n",
        "`plt.hist()` возвращает 3 значения:\n",
        "- `n` - массив с **количеством значений** в каждом интервале\n",
        "- `bins` - массив **границ интервалов**, включает начальную и конечную границы\n",
        "- `patches` - список объектов **столбцов** диаграммы, используется для стилизации"
      ]
    },
    {
      "cell_type": "code",
      "execution_count": null,
      "metadata": {
        "id": "1OZ96YSH1_4Q"
      },
      "outputs": [],
      "source": [
        "# создание фигуры для построения гистограммы\n",
        "\n",
        "# построение гистограммы (patchers не будем использовать, поэтому _)\n",
        "\n",
        "# вычисление центров столбцов\n",
        "\n",
        "# добавление числовых значений на столбцы\n",
        "\n",
        "\n",
        "# добавление подписей и меток\n",
        "\n",
        "\n",
        "# оптимизация отображения и демонстрация графика\n",
        "\n"
      ]
    },
    {
      "cell_type": "markdown",
      "metadata": {
        "id": "8nuRiNHL1_4T"
      },
      "source": [
        "**Выводы по графику**:"
      ]
    },
    {
      "cell_type": "markdown",
      "metadata": {
        "id": "z5xBVWU81_4U"
      },
      "source": [
        "### **Построение точечного графика**"
      ]
    },
    {
      "cell_type": "markdown",
      "metadata": {
        "id": "5dtdzTFw1_4V"
      },
      "source": [
        "Постройте **точечный график** для отображения взаимосвязи (**корреляции**) между оценками `полезности` и `забавности` отзывов."
      ]
    },
    {
      "cell_type": "markdown",
      "metadata": {
        "id": "6YmU0wR81_4V"
      },
      "source": [
        "##### **Функция plt.scatter()**"
      ]
    },
    {
      "cell_type": "markdown",
      "metadata": {
        "id": "wbL_erle1_4W"
      },
      "source": [
        "`plt.scatter()` - функция для создания **точечного графика**\n",
        "- `x` - данные для оси X\n",
        "- `y` - данные для оси Y\n",
        "- `s` - **размер** каждой точки на графике\n",
        "- `color` - **цвет** точек\n",
        "- `alpha` - **прозрачность** точек (значения от 0 до 1)\n",
        "- `edgecolors` - цвет **границы** точек, делает их более заметными"
      ]
    },
    {
      "cell_type": "code",
      "execution_count": null,
      "metadata": {
        "id": "9f3XMiYc1_4X"
      },
      "outputs": [],
      "source": [
        "# создание фигуры для построения точечного графика\n",
        "\n",
        "# построение точечного графика\n",
        "\n",
        "# добавление подписей и меток\n",
        "\n",
        "# отображение сетки и оптимизация отображения\n",
        "\n",
        "# отображение графика\n"
      ]
    },
    {
      "cell_type": "markdown",
      "metadata": {
        "id": "vU4R4Sat1_4Y"
      },
      "source": [
        "**Выводы по графику**:"
      ]
    },
    {
      "cell_type": "markdown",
      "metadata": {
        "id": "59XHhcfZ1_4Y"
      },
      "source": [
        "**Выбросы** - это значения, которые сильно **отклоняются** от большинства данных."
      ]
    },
    {
      "cell_type": "markdown",
      "metadata": {
        "id": "bu0vvjjM1_4Y"
      },
      "source": [
        "Создаем копию дата-фрейма, чтобы преобразования в рамках задания не отражались на исходных данных."
      ]
    },
    {
      "cell_type": "code",
      "execution_count": null,
      "metadata": {
        "id": "wGtL9TQO1_4Z"
      },
      "outputs": [],
      "source": []
    },
    {
      "cell_type": "markdown",
      "metadata": {
        "id": "k0QgYhzD1_4a"
      },
      "source": [
        "##### **Метод quantile()**"
      ]
    },
    {
      "cell_type": "markdown",
      "metadata": {
        "id": "ZTIjK-rw1_4b"
      },
      "source": [
        "`quantile()` - метод, вычисляющий **процентиль** (квантиль) для некоторых данных.\n",
        "\n",
        "**Процентиль** - значение, ниже которого находится заданный процент данных. Например, 5-й процентиль (или квантиль 0.05) - значение, ниже которого находится 5% данных."
      ]
    },
    {
      "cell_type": "code",
      "execution_count": null,
      "metadata": {
        "id": "giXRjcmb1_4b"
      },
      "outputs": [],
      "source": [
        "\n",
        "    # вычисляем нижнюю (5-й процентиль) и верхнюю (95-й процентиль) границы для удаления данных\n",
        "\n",
        "    # удаляем строки, выходящие за пределы 5-го и 95-го процентилей для текущего столбца"
      ]
    },
    {
      "cell_type": "markdown",
      "metadata": {
        "id": "6GtBC-uk1_4c"
      },
      "source": [
        "Строим точечный график для **усеченных** данных"
      ]
    },
    {
      "cell_type": "code",
      "execution_count": null,
      "metadata": {
        "id": "OeMJx94U1_4d"
      },
      "outputs": [],
      "source": [
        "# создание фигуры для построения точечного графика\n",
        "\n",
        "# построение точечного графика для усеченных данных\n",
        "\n",
        "# добавление подписей и меток\n",
        "\n",
        "# отображение сетки и оптимизация отображения\n",
        "\n",
        "# отображение графика\n"
      ]
    },
    {
      "cell_type": "markdown",
      "metadata": {
        "id": "2Lsqj8jH1_4e"
      },
      "source": [
        "**Вывыды по графику**:"
      ]
    },
    {
      "cell_type": "markdown",
      "metadata": {
        "id": "5HJ0TX_O1_4e"
      },
      "source": [
        "Для самопроверки найдем коэффициент корреляции с помощью знакомого метода `________`:"
      ]
    },
    {
      "cell_type": "code",
      "execution_count": null,
      "metadata": {
        "id": "fM9LOEnx1_4f"
      },
      "outputs": [],
      "source": []
    },
    {
      "cell_type": "markdown",
      "metadata": {
        "id": "ei_g3k2x1_4g"
      },
      "source": [
        "**Выводы о корреляции**:\n"
      ]
    },
    {
      "cell_type": "markdown",
      "metadata": {
        "id": "GlPwepwV1_4g"
      },
      "source": [
        "### **Комбинированные графики в Matplotlib**"
      ]
    },
    {
      "cell_type": "markdown",
      "metadata": {
        "id": "ibkLwtFc1_4h"
      },
      "source": [
        "**Круговая и столбчатая диаграммы**\n",
        "\n",
        "Постройте круговую диаграмму, отображающую в процентах рекомендации отзывов по игре It Takes Two. Для каждого фрагмента круговой диаграммы постройте столбчатую диаграмму, показывающую сыгранные часы по следующим категориям:\n",
        "- менее 1 часа\n",
        "- 1 – 10 часов\n",
        "- 11 – 30 часов\n",
        "- 31 – 50 часов\n",
        "- более 50 часов\n"
      ]
    },
    {
      "cell_type": "code",
      "execution_count": null,
      "metadata": {
        "id": "nnr1J0Pl1_4j"
      },
      "outputs": [],
      "source": [
        "# Оставляем данные только по игре It Takes Two\n"
      ]
    },
    {
      "cell_type": "code",
      "execution_count": null,
      "metadata": {
        "id": "zO0wv4Br1_4k"
      },
      "outputs": [],
      "source": [
        "# Категоризация времени игры\n"
      ]
    },
    {
      "cell_type": "code",
      "execution_count": null,
      "metadata": {
        "id": "hFmqLdPF1_4l"
      },
      "outputs": [],
      "source": [
        "# Группировка по категориям времени игры\n"
      ]
    },
    {
      "cell_type": "code",
      "execution_count": null,
      "metadata": {
        "id": "qirOEKuv1_4m"
      },
      "outputs": [],
      "source": [
        "# Серия с количеством положительных отзывов для каждой категории\n"
      ]
    },
    {
      "cell_type": "code",
      "execution_count": null,
      "metadata": {
        "id": "PAPpxfeZ1_4n"
      },
      "outputs": [],
      "source": [
        "# Серия с количеством отрицательных отзывов для каждой категории\n"
      ]
    },
    {
      "cell_type": "code",
      "execution_count": null,
      "metadata": {
        "id": "67XC50yx1_4o"
      },
      "outputs": [],
      "source": [
        "# Серия с процентами положительных отзывов для каждой категории\n"
      ]
    },
    {
      "cell_type": "code",
      "execution_count": null,
      "metadata": {
        "id": "V2S-OPm81_4p"
      },
      "outputs": [],
      "source": [
        "# Серия с процетами отрицательных отзывов для каждой категории\n"
      ]
    },
    {
      "cell_type": "code",
      "execution_count": null,
      "metadata": {
        "id": "c7k8ev2k1_4q"
      },
      "outputs": [],
      "source": [
        "# Рассчитываем долю рекомендаций\n"
      ]
    },
    {
      "cell_type": "code",
      "execution_count": null,
      "metadata": {
        "id": "AG16EHf_1_4r"
      },
      "outputs": [],
      "source": [
        "# Подключаем класс для соединения графиков с помощью линий\n"
      ]
    },
    {
      "cell_type": "code",
      "execution_count": null,
      "metadata": {
        "id": "JdJqkR-J1_4s"
      },
      "outputs": [],
      "source": [
        "# Задаем размеры общего поля, подграфики и их количество\n",
        "\n",
        "\n",
        "# Строим круговую диаграмму\n",
        "\n",
        "\n",
        "# Строим столбчатую диаграмму\n",
        "\n",
        "\n",
        "# Координата X начала линий относительно правой части круга\n",
        "\n",
        "\n",
        "# Верхняя линия от правой части круга к левому краю верхнего столбца\n",
        "\n",
        "\n",
        "# Нижняя линия от правой части круга к левому краю нижнего столбца\n",
        "\n"
      ]
    },
    {
      "cell_type": "code",
      "execution_count": null,
      "metadata": {
        "id": "ejcHI3fH1_4t"
      },
      "outputs": [],
      "source": [
        "# Задаем размеры общего поля, подграфики и их количество\n",
        "\n",
        "\n",
        "# Строим круговую диаграмму\n",
        "\n",
        "\n",
        "# Строим столбчатую диаграмму\n",
        "\n",
        "\n",
        "# Координата X начала линий относительно правой части круга\n",
        "\n",
        "\n",
        "# Верхняя линия от правой части круга к левому краю верхнего столбца\n",
        "\n",
        "\n",
        "# Нижняя линия от правой части круга к левому краю нижнего столбца\n",
        "\n",
        "\n",
        "# Строим столбчатую диаграмму для нерекомендованных отзывов\n",
        "\n",
        "\n",
        "# Координата X начала линий относительно левой части круга\n",
        "\n",
        "\n",
        "# Верхняя линия от левой части круга к правому краю верхнего столбца\n",
        "\n",
        "\n",
        "# Верхняя линия от левой части круга к правому краю нижнего столбца\n",
        "\n"
      ]
    }
  ],
  "metadata": {
    "kernelspec": {
      "display_name": "Python 3",
      "language": "python",
      "name": "python3"
    },
    "language_info": {
      "codemirror_mode": {
        "name": "ipython",
        "version": 3
      },
      "file_extension": ".py",
      "mimetype": "text/x-python",
      "name": "python",
      "nbconvert_exporter": "python",
      "pygments_lexer": "ipython3",
      "version": "3.12.6"
    },
    "colab": {
      "provenance": []
    }
  },
  "nbformat": 4,
  "nbformat_minor": 0
}