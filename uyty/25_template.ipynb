{
 "cells": [
  {
   "cell_type": "markdown",
   "id": "6680f1be",
   "metadata": {},
   "source": [
    "## **Воркшоп по API**"
   ]
  },
  {
   "cell_type": "markdown",
   "id": "dcccfa98",
   "metadata": {},
   "source": [
    "### **Работа с ТВ-шоу через REST API**"
   ]
  },
  {
   "cell_type": "markdown",
   "id": "f3ac1c69",
   "metadata": {},
   "source": [
    "https://api.tvmaze.com - публичный API с данными о ТВ-шоу, сериалах и актерах"
   ]
  },
  {
   "cell_type": "markdown",
   "id": "929979ff",
   "metadata": {},
   "source": [
    "#### **Задание № 1**"
   ]
  },
  {
   "cell_type": "markdown",
   "id": "67b826b0",
   "metadata": {},
   "source": [
    "С помощью TVMaze API выгрузите данные о всех имеющихся шоу со страницы с индексом 0. Постройте гистограмму, показывающую распределение шоу по годам премьеры. Проанализируйте гистограмму и сделайте выводы."
   ]
  },
  {
   "cell_type": "code",
   "execution_count": null,
   "id": "fe0ba646",
   "metadata": {},
   "outputs": [],
   "source": [
    "# подключаем необходимые библиотеки\n"
   ]
  },
  {
   "cell_type": "code",
   "execution_count": null,
   "id": "624d0ba6",
   "metadata": {},
   "outputs": [],
   "source": [
    "# URL для получения данных о всех ТВ-шоу со страницы с индексом 0\n"
   ]
  },
  {
   "cell_type": "code",
   "execution_count": null,
   "id": "6f57091c",
   "metadata": {},
   "outputs": [],
   "source": [
    "# отправляем GET-запрос и получаем ответ в формате JSON\n",
    "\n",
    "# преобразуем JSON в список\n"
   ]
  },
  {
   "cell_type": "code",
   "execution_count": null,
   "id": "b565f5e6",
   "metadata": {},
   "outputs": [],
   "source": [
    "# выводим на экран названия всех шоу\n"
   ]
  },
  {
   "cell_type": "code",
   "execution_count": null,
   "id": "47c07358",
   "metadata": {},
   "outputs": [],
   "source": [
    "# создаем DataFrame на основании полученного списка\n"
   ]
  },
  {
   "cell_type": "code",
   "execution_count": null,
   "id": "cf479554",
   "metadata": {},
   "outputs": [],
   "source": [
    "# выводим общую информацию о датафрейме\n"
   ]
  },
  {
   "cell_type": "code",
   "execution_count": null,
   "id": "c5d92f78",
   "metadata": {},
   "outputs": [],
   "source": [
    "# создаем серию с годами выхода всех шоу\n"
   ]
  },
  {
   "cell_type": "code",
   "execution_count": null,
   "id": "db1099da",
   "metadata": {},
   "outputs": [],
   "source": [
    "# строим гистограмму с распределением шоу по годам премьеры\n"
   ]
  },
  {
   "cell_type": "markdown",
   "id": "6d98a5de",
   "metadata": {},
   "source": [
    "**Выводы по графику**:"
   ]
  },
  {
   "cell_type": "markdown",
   "id": "60d5248e",
   "metadata": {},
   "source": [
    "#### **Задание № 2**"
   ]
  },
  {
   "cell_type": "markdown",
   "id": "ef6ceb03",
   "metadata": {},
   "source": [
    "С помощью TVMaze API выгрузите все данные о шоу, где в названии есть слово \"друзья\" (friends). На основании полученных данных постройте Sunburst-диаграмму с иерархией Язык → Жанр → Название."
   ]
  },
  {
   "cell_type": "code",
   "execution_count": null,
   "id": "dc3f9b80",
   "metadata": {},
   "outputs": [],
   "source": [
    "# подключаем Plotly для построения Sunburst-диаграммы\n"
   ]
  },
  {
   "cell_type": "code",
   "execution_count": null,
   "id": "d92b2f55",
   "metadata": {},
   "outputs": [],
   "source": [
    "# URL для получения списка ТВ-шоу, где в названии есть слово \"друзья (friends)\"\n"
   ]
  },
  {
   "cell_type": "code",
   "execution_count": null,
   "id": "14977f53",
   "metadata": {},
   "outputs": [],
   "source": [
    "# отправляем GET-запрос и получаем ответ в формате JSON\n",
    "\n",
    "# преобразуем JSON в список\n"
   ]
  },
  {
   "cell_type": "code",
   "execution_count": null,
   "id": "81b22867",
   "metadata": {},
   "outputs": [],
   "source": [
    "# выводим на экран количество выгруженных шоу\n"
   ]
  },
  {
   "cell_type": "code",
   "execution_count": null,
   "id": "9f7420c8",
   "metadata": {},
   "outputs": [],
   "source": [
    "# создаем список с данными по каждому шоу\n"
   ]
  },
  {
   "cell_type": "code",
   "execution_count": null,
   "id": "ee4a78b2",
   "metadata": {},
   "outputs": [],
   "source": [
    "# формируем DataFrame на основании списка с данными по каждому шоу\n"
   ]
  },
  {
   "cell_type": "code",
   "execution_count": null,
   "id": "02fd2f1f",
   "metadata": {},
   "outputs": [],
   "source": [
    "# заполняем пропуски в столбце genres\n"
   ]
  },
  {
   "cell_type": "code",
   "execution_count": null,
   "id": "8d6771b5",
   "metadata": {},
   "outputs": [],
   "source": [
    "# оставляем только один жанр для корректного построения Sunburst-диаграммы\n"
   ]
  },
  {
   "cell_type": "code",
   "execution_count": null,
   "id": "cc3644b1",
   "metadata": {},
   "outputs": [],
   "source": [
    "# строим Sunbursts-диаграмму\n"
   ]
  },
  {
   "cell_type": "markdown",
   "id": "1061a923",
   "metadata": {},
   "source": [
    "#### **Задание № 3**"
   ]
  },
  {
   "cell_type": "markdown",
   "id": "99c7aded",
   "metadata": {},
   "source": [
    "С помощью TVMaze API выгрузите данные о всех эпизодах сериала \"Сверхъестественное\", который выходил с 2005 по 2020 гг. Найдите серии с минимальным и максимальным средними рейтингами, а также постройте столбчатую диаграмму со средними рейтингами каждого сезона. Проанализируйте полученный график и сделайте выводы."
   ]
  },
  {
   "cell_type": "code",
   "execution_count": null,
   "id": "e2e119f1",
   "metadata": {},
   "outputs": [],
   "source": [
    "# URL для получения списка ТВ-шоу, где в названии есть слово \"сверхъестественное (supernatural)\"\n"
   ]
  },
  {
   "cell_type": "code",
   "execution_count": null,
   "id": "e8187f51",
   "metadata": {},
   "outputs": [],
   "source": [
    "# отправляем GET-запрос и получаем ответ в формате JSON\n",
    "\n",
    "# преобразуем JSON в список\n"
   ]
  },
  {
   "cell_type": "code",
   "execution_count": null,
   "id": "fb996f4f",
   "metadata": {},
   "outputs": [],
   "source": [
    "# сохраняем id сериала \"Сверхъестественное\"\n"
   ]
  },
  {
   "cell_type": "code",
   "execution_count": null,
   "id": "b8a70f72",
   "metadata": {},
   "outputs": [],
   "source": [
    "# URL для получения списка эпизодов сериала \"Сверхъестественное\"\n"
   ]
  },
  {
   "cell_type": "code",
   "execution_count": null,
   "id": "2ae295d1",
   "metadata": {},
   "outputs": [],
   "source": [
    "# отправляем GET-запрос и получаем ответ в формате JSON\n",
    "\n",
    "# преобразуем JSON в список\n"
   ]
  },
  {
   "cell_type": "code",
   "execution_count": null,
   "id": "1efa03fb",
   "metadata": {},
   "outputs": [],
   "source": [
    "# формируем DataFrame на основании списка с данными по каждой серии\n"
   ]
  },
  {
   "cell_type": "code",
   "execution_count": null,
   "id": "e4f0482a",
   "metadata": {},
   "outputs": [],
   "source": [
    "# находим данные о серии с минимальным рейтингом\n"
   ]
  },
  {
   "cell_type": "code",
   "execution_count": null,
   "id": "3b1b3342",
   "metadata": {},
   "outputs": [],
   "source": [
    "# находим данные о серии с максимальным рейтингом\n"
   ]
  },
  {
   "cell_type": "code",
   "execution_count": null,
   "id": "35514e68",
   "metadata": {},
   "outputs": [],
   "source": [
    "# группируем данные и вычисляем средний рейтинг для каждого сезона\n"
   ]
  },
  {
   "cell_type": "code",
   "execution_count": null,
   "id": "e18f1b80",
   "metadata": {},
   "outputs": [],
   "source": [
    "# строим столбчатую диаграмму рейтинга сезонов сериала \"Сверхъестественное\"\n"
   ]
  },
  {
   "cell_type": "markdown",
   "id": "544470ac",
   "metadata": {},
   "source": [
    "**Выводы по графику**: "
   ]
  },
  {
   "cell_type": "markdown",
   "id": "194c7c44",
   "metadata": {},
   "source": [
    "### **Работа с GitHub API через GraphQL**"
   ]
  },
  {
   "cell_type": "markdown",
   "id": "90b86309",
   "metadata": {},
   "source": [
    "https://api.github.com/graphql - базовый адрес для GraphQL-запросов к GitHub\n",
    "\n",
    "https://docs.github.com/ru/graphql - документация GitHub GraphQL API"
   ]
  },
  {
   "cell_type": "markdown",
   "id": "d0b1c7c7",
   "metadata": {},
   "source": [
    "#### **Задание 4**"
   ]
  },
  {
   "cell_type": "markdown",
   "id": "65eaff46",
   "metadata": {},
   "source": [
    "С помощью GitHub API через GraphQL выгрузите данные о следующих репозиториях:\n",
    "Автор | Название репозитория\n",
    "------|---------------------\n",
    "pallets | flask\n",
    "django | django\n",
    "numpy | numpy\n",
    "pandas-dev | pandas\n",
    "tiangolo | fastapi\n",
    "\n",
    "На основании выгруженных данных постройте столбчатую диаграмму, отображающую количество звезд для указанных репозиториев."
   ]
  },
  {
   "cell_type": "code",
   "execution_count": null,
   "id": "98d143e7",
   "metadata": {},
   "outputs": [],
   "source": [
    "# персональный токен GitHub\n"
   ]
  },
  {
   "cell_type": "code",
   "execution_count": null,
   "id": "db905248",
   "metadata": {},
   "outputs": [],
   "source": [
    "# базовый адрес для GraphQL-запросов к GitHub\n"
   ]
  },
  {
   "cell_type": "markdown",
   "id": "76bab3c3",
   "metadata": {},
   "source": [
    "**Bearer** - это тип токена, который указывает, что доступ к ресурсу предоставляется по персональному токеном. Является обязательным механизмом при работе с GitHub API через GraphQL. "
   ]
  },
  {
   "cell_type": "code",
   "execution_count": null,
   "id": "5c1da1e2",
   "metadata": {},
   "outputs": [],
   "source": [
    "# заголовки запроса\n"
   ]
  },
  {
   "cell_type": "code",
   "execution_count": null,
   "id": "a94e550f",
   "metadata": {},
   "outputs": [],
   "source": [
    "# список кортежей (владелец, имя репозитория), для которых нужно получить число звезд\n"
   ]
  },
  {
   "cell_type": "code",
   "execution_count": null,
   "id": "068415a6",
   "metadata": {},
   "outputs": [],
   "source": [
    "# шаблон запроса GraphQL, в который подставляются owner (владелец) и name (название) каждого репозитория\n"
   ]
  },
  {
   "cell_type": "code",
   "execution_count": null,
   "id": "5833d581",
   "metadata": {},
   "outputs": [],
   "source": [
    "# список для хранения данных о репозиториях\n",
    "\n",
    "# перебираем репозитории вместе с именами владельцев\n",
    "\n",
    "    # подставляем имена владельцев и названия репозиториев в шаблон\n",
    "\n",
    "    # отправляем POST-запрос\n",
    "\n",
    "    # извлекем из полученного ответа информацию о репозитории\n",
    "\n",
    "    # добавляем в список словарь с именем репозитория и количеством звезд\n",
    "\n",
    "\n"
   ]
  },
  {
   "cell_type": "code",
   "execution_count": null,
   "id": "7678f782",
   "metadata": {},
   "outputs": [],
   "source": [
    "# формируем DataFrame на основании списка с данными о репозиториях\n"
   ]
  },
  {
   "cell_type": "code",
   "execution_count": null,
   "id": "6a92b3c8",
   "metadata": {},
   "outputs": [],
   "source": [
    "# строим столбчатую диаграмму для отображения количества звезд популярных репозиториев GitHub\n"
   ]
  },
  {
   "cell_type": "markdown",
   "id": "a17efcf7",
   "metadata": {},
   "source": [
    "#### **Задание № 5**"
   ]
  },
  {
   "cell_type": "markdown",
   "id": "bcfe70d4",
   "metadata": {},
   "source": [
    "С помощью GitHub API через GraphQL для репозитория vscode (автор microsoft) выгрузите последние 100 опубликованных issues. Постройте линейный график, отображающий количества созданных issues по часам. Проанализируйте полученный график и сделайте выводы."
   ]
  },
  {
   "cell_type": "markdown",
   "id": "4e5f095f",
   "metadata": {},
   "source": [
    "**issues** - встроенная система обсуждений, задач и отслеживания ошибок в репозиториях GitHub"
   ]
  },
  {
   "cell_type": "code",
   "execution_count": null,
   "id": "3ce25988",
   "metadata": {},
   "outputs": [],
   "source": [
    "# запрос на получение последних 100 issues из репозитория vscode, которым владеет microsoft\n"
   ]
  },
  {
   "cell_type": "code",
   "execution_count": null,
   "id": "11c97807",
   "metadata": {},
   "outputs": [],
   "source": [
    "# отправляем POST-запрос\n",
    "\n",
    "# извлекаем из полученного ответа информацию о созданных issues\n"
   ]
  },
  {
   "cell_type": "code",
   "execution_count": null,
   "id": "0353fc36",
   "metadata": {},
   "outputs": [],
   "source": [
    "# преобразуем полученный список в датафрейм\n"
   ]
  },
  {
   "cell_type": "code",
   "execution_count": null,
   "id": "f00c6eae",
   "metadata": {},
   "outputs": [],
   "source": [
    "# преобразуем столбец createdAt в формат datetime\n",
    "\n",
    "# создаем столбец с часами, округляя вниз\n"
   ]
  },
  {
   "cell_type": "code",
   "execution_count": null,
   "id": "820f6027",
   "metadata": {},
   "outputs": [],
   "source": [
    "# группируем данные и подсчитываем количество issues для каждого часа\n"
   ]
  },
  {
   "cell_type": "code",
   "execution_count": null,
   "id": "6a3f85e7",
   "metadata": {},
   "outputs": [],
   "source": [
    "# строим линейный график для отображения количества созданных issues по часам в репозитории vscode\n"
   ]
  },
  {
   "cell_type": "markdown",
   "id": "3bcfa775",
   "metadata": {},
   "source": [
    "**Выводы по графику**:"
   ]
  }
 ],
 "metadata": {
  "kernelspec": {
   "display_name": "Python 3",
   "language": "python",
   "name": "python3"
  },
  "language_info": {
   "codemirror_mode": {
    "name": "ipython",
    "version": 3
   },
   "file_extension": ".py",
   "mimetype": "text/x-python",
   "name": "python",
   "nbconvert_exporter": "python",
   "pygments_lexer": "ipython3",
   "version": "3.13.0"
  }
 },
 "nbformat": 4,
 "nbformat_minor": 5
}
