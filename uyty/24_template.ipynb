{
 "cells": [
  {
   "cell_type": "markdown",
   "id": "f14b65f9",
   "metadata": {},
   "source": [
    "## **Парсинг**"
   ]
  },
  {
   "cell_type": "markdown",
   "id": "0d61e075",
   "metadata": {},
   "source": [
    "### **Введение в парсинг**"
   ]
  },
  {
   "cell_type": "markdown",
   "id": "bde8ec84",
   "metadata": {},
   "source": [
    "**Парсинг** - процесс анализа и извлечения нужной информации из текста, чаще всего структурированного (HTML, XML, JSON и т.д.)."
   ]
  },
  {
   "cell_type": "markdown",
   "id": "a4f78670",
   "metadata": {},
   "source": [
    "### **Протокол SOAP**"
   ]
  },
  {
   "cell_type": "markdown",
   "id": "cd8c42ae",
   "metadata": {},
   "source": [
    "**SOAP** (Simple Object Access Protocol) - протокол обмена данными между сервисами. Используется для отправки запросов и получения ответов по сети. Основан на работе с форматом `XML`."
   ]
  },
  {
   "cell_type": "markdown",
   "id": "ae9f3853",
   "metadata": {},
   "source": [
    "**XML** (eXtensible Markup Language) - текстовый файл, в котором данные структурированы с помощью **тегов**, очень похожих на `HTML`."
   ]
  },
  {
   "cell_type": "markdown",
   "id": "f09ceddf",
   "metadata": {},
   "source": [
    "### **Библиотека BeautifulSoup**"
   ]
  },
  {
   "cell_type": "markdown",
   "id": "8384b26f",
   "metadata": {},
   "source": [
    "**BeautifulSoup** - библиотека для удобного парсинга HTML и XML."
   ]
  },
  {
   "cell_type": "markdown",
   "id": "8f9197c6",
   "metadata": {},
   "source": [
    "https://beautiful-soup-4.readthedocs.io/en/latest/ - официальная документация BeautifulSoup"
   ]
  },
  {
   "cell_type": "markdown",
   "id": "6464e619",
   "metadata": {},
   "source": [
    "`BeautifulSoup` является **сторонней** библиотекой, поэтому требуется дополнительная установка:"
   ]
  },
  {
   "cell_type": "code",
   "execution_count": null,
   "id": "b16a3942",
   "metadata": {},
   "outputs": [],
   "source": []
  },
  {
   "cell_type": "markdown",
   "id": "1821ddb5",
   "metadata": {},
   "source": [
    "Также нам дополнительно понадобится библиотека `lxml` для более **быстрого** и **удобного** парсинга файлов."
   ]
  },
  {
   "cell_type": "code",
   "execution_count": null,
   "id": "9d34d830",
   "metadata": {},
   "outputs": [],
   "source": []
  },
  {
   "cell_type": "markdown",
   "id": "d9abf7e2",
   "metadata": {},
   "source": [
    "Импортируем библиотеку BeautifulSoup:"
   ]
  },
  {
   "cell_type": "code",
   "execution_count": null,
   "id": "025d1493",
   "metadata": {},
   "outputs": [],
   "source": []
  },
  {
   "cell_type": "markdown",
   "id": "f357f612",
   "metadata": {},
   "source": [
    "Рассмотрим пример парсинга HTML-кода. Представим, что у нас уже есть выгруженный HTML-код с некоторой веб-страницы:"
   ]
  },
  {
   "cell_type": "code",
   "execution_count": 2,
   "id": "9c8fc62d",
   "metadata": {},
   "outputs": [],
   "source": [
    "html_data = '''\n",
    "<html>\n",
    " <head><title>Пример страницы</title></head>\n",
    " <body>\n",
    "  <h1>Добро пожаловать!</h1>\n",
    "  <p class=\"info\">Сегодня отличная погода</p>\n",
    "  <a href=\"https://example.com\">Перейти</a>\n",
    " </body>\n",
    "</html>\n",
    "'''"
   ]
  },
  {
   "cell_type": "markdown",
   "id": "e009e0a6",
   "metadata": {},
   "source": [
    "Далее передадим строку c HTML-кодом в конструктор класса `BeautifulSoup`:"
   ]
  },
  {
   "cell_type": "code",
   "execution_count": null,
   "id": "27f2d221",
   "metadata": {},
   "outputs": [],
   "source": []
  },
  {
   "cell_type": "markdown",
   "id": "48ae4b48",
   "metadata": {},
   "source": [
    "Посмотрим на основные **атрибуты**, которые есть у объекта `soup`:"
   ]
  },
  {
   "cell_type": "markdown",
   "id": "85d7a844",
   "metadata": {},
   "source": [
    "`title` - поиск первого тега `<title>`\n",
    "\n",
    "`text` - выгрузка **текста** из указанного тега"
   ]
  },
  {
   "cell_type": "code",
   "execution_count": null,
   "id": "02045205",
   "metadata": {},
   "outputs": [],
   "source": []
  },
  {
   "cell_type": "markdown",
   "id": "b0e2131f",
   "metadata": {},
   "source": [
    "`h1` - поиск первого тега `<h1>`"
   ]
  },
  {
   "cell_type": "code",
   "execution_count": null,
   "id": "ba6748fe",
   "metadata": {},
   "outputs": [],
   "source": []
  },
  {
   "cell_type": "markdown",
   "id": "8ba6e9a9",
   "metadata": {},
   "source": [
    "`find()` – метод для поиска **первого** подходящего тега в HTML или XML-документе по заданным критериям"
   ]
  },
  {
   "cell_type": "code",
   "execution_count": null,
   "id": "26728c98",
   "metadata": {},
   "outputs": [],
   "source": []
  },
  {
   "cell_type": "markdown",
   "id": "3da311dc",
   "metadata": {},
   "source": [
    "`attrs` - словарь, содержащий все атрибуты тега"
   ]
  },
  {
   "cell_type": "code",
   "execution_count": null,
   "id": "eab29b06",
   "metadata": {},
   "outputs": [],
   "source": []
  },
  {
   "cell_type": "markdown",
   "id": "dc823fac",
   "metadata": {},
   "source": [
    "Доступ к отдельным атрибутам тега:"
   ]
  },
  {
   "cell_type": "code",
   "execution_count": null,
   "id": "44a1196e",
   "metadata": {},
   "outputs": [],
   "source": []
  },
  {
   "cell_type": "markdown",
   "id": "b90c8606",
   "metadata": {},
   "source": [
    "Теперь рассмотрим пример парсинга XML-кода. Представим, что мы получили от веб-сервиса по протоколу SOAP следующий ответ:"
   ]
  },
  {
   "cell_type": "code",
   "execution_count": 11,
   "id": "f82e1d1e",
   "metadata": {},
   "outputs": [],
   "source": [
    "soap_response = '''\n",
    "<?xml version=\"1.0\" encoding=\"utf-8\"?>\n",
    "<soap:Envelope xmlns:soap=\"http://schemas.xmlsoap.org/soap/envelope/\">\n",
    "  <soap:Body>\n",
    "    <GetWeatherResponse xmlns=\"http://example.com/weather\">\n",
    "      <GetWeatherResult>\n",
    "        <City>Москва</City>\n",
    "        <Temperature>15</Temperature>\n",
    "        <Condition>Облачно</Condition>\n",
    "      </GetWeatherResult>\n",
    "    </GetWeatherResponse>\n",
    "  </soap:Body>\n",
    "</soap:Envelope>\n",
    "'''"
   ]
  },
  {
   "cell_type": "markdown",
   "id": "ca7d9877",
   "metadata": {},
   "source": [
    "Создадим объект `BeautifulSoup`, чтобы провести парсинг полученного XML-документа:"
   ]
  },
  {
   "cell_type": "code",
   "execution_count": null,
   "id": "34153c02",
   "metadata": {},
   "outputs": [],
   "source": []
  },
  {
   "cell_type": "markdown",
   "id": "ff409d4c",
   "metadata": {},
   "source": [
    "Найдем нужные **теги**, чтобы выгрузить данные о названии города, температуре и состоянии погоды:"
   ]
  },
  {
   "cell_type": "code",
   "execution_count": null,
   "id": "07160f0a",
   "metadata": {},
   "outputs": [],
   "source": []
  },
  {
   "cell_type": "markdown",
   "id": "f1c7c497",
   "metadata": {},
   "source": [
    "Если мы попробуем указать другой парсер, то при поиске тегов произойдет **ошибка**:"
   ]
  },
  {
   "cell_type": "code",
   "execution_count": null,
   "id": "393cda05",
   "metadata": {},
   "outputs": [],
   "source": []
  },
  {
   "cell_type": "markdown",
   "id": "c5de5d2b",
   "metadata": {},
   "source": [
    "Выведем на экран полученную информацию:"
   ]
  },
  {
   "cell_type": "code",
   "execution_count": null,
   "id": "d38429a1",
   "metadata": {},
   "outputs": [],
   "source": []
  },
  {
   "cell_type": "markdown",
   "id": "83084d9d",
   "metadata": {},
   "source": [
    "### **Парсинг курса валют с сайта Центробанка**"
   ]
  },
  {
   "cell_type": "markdown",
   "id": "5a62d5f0",
   "metadata": {},
   "source": [
    "Сайт Центробанка России публикует ежедневные курсы валют в `XML`-формате. Эти данные можно получить по ссылке:\n",
    "\n",
    "https://www.cbr.ru/scripts/XML_daily.asp"
   ]
  },
  {
   "cell_type": "markdown",
   "id": "51be7e38",
   "metadata": {},
   "source": [
    "Наша задача - написать программу, которая:\n",
    "\n",
    "1. Загружает `XML`-файл с сайта Центробанка\n",
    "2. Извлекает информацию о валюте: **название**, **буквенный код**, **номинал** и **курс в рублях**.\n",
    "3. Выводит на экран курс **доллара США** (USD), **евро** (EUR) и **норвежских крон** (NOK)\n",
    "4. Строит **столбчатую диаграмму**, отображающую курс валют с номиналом = `1`"
   ]
  },
  {
   "cell_type": "markdown",
   "id": "d3c1c6d2",
   "metadata": {},
   "source": [
    "Начнем с того, что подключим нужные библиотеки:"
   ]
  },
  {
   "cell_type": "code",
   "execution_count": null,
   "id": "a2c20dd1",
   "metadata": {},
   "outputs": [],
   "source": []
  },
  {
   "cell_type": "markdown",
   "id": "70424267",
   "metadata": {},
   "source": [
    "Объявим строку, где будем хранить URL сайта Центробанка:"
   ]
  },
  {
   "cell_type": "code",
   "execution_count": null,
   "id": "75b214c4",
   "metadata": {},
   "outputs": [],
   "source": []
  },
  {
   "cell_type": "markdown",
   "id": "187d3d4c",
   "metadata": {},
   "source": [
    "Отправляем `GET`-запрос и получаем ответ:"
   ]
  },
  {
   "cell_type": "code",
   "execution_count": null,
   "id": "fb51bb91",
   "metadata": {},
   "outputs": [],
   "source": []
  },
  {
   "cell_type": "markdown",
   "id": "aab6d895",
   "metadata": {},
   "source": [
    "Парсим XML-ответ с помощью `BeautifulSoup`:"
   ]
  },
  {
   "cell_type": "code",
   "execution_count": null,
   "id": "85e97993",
   "metadata": {},
   "outputs": [],
   "source": []
  },
  {
   "cell_type": "markdown",
   "id": "b2630fe2",
   "metadata": {},
   "source": [
    "`find_all()` - метод для поиска всех тегов в `HTML` или `XML`-документе, которые соответствуют заданному условию."
   ]
  },
  {
   "cell_type": "code",
   "execution_count": null,
   "id": "d6fddf87",
   "metadata": {},
   "outputs": [],
   "source": []
  },
  {
   "cell_type": "markdown",
   "id": "2ebee71e",
   "metadata": {},
   "source": [
    "Создаем **пустой словарь** для хранения информации о валютах:"
   ]
  },
  {
   "cell_type": "code",
   "execution_count": null,
   "id": "0929d329",
   "metadata": {},
   "outputs": [],
   "source": []
  },
  {
   "cell_type": "markdown",
   "id": "5406acc6",
   "metadata": {},
   "source": [
    "Перебираем найденные валюты и извлекаем нужные данные:"
   ]
  },
  {
   "cell_type": "code",
   "execution_count": null,
   "id": "88d75d6c",
   "metadata": {},
   "outputs": [],
   "source": []
  },
  {
   "cell_type": "markdown",
   "id": "f9550e29",
   "metadata": {},
   "source": [
    "Выводим данные для нужных валют (`USD`, `EUR`, `NOK`):"
   ]
  },
  {
   "cell_type": "code",
   "execution_count": null,
   "id": "8965d29f",
   "metadata": {},
   "outputs": [],
   "source": []
  },
  {
   "cell_type": "markdown",
   "id": "d6c02bee",
   "metadata": {},
   "source": [
    "Перейдем к построению столбчатой диаграммы. Начнем с создания дата-фрейма на основании словаря `currency_data`:"
   ]
  },
  {
   "cell_type": "code",
   "execution_count": null,
   "id": "72200d18",
   "metadata": {},
   "outputs": [],
   "source": []
  },
  {
   "cell_type": "markdown",
   "id": "2dc41e7f",
   "metadata": {},
   "source": [
    "`from_dict()` - метод для создания дата-фрейма из словаря "
   ]
  },
  {
   "cell_type": "code",
   "execution_count": null,
   "id": "47a73f3c",
   "metadata": {},
   "outputs": [],
   "source": []
  },
  {
   "cell_type": "markdown",
   "id": "8d144321",
   "metadata": {},
   "source": [
    "Дата-фрейм готов, теперь оставим только те строки, где **номинал равен 1**:"
   ]
  },
  {
   "cell_type": "code",
   "execution_count": null,
   "id": "67f6b14c",
   "metadata": {},
   "outputs": [],
   "source": []
  },
  {
   "cell_type": "markdown",
   "id": "ed946b90",
   "metadata": {},
   "source": [
    "Финальное действие - строим столбчатую диаграмму, где на оси `Х` отобразим название валюты, а по оси `Y` - ее курс в рублях:"
   ]
  },
  {
   "cell_type": "code",
   "execution_count": null,
   "id": "f3be3383",
   "metadata": {},
   "outputs": [],
   "source": []
  }
 ],
 "metadata": {
  "kernelspec": {
   "display_name": "Python 3",
   "language": "python",
   "name": "python3"
  },
  "language_info": {
   "codemirror_mode": {
    "name": "ipython",
    "version": 3
   },
   "file_extension": ".py",
   "mimetype": "text/x-python",
   "name": "python",
   "nbconvert_exporter": "python",
   "pygments_lexer": "ipython3",
   "version": "3.13.0"
  }
 },
 "nbformat": 4,
 "nbformat_minor": 5
}
