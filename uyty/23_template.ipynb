{
 "cells": [
  {
   "cell_type": "markdown",
   "id": "7f2fb95a",
   "metadata": {},
   "source": [
    "## **Работа с API II**"
   ]
  },
  {
   "cell_type": "markdown",
   "id": "cd8eb028",
   "metadata": {},
   "source": [
    "### **Основы GraphQL**"
   ]
  },
  {
   "cell_type": "markdown",
   "id": "bdb8c921",
   "metadata": {},
   "source": [
    "**GraphQL** — язык запросов и среда выполнения, которая позволяет клиенту точно указывать, какие данные ему нужны из API.\n",
    "\n",
    "Документация GraphQL: https://graphql.org/"
   ]
  },
  {
   "cell_type": "markdown",
   "id": "b7a78d52",
   "metadata": {},
   "source": [
    "Пример запроса с помощью GraphQL:\n",
    "<pre>\n",
    "{\n",
    "  user(id: \"123\") {\n",
    "    name\n",
    "    email\n",
    "  }\n",
    "}\n",
    "</pre>"
   ]
  },
  {
   "cell_type": "markdown",
   "id": "8917f10f",
   "metadata": {},
   "source": [
    "### **Ключевые понятия и элементы GraphQL**"
   ]
  },
  {
   "cell_type": "markdown",
   "id": "a4fe202c",
   "metadata": {},
   "source": [
    "**Схема (Schema)** - определяет форму и связи данных, которые можно запрашивать через GraphQL."
   ]
  },
  {
   "cell_type": "markdown",
   "id": "8cdfa9b9",
   "metadata": {},
   "source": [
    "Примеры схем:\n",
    "\n",
    "<pre> \n",
    "type User { \n",
    "  id: ID! \n",
    "  name: String \n",
    "  email: String \n",
    "  posts: [Post] \n",
    "} \n",
    "\n",
    "type Post { \n",
    "  id: ID! \n",
    "  title: String \n",
    "  content: String \n",
    "} \n",
    "</pre>"
   ]
  },
  {
   "cell_type": "markdown",
   "id": "d38ecab2",
   "metadata": {},
   "source": [
    "**Query** - используется для **получения** данных. Является аналогом `GET` в REST API."
   ]
  },
  {
   "cell_type": "markdown",
   "id": "a0d689fc",
   "metadata": {},
   "source": [
    "Пример query-запроса:\n",
    "\n",
    "<pre>\n",
    "{\n",
    "  book(id: \"abc123\") {\n",
    "    title\n",
    "    author {\n",
    "      name\n",
    "    }\n",
    "  }\n",
    "}\n",
    "</pre>"
   ]
  },
  {
   "cell_type": "markdown",
   "id": "f103d95a",
   "metadata": {},
   "source": [
    "**Mutation** - используется для **изменения** данных (создания, обновления, удаления). Является аналогом `POST`, `PUT`, `DELETE` в REST API."
   ]
  },
  {
   "cell_type": "markdown",
   "id": "784d3857",
   "metadata": {},
   "source": [
    "Пример mutation-запроса:\n",
    "\n",
    "<pre>\n",
    "mutation {\n",
    "  addBook(title: \"New Book\", authorId: \"12\") {\n",
    "    id\n",
    "    title\n",
    "  }\n",
    "}\n",
    "</pre>"
   ]
  },
  {
   "cell_type": "markdown",
   "id": "99bb4b26",
   "metadata": {},
   "source": [
    "### **Работа с публичным GraphQL API**"
   ]
  },
  {
   "cell_type": "markdown",
   "id": "5e84c6d9",
   "metadata": {},
   "source": [
    "Сегодня мы будем использовать публичный GraphQL API, который содержит информацию о **странах**: их код, название, язык, валюту и т.д.\n",
    "\n",
    "https://countries.trevorblades.com/\n",
    "\n",
    "Данный API не требует авторизации и содержит встроенный **GraphQL Playground** (интерфейс прямо в браузере)."
   ]
  },
  {
   "cell_type": "markdown",
   "id": "faa56fb3",
   "metadata": {},
   "source": [
    "#### **Составление запросов в GraphQL Playground**"
   ]
  },
  {
   "cell_type": "markdown",
   "id": "b1f70d5b",
   "metadata": {},
   "source": [
    "##### **Задание 1**"
   ]
  },
  {
   "cell_type": "markdown",
   "id": "65d1cd59",
   "metadata": {},
   "source": [
    "Создайте запрос, чтобы получить названия и коды всех стран."
   ]
  },
  {
   "cell_type": "markdown",
   "id": "e0a0e31b",
   "metadata": {},
   "source": [
    "##### **Задание 2**"
   ]
  },
  {
   "cell_type": "markdown",
   "id": "4029040d",
   "metadata": {},
   "source": [
    "Создайте запрос с вложенными данными, чтобы получить названия стран, используемую валюту и список официальных языков."
   ]
  },
  {
   "cell_type": "markdown",
   "id": "86619a2a",
   "metadata": {},
   "source": [
    "### **Составление запросов в Python**"
   ]
  },
  {
   "cell_type": "markdown",
   "id": "14b5a410",
   "metadata": {},
   "source": [
    "Для отправки GraphQL-запросов через Python нам понадобится библиотека `requests`:"
   ]
  },
  {
   "cell_type": "code",
   "execution_count": null,
   "id": "03437109",
   "metadata": {},
   "outputs": [],
   "source": []
  },
  {
   "cell_type": "markdown",
   "id": "b753f1fc",
   "metadata": {},
   "source": [
    "Создадим строку с URL используемого API:"
   ]
  },
  {
   "cell_type": "code",
   "execution_count": null,
   "id": "98d04421",
   "metadata": {},
   "outputs": [],
   "source": []
  },
  {
   "cell_type": "markdown",
   "id": "9a724940",
   "metadata": {},
   "source": [
    "Объявим объект `query`, в котором будет храниться запрос в строковом формате:"
   ]
  },
  {
   "cell_type": "code",
   "execution_count": null,
   "id": "2b71c83d",
   "metadata": {},
   "outputs": [],
   "source": []
  },
  {
   "cell_type": "markdown",
   "id": "bbc906b7",
   "metadata": {},
   "source": [
    "Отправим `POST`-запрос:"
   ]
  },
  {
   "cell_type": "code",
   "execution_count": null,
   "id": "c0d3433c",
   "metadata": {},
   "outputs": [],
   "source": []
  },
  {
   "cell_type": "markdown",
   "id": "809a0868",
   "metadata": {},
   "source": [
    "Посмотрим на полученный результат:"
   ]
  },
  {
   "cell_type": "code",
   "execution_count": null,
   "id": "94ab2a47",
   "metadata": {},
   "outputs": [],
   "source": []
  },
  {
   "cell_type": "markdown",
   "id": "b5fac39d",
   "metadata": {},
   "source": [
    "Добавим **проверку**, что запрос выполнился успешно:"
   ]
  },
  {
   "cell_type": "code",
   "execution_count": null,
   "id": "748760df",
   "metadata": {},
   "outputs": [],
   "source": []
  },
  {
   "cell_type": "markdown",
   "id": "e0007879",
   "metadata": {},
   "source": [
    "##### **Задание 3**"
   ]
  },
  {
   "cell_type": "markdown",
   "id": "df9bd025",
   "metadata": {},
   "source": [
    "Напишите запрос с помощью GraphQL, который вернет все страны с их названиями и указанием континента. Постройте столбчатую диаграмму, где на оси `Х` будут названия континентов, на оси `Y` - количество стран для указанных континентов."
   ]
  },
  {
   "cell_type": "markdown",
   "id": "5486c366",
   "metadata": {},
   "source": [
    "Подключим необходимые библиотеки:"
   ]
  },
  {
   "cell_type": "code",
   "execution_count": null,
   "id": "e3c5b80d",
   "metadata": {},
   "outputs": [],
   "source": []
  },
  {
   "cell_type": "markdown",
   "id": "48d15fcf",
   "metadata": {},
   "source": [
    "Создадим строку с запросом:"
   ]
  },
  {
   "cell_type": "code",
   "execution_count": null,
   "id": "4562f951",
   "metadata": {},
   "outputs": [],
   "source": []
  },
  {
   "cell_type": "markdown",
   "id": "5839f11c",
   "metadata": {},
   "source": [
    "Отправим запрос и проверим, что он выполнился успешно:"
   ]
  },
  {
   "cell_type": "code",
   "execution_count": null,
   "id": "ba3be99a",
   "metadata": {},
   "outputs": [],
   "source": []
  },
  {
   "cell_type": "markdown",
   "id": "6a676025",
   "metadata": {},
   "source": [
    "Создаем список стран и соответствующих им континентов с помощью генератора списков:"
   ]
  },
  {
   "cell_type": "code",
   "execution_count": null,
   "id": "dd6cf5f6",
   "metadata": {},
   "outputs": [],
   "source": []
  },
  {
   "cell_type": "markdown",
   "id": "80daf27f",
   "metadata": {},
   "source": [
    "Создаем DataFrame на основании полученного списка:"
   ]
  },
  {
   "cell_type": "code",
   "execution_count": null,
   "id": "0c83f030",
   "metadata": {},
   "outputs": [],
   "source": []
  },
  {
   "cell_type": "markdown",
   "id": "ec194b31",
   "metadata": {},
   "source": [
    "Подсчитаем количество стран по континентам:"
   ]
  },
  {
   "cell_type": "code",
   "execution_count": null,
   "id": "bac06747",
   "metadata": {},
   "outputs": [],
   "source": []
  },
  {
   "cell_type": "markdown",
   "id": "f86f8354",
   "metadata": {},
   "source": [
    "Построим столбчатую диаграмму на основании полученных данных:"
   ]
  },
  {
   "cell_type": "code",
   "execution_count": null,
   "id": "5fe8d2ef",
   "metadata": {},
   "outputs": [],
   "source": []
  },
  {
   "cell_type": "markdown",
   "id": "1a499769",
   "metadata": {},
   "source": [
    "##### **Задание 4**"
   ]
  },
  {
   "cell_type": "markdown",
   "id": "133e9ae3",
   "metadata": {},
   "source": [
    "Составьте запрос, который возвращает список с языками, на которых говорят во всех странах. Постройте круговую диаграмму, отображающую Топ-10 используемых языков среди всех стран. "
   ]
  },
  {
   "cell_type": "markdown",
   "id": "68079e51",
   "metadata": {},
   "source": [
    "Создаем строку с запросом:"
   ]
  },
  {
   "cell_type": "code",
   "execution_count": null,
   "id": "e912ff30",
   "metadata": {},
   "outputs": [],
   "source": []
  },
  {
   "cell_type": "markdown",
   "id": "50e302a7",
   "metadata": {},
   "source": [
    "Отправим запрос и проверим, что он выполнился успешно:"
   ]
  },
  {
   "cell_type": "code",
   "execution_count": null,
   "id": "035629b2",
   "metadata": {},
   "outputs": [],
   "source": []
  },
  {
   "cell_type": "markdown",
   "id": "da6923e5",
   "metadata": {},
   "source": [
    "Создаем список для хранения языков:"
   ]
  },
  {
   "cell_type": "code",
   "execution_count": null,
   "id": "23aa253c",
   "metadata": {},
   "outputs": [],
   "source": []
  },
  {
   "cell_type": "markdown",
   "id": "57dd8c2e",
   "metadata": {},
   "source": [
    "Создаем серию на основании полученного списка:"
   ]
  },
  {
   "cell_type": "code",
   "execution_count": null,
   "id": "200215dc",
   "metadata": {},
   "outputs": [],
   "source": []
  },
  {
   "cell_type": "markdown",
   "id": "47ef0006",
   "metadata": {},
   "source": [
    "Подсчитываем количество стран, говорящих на каждом языке и оставляем Топ-10:"
   ]
  },
  {
   "cell_type": "code",
   "execution_count": null,
   "id": "b7770234",
   "metadata": {},
   "outputs": [],
   "source": []
  },
  {
   "cell_type": "markdown",
   "id": "91ff1508",
   "metadata": {},
   "source": [
    "Строим круговую диаграмму:"
   ]
  },
  {
   "cell_type": "code",
   "execution_count": null,
   "id": "4ba6c03a",
   "metadata": {},
   "outputs": [],
   "source": []
  },
  {
   "cell_type": "markdown",
   "id": "7ec6068f",
   "metadata": {},
   "source": [
    "##### **Задание 5**"
   ]
  },
  {
   "cell_type": "markdown",
   "id": "31277960",
   "metadata": {},
   "source": [
    "Составьте GraphQL-запрос, который по коду страны возвращает:\n",
    "- Название страны\n",
    "- Столицу\n",
    "- Валюту\n",
    "- Список языков\n",
    "\n",
    "Выведите на экран полученные данные."
   ]
  },
  {
   "cell_type": "markdown",
   "id": "9af9662f",
   "metadata": {},
   "source": [
    "Укажем код страны для России:"
   ]
  },
  {
   "cell_type": "code",
   "execution_count": null,
   "id": "9d77b7fc",
   "metadata": {},
   "outputs": [],
   "source": []
  },
  {
   "cell_type": "markdown",
   "id": "74df2ca6",
   "metadata": {},
   "source": [
    "Создадим **f-строку** с запросом, подставив код страны в качестве значения для параметра `code`:"
   ]
  },
  {
   "cell_type": "code",
   "execution_count": null,
   "id": "a15d2435",
   "metadata": {},
   "outputs": [],
   "source": []
  },
  {
   "cell_type": "markdown",
   "id": "2c0d78b1",
   "metadata": {},
   "source": [
    "Отправим запрос и проверим, что он выполнился успешно:"
   ]
  },
  {
   "cell_type": "code",
   "execution_count": null,
   "id": "6c84b1e9",
   "metadata": {},
   "outputs": [],
   "source": []
  },
  {
   "cell_type": "markdown",
   "id": "efab6016",
   "metadata": {},
   "source": [
    "Оставим нужные данные о стране, убрав все ненужные уровни вложенности:"
   ]
  },
  {
   "cell_type": "code",
   "execution_count": null,
   "id": "0da0b0d1",
   "metadata": {},
   "outputs": [],
   "source": []
  },
  {
   "cell_type": "markdown",
   "id": "a4d4f37b",
   "metadata": {},
   "source": [
    "Сформируем DataFrame на основании полученного словаря:"
   ]
  },
  {
   "cell_type": "code",
   "execution_count": null,
   "id": "697674ff",
   "metadata": {},
   "outputs": [],
   "source": []
  },
  {
   "cell_type": "markdown",
   "id": "697e8df4",
   "metadata": {},
   "source": [
    "Преобразуем однострочный DataFrame в **вертикальную таблицу** для более красивого вывода:"
   ]
  },
  {
   "cell_type": "code",
   "execution_count": null,
   "id": "7fba9e8e",
   "metadata": {},
   "outputs": [],
   "source": []
  }
 ],
 "metadata": {
  "kernelspec": {
   "display_name": "Python 3",
   "language": "python",
   "name": "python3"
  },
  "language_info": {
   "codemirror_mode": {
    "name": "ipython",
    "version": 3
   },
   "file_extension": ".py",
   "mimetype": "text/x-python",
   "name": "python",
   "nbconvert_exporter": "python",
   "pygments_lexer": "ipython3",
   "version": "3.13.0"
  }
 },
 "nbformat": 4,
 "nbformat_minor": 5
}
